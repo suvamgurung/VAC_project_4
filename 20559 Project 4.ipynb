{
 "cells": [
  {
   "cell_type": "markdown",
   "id": "55988d78-fa67-4be1-8332-c54f1df1f724",
   "metadata": {},
   "source": [
    "# Project 4"
   ]
  },
  {
   "cell_type": "markdown",
   "id": "548e56d0-3db9-48ce-976e-371c5b1db129",
   "metadata": {
    "tags": []
   },
   "source": [
    "### Getting Dataset - Breast Cancer"
   ]
  },
  {
   "cell_type": "code",
   "execution_count": 1,
   "id": "0832766b-8f1d-4aa9-a0de-0b5e085d7acd",
   "metadata": {},
   "outputs": [],
   "source": [
    "import pandas as pd\n",
    "from sklearn.datasets import load_breast_cancer\n",
    "df = pd.DataFrame(load_breast_cancer()['data'], columns=load_breast_cancer()['feature_names'])\n",
    "df['y'] = load_breast_cancer()['target'] "
   ]
  },
  {
   "cell_type": "markdown",
   "id": "ed2660f4-f48e-41d2-ae17-802f8e3e7830",
   "metadata": {},
   "source": [
    "Conclusion: df has all the breast cancer data including the target column."
   ]
  },
  {
   "cell_type": "code",
   "execution_count": 2,
   "id": "25cc38e8-8fa6-4faa-94ea-b50574fc60a9",
   "metadata": {},
   "outputs": [
    {
     "data": {
      "text/plain": [
       "Index(['mean radius', 'mean texture', 'mean perimeter', 'mean area',\n",
       "       'mean smoothness', 'mean compactness', 'mean concavity',\n",
       "       'mean concave points', 'mean symmetry', 'mean fractal dimension',\n",
       "       'radius error', 'texture error', 'perimeter error', 'area error',\n",
       "       'smoothness error', 'compactness error', 'concavity error',\n",
       "       'concave points error', 'symmetry error', 'fractal dimension error',\n",
       "       'worst radius', 'worst texture', 'worst perimeter', 'worst area',\n",
       "       'worst smoothness', 'worst compactness', 'worst concavity',\n",
       "       'worst concave points', 'worst symmetry', 'worst fractal dimension',\n",
       "       'y'],\n",
       "      dtype='object')"
      ]
     },
     "execution_count": 2,
     "metadata": {},
     "output_type": "execute_result"
    }
   ],
   "source": [
    "df.columns"
   ]
  },
  {
   "cell_type": "markdown",
   "id": "23a602f7-e14c-4075-b3db-2b7d5e1a9d4b",
   "metadata": {},
   "source": [
    "df.head(2)"
   ]
  },
  {
   "cell_type": "markdown",
   "id": "1aaef221-a15e-484a-aef9-ed17ec17db9c",
   "metadata": {
    "tags": []
   },
   "source": [
    "### Data Preprocessing Steps"
   ]
  },
  {
   "cell_type": "markdown",
   "id": "b6984bde-5f5f-40ec-8adc-f22fe02b548b",
   "metadata": {
    "jp-MarkdownHeadingCollapsed": true,
    "tags": []
   },
   "source": [
    "#### 1. Find and handle missing data"
   ]
  },
  {
   "cell_type": "code",
   "execution_count": 3,
   "id": "e3e64f8b-d327-459c-88a8-dcbf1ff7dec1",
   "metadata": {},
   "outputs": [
    {
     "data": {
      "text/plain": [
       "0"
      ]
     },
     "execution_count": 3,
     "metadata": {},
     "output_type": "execute_result"
    }
   ],
   "source": [
    "# 1. df.null(): Returns Boolean value for each cell in the dataframe.\n",
    "# 2. df.null().any(): Returns Boolean value for each coulmn in the dataframe.\n",
    "# 3. df.null().any().sum(): Return No. of True values in the entire dataframe.\n",
    "# Logical Application Sequence: 3,2,1\n",
    "df.isnull().any().sum()"
   ]
  },
  {
   "cell_type": "markdown",
   "id": "65af9e0d-629f-49e7-9c3d-369c50124694",
   "metadata": {},
   "source": [
    "Conclusion: No Null or Missing Values"
   ]
  },
  {
   "cell_type": "markdown",
   "id": "07489f8a-c0ac-4018-8a9f-4419300acfd7",
   "metadata": {
    "jp-MarkdownHeadingCollapsed": true,
    "tags": []
   },
   "source": [
    "#### 2. Removing Duplicates"
   ]
  },
  {
   "cell_type": "code",
   "execution_count": 4,
   "id": "8604a6d9-fb11-45a0-bb72-8c3d93bf759f",
   "metadata": {},
   "outputs": [
    {
     "data": {
      "text/plain": [
       "False"
      ]
     },
     "execution_count": 4,
     "metadata": {},
     "output_type": "execute_result"
    }
   ],
   "source": [
    "# df.duplicated(): Returns duplicate rows with a boolead value\n",
    "# df.duplicated().any(): Returns Ture Boolean value if there are any duplicate row/s present in the dataframe, False otherwise.\n",
    "df.duplicated().any()"
   ]
  },
  {
   "cell_type": "markdown",
   "id": "8d8e72ec-f875-4bc5-aebb-98ff6aee6d53",
   "metadata": {},
   "source": [
    "Conclusion: No Duplicate Rows"
   ]
  },
  {
   "cell_type": "markdown",
   "id": "3b00f018-fcd5-4b9c-8440-17e6c947bfc0",
   "metadata": {
    "jp-MarkdownHeadingCollapsed": true,
    "tags": []
   },
   "source": [
    "#### 3. Correcting Inconsistent Data"
   ]
  },
  {
   "cell_type": "code",
   "execution_count": 5,
   "id": "14020346-5f4e-4acf-9969-e6d4ee35727a",
   "metadata": {
    "tags": []
   },
   "outputs": [
    {
     "name": "stdout",
     "output_type": "stream",
     "text": [
      "<class 'pandas.core.frame.DataFrame'>\n",
      "RangeIndex: 569 entries, 0 to 568\n",
      "Data columns (total 31 columns):\n",
      " #   Column                   Non-Null Count  Dtype  \n",
      "---  ------                   --------------  -----  \n",
      " 0   mean radius              569 non-null    float64\n",
      " 1   mean texture             569 non-null    float64\n",
      " 2   mean perimeter           569 non-null    float64\n",
      " 3   mean area                569 non-null    float64\n",
      " 4   mean smoothness          569 non-null    float64\n",
      " 5   mean compactness         569 non-null    float64\n",
      " 6   mean concavity           569 non-null    float64\n",
      " 7   mean concave points      569 non-null    float64\n",
      " 8   mean symmetry            569 non-null    float64\n",
      " 9   mean fractal dimension   569 non-null    float64\n",
      " 10  radius error             569 non-null    float64\n",
      " 11  texture error            569 non-null    float64\n",
      " 12  perimeter error          569 non-null    float64\n",
      " 13  area error               569 non-null    float64\n",
      " 14  smoothness error         569 non-null    float64\n",
      " 15  compactness error        569 non-null    float64\n",
      " 16  concavity error          569 non-null    float64\n",
      " 17  concave points error     569 non-null    float64\n",
      " 18  symmetry error           569 non-null    float64\n",
      " 19  fractal dimension error  569 non-null    float64\n",
      " 20  worst radius             569 non-null    float64\n",
      " 21  worst texture            569 non-null    float64\n",
      " 22  worst perimeter          569 non-null    float64\n",
      " 23  worst area               569 non-null    float64\n",
      " 24  worst smoothness         569 non-null    float64\n",
      " 25  worst compactness        569 non-null    float64\n",
      " 26  worst concavity          569 non-null    float64\n",
      " 27  worst concave points     569 non-null    float64\n",
      " 28  worst symmetry           569 non-null    float64\n",
      " 29  worst fractal dimension  569 non-null    float64\n",
      " 30  y                        569 non-null    int32  \n",
      "dtypes: float64(30), int32(1)\n",
      "memory usage: 135.7 KB\n"
     ]
    }
   ],
   "source": [
    "# Inconsistent Formatting, Data Type and Values\n",
    "df.info()"
   ]
  },
  {
   "cell_type": "markdown",
   "id": "0a2f6bb2-8c1c-4ec6-8e2b-2a179de85e1d",
   "metadata": {},
   "source": [
    "Conclusion: The Data Types and Values are consistent. All are numerical data. If there were any string in place of float or int the Dtype would have been object. Also the formatting of the values are consistent in relation to the column_names."
   ]
  },
  {
   "cell_type": "markdown",
   "id": "42cd0d58-4c25-4901-ba71-6eb16af8e015",
   "metadata": {
    "jp-MarkdownHeadingCollapsed": true,
    "tags": []
   },
   "source": [
    "#### 4. Data Standardization"
   ]
  },
  {
   "cell_type": "code",
   "execution_count": 6,
   "id": "e65fe809-2fc5-44d6-b023-009af77beee8",
   "metadata": {},
   "outputs": [
    {
     "data": {
      "text/html": [
       "<div>\n",
       "<style scoped>\n",
       "    .dataframe tbody tr th:only-of-type {\n",
       "        vertical-align: middle;\n",
       "    }\n",
       "\n",
       "    .dataframe tbody tr th {\n",
       "        vertical-align: top;\n",
       "    }\n",
       "\n",
       "    .dataframe thead th {\n",
       "        text-align: right;\n",
       "    }\n",
       "</style>\n",
       "<table border=\"1\" class=\"dataframe\">\n",
       "  <thead>\n",
       "    <tr style=\"text-align: right;\">\n",
       "      <th></th>\n",
       "      <th>Min</th>\n",
       "      <th>Max</th>\n",
       "      <th>Range</th>\n",
       "    </tr>\n",
       "  </thead>\n",
       "  <tbody>\n",
       "    <tr>\n",
       "      <th>mean radius</th>\n",
       "      <td>6.981000</td>\n",
       "      <td>28.11000</td>\n",
       "      <td>21.129000</td>\n",
       "    </tr>\n",
       "    <tr>\n",
       "      <th>mean texture</th>\n",
       "      <td>9.710000</td>\n",
       "      <td>39.28000</td>\n",
       "      <td>29.570000</td>\n",
       "    </tr>\n",
       "    <tr>\n",
       "      <th>mean perimeter</th>\n",
       "      <td>43.790000</td>\n",
       "      <td>188.50000</td>\n",
       "      <td>144.710000</td>\n",
       "    </tr>\n",
       "    <tr>\n",
       "      <th>mean area</th>\n",
       "      <td>143.500000</td>\n",
       "      <td>2501.00000</td>\n",
       "      <td>2357.500000</td>\n",
       "    </tr>\n",
       "    <tr>\n",
       "      <th>mean smoothness</th>\n",
       "      <td>0.052630</td>\n",
       "      <td>0.16340</td>\n",
       "      <td>0.110770</td>\n",
       "    </tr>\n",
       "    <tr>\n",
       "      <th>mean compactness</th>\n",
       "      <td>0.019380</td>\n",
       "      <td>0.34540</td>\n",
       "      <td>0.326020</td>\n",
       "    </tr>\n",
       "    <tr>\n",
       "      <th>mean concavity</th>\n",
       "      <td>0.000000</td>\n",
       "      <td>0.42680</td>\n",
       "      <td>0.426800</td>\n",
       "    </tr>\n",
       "    <tr>\n",
       "      <th>mean concave points</th>\n",
       "      <td>0.000000</td>\n",
       "      <td>0.20120</td>\n",
       "      <td>0.201200</td>\n",
       "    </tr>\n",
       "    <tr>\n",
       "      <th>mean symmetry</th>\n",
       "      <td>0.106000</td>\n",
       "      <td>0.30400</td>\n",
       "      <td>0.198000</td>\n",
       "    </tr>\n",
       "    <tr>\n",
       "      <th>mean fractal dimension</th>\n",
       "      <td>0.049960</td>\n",
       "      <td>0.09744</td>\n",
       "      <td>0.047480</td>\n",
       "    </tr>\n",
       "    <tr>\n",
       "      <th>radius error</th>\n",
       "      <td>0.111500</td>\n",
       "      <td>2.87300</td>\n",
       "      <td>2.761500</td>\n",
       "    </tr>\n",
       "    <tr>\n",
       "      <th>texture error</th>\n",
       "      <td>0.360200</td>\n",
       "      <td>4.88500</td>\n",
       "      <td>4.524800</td>\n",
       "    </tr>\n",
       "    <tr>\n",
       "      <th>perimeter error</th>\n",
       "      <td>0.757000</td>\n",
       "      <td>21.98000</td>\n",
       "      <td>21.223000</td>\n",
       "    </tr>\n",
       "    <tr>\n",
       "      <th>area error</th>\n",
       "      <td>6.802000</td>\n",
       "      <td>542.20000</td>\n",
       "      <td>535.398000</td>\n",
       "    </tr>\n",
       "    <tr>\n",
       "      <th>smoothness error</th>\n",
       "      <td>0.001713</td>\n",
       "      <td>0.03113</td>\n",
       "      <td>0.029417</td>\n",
       "    </tr>\n",
       "    <tr>\n",
       "      <th>compactness error</th>\n",
       "      <td>0.002252</td>\n",
       "      <td>0.13540</td>\n",
       "      <td>0.133148</td>\n",
       "    </tr>\n",
       "    <tr>\n",
       "      <th>concavity error</th>\n",
       "      <td>0.000000</td>\n",
       "      <td>0.39600</td>\n",
       "      <td>0.396000</td>\n",
       "    </tr>\n",
       "    <tr>\n",
       "      <th>concave points error</th>\n",
       "      <td>0.000000</td>\n",
       "      <td>0.05279</td>\n",
       "      <td>0.052790</td>\n",
       "    </tr>\n",
       "    <tr>\n",
       "      <th>symmetry error</th>\n",
       "      <td>0.007882</td>\n",
       "      <td>0.07895</td>\n",
       "      <td>0.071068</td>\n",
       "    </tr>\n",
       "    <tr>\n",
       "      <th>fractal dimension error</th>\n",
       "      <td>0.000895</td>\n",
       "      <td>0.02984</td>\n",
       "      <td>0.028945</td>\n",
       "    </tr>\n",
       "    <tr>\n",
       "      <th>worst radius</th>\n",
       "      <td>7.930000</td>\n",
       "      <td>36.04000</td>\n",
       "      <td>28.110000</td>\n",
       "    </tr>\n",
       "    <tr>\n",
       "      <th>worst texture</th>\n",
       "      <td>12.020000</td>\n",
       "      <td>49.54000</td>\n",
       "      <td>37.520000</td>\n",
       "    </tr>\n",
       "    <tr>\n",
       "      <th>worst perimeter</th>\n",
       "      <td>50.410000</td>\n",
       "      <td>251.20000</td>\n",
       "      <td>200.790000</td>\n",
       "    </tr>\n",
       "    <tr>\n",
       "      <th>worst area</th>\n",
       "      <td>185.200000</td>\n",
       "      <td>4254.00000</td>\n",
       "      <td>4068.800000</td>\n",
       "    </tr>\n",
       "    <tr>\n",
       "      <th>worst smoothness</th>\n",
       "      <td>0.071170</td>\n",
       "      <td>0.22260</td>\n",
       "      <td>0.151430</td>\n",
       "    </tr>\n",
       "    <tr>\n",
       "      <th>worst compactness</th>\n",
       "      <td>0.027290</td>\n",
       "      <td>1.05800</td>\n",
       "      <td>1.030710</td>\n",
       "    </tr>\n",
       "    <tr>\n",
       "      <th>worst concavity</th>\n",
       "      <td>0.000000</td>\n",
       "      <td>1.25200</td>\n",
       "      <td>1.252000</td>\n",
       "    </tr>\n",
       "    <tr>\n",
       "      <th>worst concave points</th>\n",
       "      <td>0.000000</td>\n",
       "      <td>0.29100</td>\n",
       "      <td>0.291000</td>\n",
       "    </tr>\n",
       "    <tr>\n",
       "      <th>worst symmetry</th>\n",
       "      <td>0.156500</td>\n",
       "      <td>0.66380</td>\n",
       "      <td>0.507300</td>\n",
       "    </tr>\n",
       "    <tr>\n",
       "      <th>worst fractal dimension</th>\n",
       "      <td>0.055040</td>\n",
       "      <td>0.20750</td>\n",
       "      <td>0.152460</td>\n",
       "    </tr>\n",
       "    <tr>\n",
       "      <th>y</th>\n",
       "      <td>0.000000</td>\n",
       "      <td>1.00000</td>\n",
       "      <td>1.000000</td>\n",
       "    </tr>\n",
       "  </tbody>\n",
       "</table>\n",
       "</div>"
      ],
      "text/plain": [
       "                                Min         Max        Range\n",
       "mean radius                6.981000    28.11000    21.129000\n",
       "mean texture               9.710000    39.28000    29.570000\n",
       "mean perimeter            43.790000   188.50000   144.710000\n",
       "mean area                143.500000  2501.00000  2357.500000\n",
       "mean smoothness            0.052630     0.16340     0.110770\n",
       "mean compactness           0.019380     0.34540     0.326020\n",
       "mean concavity             0.000000     0.42680     0.426800\n",
       "mean concave points        0.000000     0.20120     0.201200\n",
       "mean symmetry              0.106000     0.30400     0.198000\n",
       "mean fractal dimension     0.049960     0.09744     0.047480\n",
       "radius error               0.111500     2.87300     2.761500\n",
       "texture error              0.360200     4.88500     4.524800\n",
       "perimeter error            0.757000    21.98000    21.223000\n",
       "area error                 6.802000   542.20000   535.398000\n",
       "smoothness error           0.001713     0.03113     0.029417\n",
       "compactness error          0.002252     0.13540     0.133148\n",
       "concavity error            0.000000     0.39600     0.396000\n",
       "concave points error       0.000000     0.05279     0.052790\n",
       "symmetry error             0.007882     0.07895     0.071068\n",
       "fractal dimension error    0.000895     0.02984     0.028945\n",
       "worst radius               7.930000    36.04000    28.110000\n",
       "worst texture             12.020000    49.54000    37.520000\n",
       "worst perimeter           50.410000   251.20000   200.790000\n",
       "worst area               185.200000  4254.00000  4068.800000\n",
       "worst smoothness           0.071170     0.22260     0.151430\n",
       "worst compactness          0.027290     1.05800     1.030710\n",
       "worst concavity            0.000000     1.25200     1.252000\n",
       "worst concave points       0.000000     0.29100     0.291000\n",
       "worst symmetry             0.156500     0.66380     0.507300\n",
       "worst fractal dimension    0.055040     0.20750     0.152460\n",
       "y                          0.000000     1.00000     1.000000"
      ]
     },
     "execution_count": 6,
     "metadata": {},
     "output_type": "execute_result"
    }
   ],
   "source": [
    "# Check the range of each column\n",
    "val_range=pd.DataFrame({'Min':df.min(),'Max':df.max(),'Range':(df.max()-df.min())})\n",
    "val_range"
   ]
  },
  {
   "cell_type": "markdown",
   "id": "55f40fb8-da51-48e1-9855-b76e665ef42a",
   "metadata": {},
   "source": [
    "Conclusion: In this specific case, since we plan to use machine learning models like decision trees or random forests, standard scaling may not be necessary as these models are robust to feature scales. But had we planned to use machine learning models like KNN or SVM, then standard scaling would be necessary to ensure that the features are on the same scale as these models are very sensitive to feature scales."
   ]
  },
  {
   "cell_type": "markdown",
   "id": "53d7ef32-7e2b-42ff-87c8-ab3f42004d88",
   "metadata": {
    "tags": []
   },
   "source": [
    "#### 5. Data Transformation"
   ]
  },
  {
   "cell_type": "markdown",
   "id": "888cc236-0e20-46d0-bb2e-db8a821d26df",
   "metadata": {},
   "source": [
    "Conclusion: Since all values are Numerical and Scaling them, as discussed in previous cell, is not necessary, there is no need for Data Transformation."
   ]
  },
  {
   "cell_type": "markdown",
   "id": "93940143-4519-4649-82c0-487f5da32f62",
   "metadata": {
    "jp-MarkdownHeadingCollapsed": true,
    "tags": []
   },
   "source": [
    "#### 6. Feature Selection"
   ]
  },
  {
   "cell_type": "code",
   "execution_count": 7,
   "id": "95a5e130-66b7-4825-aad8-6443b178b3ab",
   "metadata": {},
   "outputs": [],
   "source": [
    "#Splitting into Dependent and Independent Variables\n",
    "X= df.drop('y',axis=1)\n",
    "y= df['y']"
   ]
  },
  {
   "cell_type": "code",
   "execution_count": 8,
   "id": "f0fe7ef1-50d4-4f5c-b66c-4bed09e8eed4",
   "metadata": {},
   "outputs": [
    {
     "data": {
      "text/plain": [
       "(569, 30)"
      ]
     },
     "execution_count": 8,
     "metadata": {},
     "output_type": "execute_result"
    }
   ],
   "source": [
    "X.shape"
   ]
  },
  {
   "cell_type": "code",
   "execution_count": 9,
   "id": "04561376-ea58-4978-a45d-00f50490ddf0",
   "metadata": {},
   "outputs": [
    {
     "data": {
      "text/plain": [
       "(569,)"
      ]
     },
     "execution_count": 9,
     "metadata": {},
     "output_type": "execute_result"
    }
   ],
   "source": [
    "y.shape"
   ]
  },
  {
   "cell_type": "markdown",
   "id": "901fbb73-bffd-44ba-aee5-be99bce33b95",
   "metadata": {
    "jp-MarkdownHeadingCollapsed": true,
    "tags": []
   },
   "source": [
    "#### 7. Data Splitting"
   ]
  },
  {
   "cell_type": "code",
   "execution_count": 10,
   "id": "dbf1b4fe-b155-436d-bdb8-170f7212383c",
   "metadata": {},
   "outputs": [],
   "source": [
    "from sklearn.model_selection import train_test_split\n",
    "X_train,X_test,y_train,y_test= train_test_split(X,y,test_size=0.2,random_state=2)"
   ]
  },
  {
   "cell_type": "code",
   "execution_count": 11,
   "id": "1801a838-c339-4823-a1e7-8ba9c0943453",
   "metadata": {},
   "outputs": [
    {
     "name": "stdout",
     "output_type": "stream",
     "text": [
      "(455, 30) (114, 30) (455,) (114,)\n"
     ]
    }
   ],
   "source": [
    "print(X_train.shape, X_test.shape, y_train.shape, y_test.shape)"
   ]
  },
  {
   "cell_type": "markdown",
   "id": "c00cc9dd-59c6-45f2-a57f-0b871c4be3ed",
   "metadata": {
    "jp-MarkdownHeadingCollapsed": true,
    "tags": []
   },
   "source": [
    "#### 8. Data Imbalance"
   ]
  },
  {
   "cell_type": "markdown",
   "id": "5ad0be7c-5ecf-4d06-9cbb-d7336a370245",
   "metadata": {
    "jp-MarkdownHeadingCollapsed": true,
    "tags": []
   },
   "source": [
    "**Data Imbalance Check only on y_train**"
   ]
  },
  {
   "cell_type": "code",
   "execution_count": 12,
   "id": "bdc0cd86-374d-4d16-ab92-e7ed46e67f63",
   "metadata": {},
   "outputs": [
    {
     "data": {
      "text/plain": [
       "2"
      ]
     },
     "execution_count": 12,
     "metadata": {},
     "output_type": "execute_result"
    }
   ],
   "source": [
    "y_train.nunique()"
   ]
  },
  {
   "cell_type": "code",
   "execution_count": 14,
   "id": "a8a26289-e91c-4a99-a24d-5311447bee10",
   "metadata": {},
   "outputs": [
    {
     "name": "stdout",
     "output_type": "stream",
     "text": [
      "1 appears 288 times in the list.\n",
      "0 appears 167 times in the list.\n"
     ]
    },
    {
     "data": {
      "text/plain": [
       "<BarContainer object of 2 artists>"
      ]
     },
     "execution_count": 14,
     "metadata": {},
     "output_type": "execute_result"
    },
    {
     "data": {
      "image/png": "[encoded data removed]",
      "text/plain": [
       "<Figure size 640x480 with 1 Axes>"
      ]
     },
     "metadata": {},
     "output_type": "display_data"
    }
   ],
   "source": [
    "import collections\n",
    "from matplotlib import pyplot as plt\n",
    "count = collections.Counter(y_train)\n",
    "dictionary= {}\n",
    "for key, value in count.items():\n",
    "    dictionary[key]= value\n",
    "    print(f\"{key} appears {value} times in the list.\")\n",
    "\n",
    "dictionary\n",
    "plt.bar(list(dictionary.keys()),list(dictionary.values()))"
   ]
  },
  {
   "cell_type": "markdown",
   "id": "021e59b9-a495-4870-804b-0e5a5cbc35df",
   "metadata": {},
   "source": [
    "Conclusion: There seem to be imbalance in the data so we handle it using SMOTE\n",
    "##### Handling Imbalance Data"
   ]
  },
  {
   "cell_type": "code",
   "execution_count": 15,
   "id": "02d14477-7701-4375-b9e6-2b00205b46ef",
   "metadata": {},
   "outputs": [],
   "source": [
    "from imblearn.over_sampling import SMOTE"
   ]
  },
  {
   "cell_type": "code",
   "execution_count": 16,
   "id": "6e0d258a-cadd-49c5-a6ce-4a3adce6f2e1",
   "metadata": {},
   "outputs": [
    {
     "name": "stdout",
     "output_type": "stream",
     "text": [
      "Before OverSampling, counts of label '1': 288\n",
      "Before OverSampling, counts of label '0': 167 \n",
      "\n",
      "After OverSampling, the shape of train_X: (576, 30)\n",
      "After OverSampling, the shape of train_y: (576,) \n",
      "\n",
      "After OverSampling, counts of label '1': 288\n",
      "After OverSampling, counts of label '0': 288\n"
     ]
    }
   ],
   "source": [
    "print(\"Before OverSampling, counts of label '1': {}\".format(sum(y_train==1)))\n",
    "print(\"Before OverSampling, counts of label '0': {} \\n\".format(sum(y_train==0)))\n",
    "\n",
    "sm = SMOTE(random_state=2)\n",
    "X_train_res, y_train_res = sm.fit_resample(X_train, y_train.ravel())\n",
    "\n",
    "print('After OverSampling, the shape of train_X: {}'.format(X_train_res.shape))\n",
    "print('After OverSampling, the shape of train_y: {} \\n'.format(y_train_res.shape))\n",
    "\n",
    "print(\"After OverSampling, counts of label '1': {}\".format(sum(y_train_res==1)))\n",
    "print(\"After OverSampling, counts of label '0': {}\".format(sum(y_train_res==0)))"
   ]
  },
  {
   "cell_type": "markdown",
   "id": "fc185500-97b8-45ec-9d86-388f2d5c414e",
   "metadata": {},
   "source": [
    "Conclusion: Now we have a balanced training data."
   ]
  },
  {
   "cell_type": "markdown",
   "id": "38970878-fc7b-4a95-b4a4-efe365852ade",
   "metadata": {},
   "source": [
    "### ML Model Selection"
   ]
  },
  {
   "cell_type": "markdown",
   "id": "b8b4170e-5c86-49aa-b24d-0b2f2eacbab5",
   "metadata": {},
   "source": [
    "1. Decision Tree - `dt_1`\n",
    "2. Random Forest - `rfr_1`\n",
    "3. Gradient Boosting Method - `gbm_1`\n",
    "4. K-Nearest Neighbour - `knn_1`"
   ]
  },
  {
   "cell_type": "code",
   "execution_count": 21,
   "id": "d88f3d36-ea93-4466-8c31-04c755c4609c",
   "metadata": {},
   "outputs": [],
   "source": [
    "from sklearn import metrics"
   ]
  },
  {
   "cell_type": "code",
   "execution_count": 56,
   "id": "8363543f-c172-4643-abab-84a4c1dacddc",
   "metadata": {},
   "outputs": [],
   "source": [
    "from sklearn.metrics import confusion_matrix, accuracy_score, classification_report, roc_auc_score, log_loss, roc_curve, auc"
   ]
  },
  {
   "cell_type": "markdown",
   "id": "9a1ac855-ab2f-4e97-bbaa-ac6cbb6c706d",
   "metadata": {},
   "source": [
    "#### Using Default Hyper-parameters"
   ]
  },
  {
   "cell_type": "markdown",
   "id": "c3db2fa0-aa8e-49a0-85a5-611ef99d6fa5",
   "metadata": {},
   "source": [
    "##### 1. DecisionTreeClassifier"
   ]
  },
  {
   "cell_type": "code",
   "execution_count": 17,
   "id": "15b8c2a8-bc48-408e-8764-1f5a59f1ba45",
   "metadata": {},
   "outputs": [],
   "source": [
    "from sklearn.tree import DecisionTreeClassifier\n",
    "dt_1= DecisionTreeClassifier()\n",
    "dt_1.fit(X_train,y_train)\n",
    "dt_1_pred= dt_1.predict(X_test)"
   ]
  },
  {
   "cell_type": "code",
   "execution_count": 26,
   "id": "6290c60e-c22c-4311-8142-656d441a0f34",
   "metadata": {},
   "outputs": [
    {
     "name": "stdout",
     "output_type": "stream",
     "text": [
      "Accuracy: 0.9210526315789473\n"
     ]
    }
   ],
   "source": [
    "dt_1_acc= metrics.accuracy_score(y_test, dt_1_pred)\n",
    "print(\"Accuracy:\",dt_1_acc)"
   ]
  },
  {
   "cell_type": "code",
   "execution_count": 57,
   "id": "31b557bd-f9fd-4f07-be9b-29beaf28debb",
   "metadata": {},
   "outputs": [
    {
     "name": "stdout",
     "output_type": "stream",
     "text": [
      "Confusion Matrix : \n",
      " [[44  1]\n",
      " [ 8 61]]\n",
      "Accuracy Score is 0.921052632\n",
      "Classification Report : \n",
      "               precision    recall  f1-score   support\n",
      "\n",
      "           0       0.85      0.98      0.91        45\n",
      "           1       0.98      0.88      0.93        69\n",
      "\n",
      "    accuracy                           0.92       114\n",
      "   macro avg       0.92      0.93      0.92       114\n",
      "weighted avg       0.93      0.92      0.92       114\n",
      "\n",
      "AUC-ROC: 0.9309178743961353\n",
      "LOGLOSS Value is 2.8456\n"
     ]
    }
   ],
   "source": [
    "fpr, tpr, thresholds = roc_curve(y_test, dt_1_pred)\n",
    "roc_auc = auc(fpr, tpr)\n",
    "results = confusion_matrix(y_test, dt_1_pred)\n",
    "print ('Confusion Matrix : \\n', results)\n",
    "print ('Accuracy Score is %.9f' % (accuracy_score(y_test, dt_1_pred)))\n",
    "print ('Classification Report : \\n', classification_report(y_test, dt_1_pred))\n",
    "print('AUC-ROC:',roc_auc_score(y_test, dt_1_pred))\n",
    "print('LOGLOSS Value is %.4f' % log_loss(y_test, dt_1_pred))"
   ]
  },
  {
   "cell_type": "markdown",
   "id": "84f140da-6adf-451b-b62c-5bb0daefdbbb",
   "metadata": {},
   "source": [
    "##### 2. RandomForestClassifier"
   ]
  },
  {
   "cell_type": "code",
   "execution_count": 18,
   "id": "6b7603aa-b1a6-44fd-bff0-6fc99cb356c1",
   "metadata": {},
   "outputs": [],
   "source": [
    "from sklearn.ensemble import RandomForestClassifier\n",
    "rf_1= RandomForestClassifier(random_state=0, warm_start = True)\n",
    "rf_1.fit(X_train,y_train)\n",
    "rf_1_pred= rf_1.predict(X_test)"
   ]
  },
  {
   "cell_type": "code",
   "execution_count": 27,
   "id": "09913d5b-4c80-4534-b74a-80ba9db28eaf",
   "metadata": {},
   "outputs": [
    {
     "name": "stdout",
     "output_type": "stream",
     "text": [
      "Accuracy: 0.9473684210526315\n"
     ]
    }
   ],
   "source": [
    "rf_1_acc= metrics.accuracy_score(y_test, rf_1_pred)\n",
    "print(\"Accuracy:\",rf_1_acc)"
   ]
  },
  {
   "cell_type": "markdown",
   "id": "f331c55f-bccd-48ba-96cd-ee216cb016a3",
   "metadata": {},
   "source": [
    "##### 3. GradientBoostingClassifier"
   ]
  },
  {
   "cell_type": "code",
   "execution_count": 19,
   "id": "48eac4fa-e04c-440c-8542-b8964dbddd30",
   "metadata": {},
   "outputs": [],
   "source": [
    "\n",
    "from sklearn.ensemble import GradientBoostingClassifier\n",
    "gbm_1= GradientBoostingClassifier()\n",
    "gbm_1.fit(X_train,y_train)\n",
    "gbm_1_pred= gbm_1.predict(X_test)"
   ]
  },
  {
   "cell_type": "code",
   "execution_count": 28,
   "id": "e6908186-08cd-4432-b4ca-33b10304f264",
   "metadata": {},
   "outputs": [
    {
     "name": "stdout",
     "output_type": "stream",
     "text": [
      "Accuracy: 0.9298245614035088\n"
     ]
    }
   ],
   "source": [
    "gbm_1_acc= metrics.accuracy_score(y_test, gbm_1_pred)\n",
    "print(\"Accuracy:\",gbm_1_acc)"
   ]
  },
  {
   "cell_type": "markdown",
   "id": "9c151009-de14-4971-9be2-516d4c6ace42",
   "metadata": {},
   "source": [
    "##### 4. K-NeighborsClassifier"
   ]
  },
  {
   "cell_type": "code",
   "execution_count": 20,
   "id": "e0d56f20-b0ef-4512-9bcb-8a18b04c5a0e",
   "metadata": {},
   "outputs": [],
   "source": [
    "\n",
    "from sklearn.neighbors import KNeighborsClassifier\n",
    "knn_1= KNeighborsClassifier()\n",
    "knn_1.fit(X_train,y_train)\n",
    "knn_1_pred= knn_1.predict(X_test)"
   ]
  },
  {
   "cell_type": "code",
   "execution_count": 29,
   "id": "6e8d30b4-b1bc-41c2-a8dc-c92da3a4b036",
   "metadata": {},
   "outputs": [
    {
     "name": "stdout",
     "output_type": "stream",
     "text": [
      "Accuracy: 0.9122807017543859\n"
     ]
    }
   ],
   "source": [
    "knn_1_acc= metrics.accuracy_score(y_test, knn_1_pred)\n",
    "print(\"Accuracy:\",knn_1_acc)"
   ]
  },
  {
   "cell_type": "markdown",
   "id": "1b8f4b21-7143-41e1-94f6-9385d6d647e2",
   "metadata": {},
   "source": [
    "##### Accuracy Evaluation of the above 4 Classifiers without tuning Hyper-Parameters"
   ]
  },
  {
   "cell_type": "code",
   "execution_count": 35,
   "id": "16d8eacd-cf1c-4962-a044-ed7ad09f4cf4",
   "metadata": {},
   "outputs": [
    {
     "name": "stdout",
     "output_type": "stream",
     "text": [
      "Accuracies of Models without tuninig hyper-parameters:\n"
     ]
    },
    {
     "data": {
      "text/html": [
       "<div>\n",
       "<style scoped>\n",
       "    .dataframe tbody tr th:only-of-type {\n",
       "        vertical-align: middle;\n",
       "    }\n",
       "\n",
       "    .dataframe tbody tr th {\n",
       "        vertical-align: top;\n",
       "    }\n",
       "\n",
       "    .dataframe thead th {\n",
       "        text-align: right;\n",
       "    }\n",
       "</style>\n",
       "<table border=\"1\" class=\"dataframe\">\n",
       "  <thead>\n",
       "    <tr style=\"text-align: right;\">\n",
       "      <th></th>\n",
       "      <th>DecisionTreeClassifier</th>\n",
       "      <th>RandomForestClassifier</th>\n",
       "      <th>GradientBoostingMethod</th>\n",
       "      <th>K-NearestNeighborClassifier</th>\n",
       "    </tr>\n",
       "  </thead>\n",
       "  <tbody>\n",
       "    <tr>\n",
       "      <th>Accuracy</th>\n",
       "      <td>0.921053</td>\n",
       "      <td>0.947368</td>\n",
       "      <td>0.929825</td>\n",
       "      <td>0.912281</td>\n",
       "    </tr>\n",
       "  </tbody>\n",
       "</table>\n",
       "</div>"
      ],
      "text/plain": [
       "          DecisionTreeClassifier  RandomForestClassifier  \\\n",
       "Accuracy                0.921053                0.947368   \n",
       "\n",
       "          GradientBoostingMethod  K-NearestNeighborClassifier  \n",
       "Accuracy                0.929825                     0.912281  "
      ]
     },
     "execution_count": 35,
     "metadata": {},
     "output_type": "execute_result"
    }
   ],
   "source": [
    "metric_df= pd.DataFrame({'DecisionTreeClassifier':dt_1_acc,\n",
    "                         'RandomForestClassifier':rf_1_acc,\n",
    "                         'GradientBoostingMethod':gbm_1_acc,\n",
    "                         'K-NearestNeighborClassifier':knn_1_acc},index=['Accuracy'])\n",
    "print('Accuracies of Models without tuninig hyper-parameters:')\n",
    "metric_df"
   ]
  },
  {
   "cell_type": "markdown",
   "id": "022b724a-044d-46e9-a482-446cc5f33a12",
   "metadata": {},
   "source": [
    "Conclusion: RandomForestClassifier seem to give better performance as compared to other classifiers."
   ]
  },
  {
   "cell_type": "markdown",
   "id": "80ccfbee-f9d3-40b1-b523-8a00c3c0a387",
   "metadata": {},
   "source": [
    "#### Using Tuned Hyper-parameters"
   ]
  },
  {
   "cell_type": "code",
   "execution_count": 41,
   "id": "a9d4c44c-0531-4f99-b625-c26c6c9139a6",
   "metadata": {},
   "outputs": [],
   "source": [
    "from sklearn.model_selection import GridSearchCV"
   ]
  },
  {
   "cell_type": "markdown",
   "id": "c3ba4424-cb70-40c6-b30f-c3752d750e88",
   "metadata": {},
   "source": [
    "##### 1. DecisionTreeClassifier"
   ]
  },
  {
   "cell_type": "code",
   "execution_count": 47,
   "id": "5668a548-fa82-425f-a8c9-e5e80e805e1b",
   "metadata": {},
   "outputs": [],
   "source": [
    "from sklearn.tree import DecisionTreeClassifier\n",
    "dt_2= DecisionTreeClassifier()"
   ]
  },
  {
   "cell_type": "code",
   "execution_count": 49,
   "id": "da75808d-f861-4d9d-ac19-3c0b7365f927",
   "metadata": {},
   "outputs": [
    {
     "name": "stdout",
     "output_type": "stream",
     "text": [
      "Fitting 5 folds for each of 24 candidates, totalling 120 fits\n",
      "[CV 1/5] END criterion=gini, max_depth=10, min_samples_leaf=10;, score=0.901 total time=   0.0s\n",
      "[CV 2/5] END criterion=gini, max_depth=10, min_samples_leaf=10;, score=0.901 total time=   0.0s\n",
      "[CV 3/5] END criterion=gini, max_depth=10, min_samples_leaf=10;, score=0.923 total time=   0.0s\n",
      "[CV 4/5] END criterion=gini, max_depth=10, min_samples_leaf=10;, score=0.912 total time=   0.0s\n",
      "[CV 5/5] END criterion=gini, max_depth=10, min_samples_leaf=10;, score=0.945 total time=   0.0s\n",
      "[CV 1/5] END criterion=gini, max_depth=10, min_samples_leaf=20;, score=0.890 total time=   0.0s\n",
      "[CV 2/5] END criterion=gini, max_depth=10, min_samples_leaf=20;, score=0.879 total time=   0.0s\n",
      "[CV 3/5] END criterion=gini, max_depth=10, min_samples_leaf=20;, score=0.967 total time=   0.0s\n",
      "[CV 4/5] END criterion=gini, max_depth=10, min_samples_leaf=20;, score=0.912 total time=   0.0s\n",
      "[CV 5/5] END criterion=gini, max_depth=10, min_samples_leaf=20;, score=0.923 total time=   0.0s\n",
      "[CV 1/5] END criterion=gini, max_depth=10, min_samples_leaf=50;, score=0.868 total time=   0.0s\n",
      "[CV 2/5] END criterion=gini, max_depth=10, min_samples_leaf=50;, score=0.879 total time=   0.0s\n",
      "[CV 3/5] END criterion=gini, max_depth=10, min_samples_leaf=50;, score=0.901 total time=   0.0s\n",
      "[CV 4/5] END criterion=gini, max_depth=10, min_samples_leaf=50;, score=0.890 total time=   0.0s\n",
      "[CV 5/5] END criterion=gini, max_depth=10, min_samples_leaf=50;, score=0.879 total time=   0.0s\n",
      "[CV 1/5] END criterion=gini, max_depth=20, min_samples_leaf=10;, score=0.901 total time=   0.0s\n",
      "[CV 2/5] END criterion=gini, max_depth=20, min_samples_leaf=10;, score=0.901 total time=   0.0s\n",
      "[CV 3/5] END criterion=gini, max_depth=20, min_samples_leaf=10;, score=0.923 total time=   0.0s\n",
      "[CV 4/5] END criterion=gini, max_depth=20, min_samples_leaf=10;, score=0.923 total time=   0.0s\n",
      "[CV 5/5] END criterion=gini, max_depth=20, min_samples_leaf=10;, score=0.945 total time=   0.0s\n",
      "[CV 1/5] END criterion=gini, max_depth=20, min_samples_leaf=20;, score=0.890 total time=   0.0s\n",
      "[CV 2/5] END criterion=gini, max_depth=20, min_samples_leaf=20;, score=0.879 total time=   0.0s\n",
      "[CV 3/5] END criterion=gini, max_depth=20, min_samples_leaf=20;, score=0.967 total time=   0.0s\n",
      "[CV 4/5] END criterion=gini, max_depth=20, min_samples_leaf=20;, score=0.912 total time=   0.0s\n",
      "[CV 5/5] END criterion=gini, max_depth=20, min_samples_leaf=20;, score=0.923 total time=   0.0s\n",
      "[CV 1/5] END criterion=gini, max_depth=20, min_samples_leaf=50;, score=0.868 total time=   0.0s\n",
      "[CV 2/5] END criterion=gini, max_depth=20, min_samples_leaf=50;, score=0.879 total time=   0.0s\n",
      "[CV 3/5] END criterion=gini, max_depth=20, min_samples_leaf=50;, score=0.901 total time=   0.0s\n",
      "[CV 4/5] END criterion=gini, max_depth=20, min_samples_leaf=50;, score=0.890 total time=   0.0s\n",
      "[CV 5/5] END criterion=gini, max_depth=20, min_samples_leaf=50;, score=0.879 total time=   0.0s\n",
      "[CV 1/5] END criterion=gini, max_depth=50, min_samples_leaf=10;, score=0.901 total time=   0.0s\n",
      "[CV 2/5] END criterion=gini, max_depth=50, min_samples_leaf=10;, score=0.901 total time=   0.0s\n",
      "[CV 3/5] END criterion=gini, max_depth=50, min_samples_leaf=10;, score=0.923 total time=   0.0s\n",
      "[CV 4/5] END criterion=gini, max_depth=50, min_samples_leaf=10;, score=0.923 total time=   0.0s\n",
      "[CV 5/5] END criterion=gini, max_depth=50, min_samples_leaf=10;, score=0.945 total time=   0.0s\n",
      "[CV 1/5] END criterion=gini, max_depth=50, min_samples_leaf=20;, score=0.879 total time=   0.0s\n",
      "[CV 2/5] END criterion=gini, max_depth=50, min_samples_leaf=20;, score=0.879 total time=   0.0s\n",
      "[CV 3/5] END criterion=gini, max_depth=50, min_samples_leaf=20;, score=0.967 total time=   0.0s\n",
      "[CV 4/5] END criterion=gini, max_depth=50, min_samples_leaf=20;, score=0.912 total time=   0.0s\n",
      "[CV 5/5] END criterion=gini, max_depth=50, min_samples_leaf=20;, score=0.923 total time=   0.0s\n",
      "[CV 1/5] END criterion=gini, max_depth=50, min_samples_leaf=50;, score=0.868 total time=   0.0s\n",
      "[CV 2/5] END criterion=gini, max_depth=50, min_samples_leaf=50;, score=0.879 total time=   0.0s\n",
      "[CV 3/5] END criterion=gini, max_depth=50, min_samples_leaf=50;, score=0.901 total time=   0.0s\n",
      "[CV 4/5] END criterion=gini, max_depth=50, min_samples_leaf=50;, score=0.890 total time=   0.0s\n",
      "[CV 5/5] END criterion=gini, max_depth=50, min_samples_leaf=50;, score=0.879 total time=   0.0s\n",
      "[CV 1/5] END criterion=gini, max_depth=100, min_samples_leaf=10;, score=0.901 total time=   0.0s\n",
      "[CV 2/5] END criterion=gini, max_depth=100, min_samples_leaf=10;, score=0.901 total time=   0.0s\n",
      "[CV 3/5] END criterion=gini, max_depth=100, min_samples_leaf=10;, score=0.923 total time=   0.0s\n",
      "[CV 4/5] END criterion=gini, max_depth=100, min_samples_leaf=10;, score=0.901 total time=   0.0s\n",
      "[CV 5/5] END criterion=gini, max_depth=100, min_samples_leaf=10;, score=0.945 total time=   0.0s\n",
      "[CV 1/5] END criterion=gini, max_depth=100, min_samples_leaf=20;, score=0.879 total time=   0.0s\n",
      "[CV 2/5] END criterion=gini, max_depth=100, min_samples_leaf=20;, score=0.879 total time=   0.0s\n",
      "[CV 3/5] END criterion=gini, max_depth=100, min_samples_leaf=20;, score=0.967 total time=   0.0s\n",
      "[CV 4/5] END criterion=gini, max_depth=100, min_samples_leaf=20;, score=0.912 total time=   0.0s\n",
      "[CV 5/5] END criterion=gini, max_depth=100, min_samples_leaf=20;, score=0.923 total time=   0.0s\n",
      "[CV 1/5] END criterion=gini, max_depth=100, min_samples_leaf=50;, score=0.868 total time=   0.0s\n",
      "[CV 2/5] END criterion=gini, max_depth=100, min_samples_leaf=50;, score=0.879 total time=   0.0s\n",
      "[CV 3/5] END criterion=gini, max_depth=100, min_samples_leaf=50;, score=0.901 total time=   0.0s\n",
      "[CV 4/5] END criterion=gini, max_depth=100, min_samples_leaf=50;, score=0.890 total time=   0.0s\n",
      "[CV 5/5] END criterion=gini, max_depth=100, min_samples_leaf=50;, score=0.879 total time=   0.0s\n",
      "[CV 1/5] END criterion=entropy, max_depth=10, min_samples_leaf=10;, score=0.923 total time=   0.0s\n",
      "[CV 2/5] END criterion=entropy, max_depth=10, min_samples_leaf=10;, score=0.912 total time=   0.0s\n",
      "[CV 3/5] END criterion=entropy, max_depth=10, min_samples_leaf=10;, score=0.923 total time=   0.0s\n",
      "[CV 4/5] END criterion=entropy, max_depth=10, min_samples_leaf=10;, score=0.945 total time=   0.0s\n",
      "[CV 5/5] END criterion=entropy, max_depth=10, min_samples_leaf=10;, score=0.934 total time=   0.0s\n",
      "[CV 1/5] END criterion=entropy, max_depth=10, min_samples_leaf=20;, score=0.934 total time=   0.0s\n",
      "[CV 2/5] END criterion=entropy, max_depth=10, min_samples_leaf=20;, score=0.879 total time=   0.0s\n",
      "[CV 3/5] END criterion=entropy, max_depth=10, min_samples_leaf=20;, score=0.967 total time=   0.0s\n",
      "[CV 4/5] END criterion=entropy, max_depth=10, min_samples_leaf=20;, score=0.890 total time=   0.0s\n",
      "[CV 5/5] END criterion=entropy, max_depth=10, min_samples_leaf=20;, score=0.934 total time=   0.0s\n",
      "[CV 1/5] END criterion=entropy, max_depth=10, min_samples_leaf=50;, score=0.923 total time=   0.0s\n",
      "[CV 2/5] END criterion=entropy, max_depth=10, min_samples_leaf=50;, score=0.879 total time=   0.0s\n",
      "[CV 3/5] END criterion=entropy, max_depth=10, min_samples_leaf=50;, score=0.901 total time=   0.0s\n",
      "[CV 4/5] END criterion=entropy, max_depth=10, min_samples_leaf=50;, score=0.890 total time=   0.0s\n",
      "[CV 5/5] END criterion=entropy, max_depth=10, min_samples_leaf=50;, score=0.912 total time=   0.0s\n",
      "[CV 1/5] END criterion=entropy, max_depth=20, min_samples_leaf=10;, score=0.923 total time=   0.0s\n",
      "[CV 2/5] END criterion=entropy, max_depth=20, min_samples_leaf=10;, score=0.912 total time=   0.0s\n",
      "[CV 3/5] END criterion=entropy, max_depth=20, min_samples_leaf=10;, score=0.923 total time=   0.0s\n",
      "[CV 4/5] END criterion=entropy, max_depth=20, min_samples_leaf=10;, score=0.945 total time=   0.0s\n",
      "[CV 5/5] END criterion=entropy, max_depth=20, min_samples_leaf=10;, score=0.934 total time=   0.0s\n",
      "[CV 1/5] END criterion=entropy, max_depth=20, min_samples_leaf=20;, score=0.934 total time=   0.0s\n",
      "[CV 2/5] END criterion=entropy, max_depth=20, min_samples_leaf=20;, score=0.879 total time=   0.0s\n",
      "[CV 3/5] END criterion=entropy, max_depth=20, min_samples_leaf=20;, score=0.967 total time=   0.0s\n",
      "[CV 4/5] END criterion=entropy, max_depth=20, min_samples_leaf=20;, score=0.890 total time=   0.0s\n",
      "[CV 5/5] END criterion=entropy, max_depth=20, min_samples_leaf=20;, score=0.934 total time=   0.0s\n",
      "[CV 1/5] END criterion=entropy, max_depth=20, min_samples_leaf=50;, score=0.923 total time=   0.0s\n",
      "[CV 2/5] END criterion=entropy, max_depth=20, min_samples_leaf=50;, score=0.879 total time=   0.0s\n",
      "[CV 3/5] END criterion=entropy, max_depth=20, min_samples_leaf=50;, score=0.901 total time=   0.0s\n",
      "[CV 4/5] END criterion=entropy, max_depth=20, min_samples_leaf=50;, score=0.890 total time=   0.0s\n",
      "[CV 5/5] END criterion=entropy, max_depth=20, min_samples_leaf=50;, score=0.912 total time=   0.0s\n",
      "[CV 1/5] END criterion=entropy, max_depth=50, min_samples_leaf=10;, score=0.923 total time=   0.0s\n",
      "[CV 2/5] END criterion=entropy, max_depth=50, min_samples_leaf=10;, score=0.912 total time=   0.0s\n",
      "[CV 3/5] END criterion=entropy, max_depth=50, min_samples_leaf=10;, score=0.923 total time=   0.0s\n",
      "[CV 4/5] END criterion=entropy, max_depth=50, min_samples_leaf=10;, score=0.945 total time=   0.0s\n",
      "[CV 5/5] END criterion=entropy, max_depth=50, min_samples_leaf=10;, score=0.934 total time=   0.0s\n",
      "[CV 1/5] END criterion=entropy, max_depth=50, min_samples_leaf=20;, score=0.934 total time=   0.0s\n",
      "[CV 2/5] END criterion=entropy, max_depth=50, min_samples_leaf=20;, score=0.879 total time=   0.0s\n",
      "[CV 3/5] END criterion=entropy, max_depth=50, min_samples_leaf=20;, score=0.967 total time=   0.0s\n",
      "[CV 4/5] END criterion=entropy, max_depth=50, min_samples_leaf=20;, score=0.890 total time=   0.0s\n",
      "[CV 5/5] END criterion=entropy, max_depth=50, min_samples_leaf=20;, score=0.934 total time=   0.0s\n",
      "[CV 1/5] END criterion=entropy, max_depth=50, min_samples_leaf=50;, score=0.923 total time=   0.0s\n",
      "[CV 2/5] END criterion=entropy, max_depth=50, min_samples_leaf=50;, score=0.879 total time=   0.0s\n",
      "[CV 3/5] END criterion=entropy, max_depth=50, min_samples_leaf=50;, score=0.901 total time=   0.0s\n",
      "[CV 4/5] END criterion=entropy, max_depth=50, min_samples_leaf=50;, score=0.890 total time=   0.0s\n",
      "[CV 5/5] END criterion=entropy, max_depth=50, min_samples_leaf=50;, score=0.912 total time=   0.0s\n",
      "[CV 1/5] END criterion=entropy, max_depth=100, min_samples_leaf=10;, score=0.923 total time=   0.0s\n",
      "[CV 2/5] END criterion=entropy, max_depth=100, min_samples_leaf=10;, score=0.912 total time=   0.0s\n",
      "[CV 3/5] END criterion=entropy, max_depth=100, min_samples_leaf=10;, score=0.923 total time=   0.0s\n",
      "[CV 4/5] END criterion=entropy, max_depth=100, min_samples_leaf=10;, score=0.945 total time=   0.0s\n",
      "[CV 5/5] END criterion=entropy, max_depth=100, min_samples_leaf=10;, score=0.934 total time=   0.0s\n",
      "[CV 1/5] END criterion=entropy, max_depth=100, min_samples_leaf=20;, score=0.934 total time=   0.0s\n",
      "[CV 2/5] END criterion=entropy, max_depth=100, min_samples_leaf=20;, score=0.879 total time=   0.0s\n",
      "[CV 3/5] END criterion=entropy, max_depth=100, min_samples_leaf=20;, score=0.967 total time=   0.0s\n",
      "[CV 4/5] END criterion=entropy, max_depth=100, min_samples_leaf=20;, score=0.890 total time=   0.0s\n",
      "[CV 5/5] END criterion=entropy, max_depth=100, min_samples_leaf=20;, score=0.934 total time=   0.0s\n",
      "[CV 1/5] END criterion=entropy, max_depth=100, min_samples_leaf=50;, score=0.923 total time=   0.0s\n",
      "[CV 2/5] END criterion=entropy, max_depth=100, min_samples_leaf=50;, score=0.879 total time=   0.0s\n",
      "[CV 3/5] END criterion=entropy, max_depth=100, min_samples_leaf=50;, score=0.901 total time=   0.0s\n",
      "[CV 4/5] END criterion=entropy, max_depth=100, min_samples_leaf=50;, score=0.890 total time=   0.0s\n",
      "[CV 5/5] END criterion=entropy, max_depth=100, min_samples_leaf=50;, score=0.912 total time=   0.0s\n"
     ]
    },
    {
     "data": {
      "text/html": [
       "<style>#sk-container-id-1 {color: black;background-color: white;}#sk-container-id-1 pre{padding: 0;}#sk-container-id-1 div.sk-toggleable {background-color: white;}#sk-container-id-1 label.sk-toggleable__label {cursor: pointer;display: block;width: 100%;margin-bottom: 0;padding: 0.3em;box-sizing: border-box;text-align: center;}#sk-container-id-1 label.sk-toggleable__label-arrow:before {content: \"▸\";float: left;margin-right: 0.25em;color: #696969;}#sk-container-id-1 label.sk-toggleable__label-arrow:hover:before {color: black;}#sk-container-id-1 div.sk-estimator:hover label.sk-toggleable__label-arrow:before {color: black;}#sk-container-id-1 div.sk-toggleable__content {max-height: 0;max-width: 0;overflow: hidden;text-align: left;background-color: #f0f8ff;}#sk-container-id-1 div.sk-toggleable__content pre {margin: 0.2em;color: black;border-radius: 0.25em;background-color: #f0f8ff;}#sk-container-id-1 input.sk-toggleable__control:checked~div.sk-toggleable__content {max-height: 200px;max-width: 100%;overflow: auto;}#sk-container-id-1 input.sk-toggleable__control:checked~label.sk-toggleable__label-arrow:before {content: \"▾\";}#sk-container-id-1 div.sk-estimator input.sk-toggleable__control:checked~label.sk-toggleable__label {background-color: #d4ebff;}#sk-container-id-1 div.sk-label input.sk-toggleable__control:checked~label.sk-toggleable__label {background-color: #d4ebff;}#sk-container-id-1 input.sk-hidden--visually {border: 0;clip: rect(1px 1px 1px 1px);clip: rect(1px, 1px, 1px, 1px);height: 1px;margin: -1px;overflow: hidden;padding: 0;position: absolute;width: 1px;}#sk-container-id-1 div.sk-estimator {font-family: monospace;background-color: #f0f8ff;border: 1px dotted black;border-radius: 0.25em;box-sizing: border-box;margin-bottom: 0.5em;}#sk-container-id-1 div.sk-estimator:hover {background-color: #d4ebff;}#sk-container-id-1 div.sk-parallel-item::after {content: \"\";width: 100%;border-bottom: 1px solid gray;flex-grow: 1;}#sk-container-id-1 div.sk-label:hover label.sk-toggleable__label {background-color: #d4ebff;}#sk-container-id-1 div.sk-serial::before {content: \"\";position: absolute;border-left: 1px solid gray;box-sizing: border-box;top: 0;bottom: 0;left: 50%;z-index: 0;}#sk-container-id-1 div.sk-serial {display: flex;flex-direction: column;align-items: center;background-color: white;padding-right: 0.2em;padding-left: 0.2em;position: relative;}#sk-container-id-1 div.sk-item {position: relative;z-index: 1;}#sk-container-id-1 div.sk-parallel {display: flex;align-items: stretch;justify-content: center;background-color: white;position: relative;}#sk-container-id-1 div.sk-item::before, #sk-container-id-1 div.sk-parallel-item::before {content: \"\";position: absolute;border-left: 1px solid gray;box-sizing: border-box;top: 0;bottom: 0;left: 50%;z-index: -1;}#sk-container-id-1 div.sk-parallel-item {display: flex;flex-direction: column;z-index: 1;position: relative;background-color: white;}#sk-container-id-1 div.sk-parallel-item:first-child::after {align-self: flex-end;width: 50%;}#sk-container-id-1 div.sk-parallel-item:last-child::after {align-self: flex-start;width: 50%;}#sk-container-id-1 div.sk-parallel-item:only-child::after {width: 0;}#sk-container-id-1 div.sk-dashed-wrapped {border: 1px dashed gray;margin: 0 0.4em 0.5em 0.4em;box-sizing: border-box;padding-bottom: 0.4em;background-color: white;}#sk-container-id-1 div.sk-label label {font-family: monospace;font-weight: bold;display: inline-block;line-height: 1.2em;}#sk-container-id-1 div.sk-label-container {text-align: center;}#sk-container-id-1 div.sk-container {/* jupyter's `normalize.less` sets `[hidden] { display: none; }` but bootstrap.min.css set `[hidden] { display: none !important; }` so we also need the `!important` here to be able to override the default hidden behavior on the sphinx rendered scikit-learn.org. See: https://github.com/scikit-learn/scikit-learn/issues/21755 */display: inline-block !important;position: relative;}#sk-container-id-1 div.sk-text-repr-fallback {display: none;}</style><div id=\"sk-container-id-1\" class=\"sk-top-container\"><div class=\"sk-text-repr-fallback\"><pre>GridSearchCV(estimator=DecisionTreeClassifier(),\n",
       "             param_grid={&#x27;criterion&#x27;: [&#x27;gini&#x27;, &#x27;entropy&#x27;],\n",
       "                         &#x27;max_depth&#x27;: [10, 20, 50, 100],\n",
       "                         &#x27;min_samples_leaf&#x27;: [10, 20, 50]},\n",
       "             verbose=5)</pre><b>In a Jupyter environment, please rerun this cell to show the HTML representation or trust the notebook. <br />On GitHub, the HTML representation is unable to render, please try loading this page with nbviewer.org.</b></div><div class=\"sk-container\" hidden><div class=\"sk-item sk-dashed-wrapped\"><div class=\"sk-label-container\"><div class=\"sk-label sk-toggleable\"><input class=\"sk-toggleable__control sk-hidden--visually\" id=\"sk-estimator-id-1\" type=\"checkbox\" ><label for=\"sk-estimator-id-1\" class=\"sk-toggleable__label sk-toggleable__label-arrow\">GridSearchCV</label><div class=\"sk-toggleable__content\"><pre>GridSearchCV(estimator=DecisionTreeClassifier(),\n",
       "             param_grid={&#x27;criterion&#x27;: [&#x27;gini&#x27;, &#x27;entropy&#x27;],\n",
       "                         &#x27;max_depth&#x27;: [10, 20, 50, 100],\n",
       "                         &#x27;min_samples_leaf&#x27;: [10, 20, 50]},\n",
       "             verbose=5)</pre></div></div></div><div class=\"sk-parallel\"><div class=\"sk-parallel-item\"><div class=\"sk-item\"><div class=\"sk-label-container\"><div class=\"sk-label sk-toggleable\"><input class=\"sk-toggleable__control sk-hidden--visually\" id=\"sk-estimator-id-2\" type=\"checkbox\" ><label for=\"sk-estimator-id-2\" class=\"sk-toggleable__label sk-toggleable__label-arrow\">estimator: DecisionTreeClassifier</label><div class=\"sk-toggleable__content\"><pre>DecisionTreeClassifier()</pre></div></div></div><div class=\"sk-serial\"><div class=\"sk-item\"><div class=\"sk-estimator sk-toggleable\"><input class=\"sk-toggleable__control sk-hidden--visually\" id=\"sk-estimator-id-3\" type=\"checkbox\" ><label for=\"sk-estimator-id-3\" class=\"sk-toggleable__label sk-toggleable__label-arrow\">DecisionTreeClassifier</label><div class=\"sk-toggleable__content\"><pre>DecisionTreeClassifier()</pre></div></div></div></div></div></div></div></div></div></div>"
      ],
      "text/plain": [
       "GridSearchCV(estimator=DecisionTreeClassifier(),\n",
       "             param_grid={'criterion': ['gini', 'entropy'],\n",
       "                         'max_depth': [10, 20, 50, 100],\n",
       "                         'min_samples_leaf': [10, 20, 50]},\n",
       "             verbose=5)"
      ]
     },
     "execution_count": 49,
     "metadata": {},
     "output_type": "execute_result"
    }
   ],
   "source": [
    "dt_2_tuned_parameters={'criterion': ['gini', 'entropy'], 'max_depth': [10, 20, 50, 100], 'min_samples_leaf':[10, 20, 50]}\n",
    "cv_grid = GridSearchCV(dt_2, param_grid = rf_tuned_parameters, verbose = 5)\n",
    "cv_grid.fit(X_train, y_train)"
   ]
  },
  {
   "cell_type": "code",
   "execution_count": 50,
   "id": "c51628d7-43a2-462a-9e02-e69c493aaf12",
   "metadata": {},
   "outputs": [
    {
     "data": {
      "text/plain": [
       "{'criterion': 'entropy', 'max_depth': 10, 'min_samples_leaf': 10}"
      ]
     },
     "execution_count": 50,
     "metadata": {},
     "output_type": "execute_result"
    }
   ],
   "source": [
    "cv_grid.best_params_"
   ]
  },
  {
   "cell_type": "code",
   "execution_count": 51,
   "id": "29c46fe7-5527-46ff-8773-0f3c191cb4b1",
   "metadata": {},
   "outputs": [
    {
     "data": {
      "text/plain": [
       "{'ccp_alpha': 0.0,\n",
       " 'class_weight': None,\n",
       " 'criterion': 'entropy',\n",
       " 'max_depth': 10,\n",
       " 'max_features': None,\n",
       " 'max_leaf_nodes': None,\n",
       " 'min_impurity_decrease': 0.0,\n",
       " 'min_samples_leaf': 10,\n",
       " 'min_samples_split': 2,\n",
       " 'min_weight_fraction_leaf': 0.0,\n",
       " 'random_state': None,\n",
       " 'splitter': 'best'}"
      ]
     },
     "execution_count": 51,
     "metadata": {},
     "output_type": "execute_result"
    }
   ],
   "source": [
    "best_parameters = cv_grid.best_estimator_.get_params()\n",
    "best_parameters"
   ]
  },
  {
   "cell_type": "code",
   "execution_count": 59,
   "id": "59f024fe-b7eb-4715-a813-38cc15c9a243",
   "metadata": {},
   "outputs": [
    {
     "name": "stdout",
     "output_type": "stream",
     "text": [
      "Confusion Matrix : \n",
      " [[41  4]\n",
      " [ 5 64]]\n",
      "Accuracy Score is 0.921052632\n",
      "Classification Report : \n",
      "               precision    recall  f1-score   support\n",
      "\n",
      "           0       0.89      0.91      0.90        45\n",
      "           1       0.94      0.93      0.93        69\n",
      "\n",
      "    accuracy                           0.92       114\n",
      "   macro avg       0.92      0.92      0.92       114\n",
      "weighted avg       0.92      0.92      0.92       114\n",
      "\n",
      "AUC-ROC: 0.9193236714975846\n",
      "LOGLOSS Value is 2.8456\n"
     ]
    }
   ],
   "source": [
    "dt_2_pred = cv_grid.predict(X_test)\n",
    "fpr, tpr, thresholds = roc_curve(y_test, dt_2_pred)\n",
    "roc_auc = auc(fpr, tpr)\n",
    "results = confusion_matrix(y_test, dt_2_pred)\n",
    "print('Confusion Matrix : \\n', results)\n",
    "print('Accuracy Score is %.9f' % (accuracy_score(y_test, dt_2_pred)))\n",
    "print('Classification Report : \\n', classification_report(y_test, dt_2_pred))\n",
    "print('AUC-ROC:',roc_auc_score(y_test, dt_2_pred))\n",
    "print('LOGLOSS Value is %.4f' % log_loss(y_test, dt_2_pred))"
   ]
  },
  {
   "cell_type": "code",
   "execution_count": null,
   "id": "3e87e26b-a8a2-46cb-aa67-2191a12141eb",
   "metadata": {},
   "outputs": [],
   "source": []
  },
  {
   "cell_type": "code",
   "execution_count": null,
   "id": "ac3c9685-e1ed-4b34-94d5-a36e278f48f9",
   "metadata": {},
   "outputs": [],
   "source": []
  },
  {
   "cell_type": "markdown",
   "id": "7b176809-2efd-4b41-92ac-7eb0cf6fd9d6",
   "metadata": {},
   "source": [
    "##### 2. RandomForestClassifier"
   ]
  },
  {
   "cell_type": "code",
   "execution_count": 38,
   "id": "f1962d3b-7e3c-45bc-af81-915a37f09662",
   "metadata": {},
   "outputs": [],
   "source": [
    "from sklearn.ensemble import RandomForestClassifier"
   ]
  },
  {
   "cell_type": "code",
   "execution_count": 60,
   "id": "8d94e336-69f0-4952-8314-03058d5ff68d",
   "metadata": {},
   "outputs": [],
   "source": [
    "rf_2= RandomForestClassifier()"
   ]
  },
  {
   "cell_type": "code",
   "execution_count": 63,
   "id": "ce515942-9ffb-42dd-ada9-8243f744a252",
   "metadata": {},
   "outputs": [
    {
     "name": "stdout",
     "output_type": "stream",
     "text": [
      "Fitting 5 folds for each of 48 candidates, totalling 240 fits\n",
      "[CV 1/5] END max_depth=10, min_samples_leaf=10, n_estimators=50;, score=0.912 total time=   0.0s\n",
      "[CV 2/5] END max_depth=10, min_samples_leaf=10, n_estimators=50;, score=0.978 total time=   0.0s\n",
      "[CV 3/5] END max_depth=10, min_samples_leaf=10, n_estimators=50;, score=0.967 total time=   0.0s\n",
      "[CV 4/5] END max_depth=10, min_samples_leaf=10, n_estimators=50;, score=0.956 total time=   0.0s\n",
      "[CV 5/5] END max_depth=10, min_samples_leaf=10, n_estimators=50;, score=0.945 total time=   0.0s\n",
      "[CV 1/5] END max_depth=10, min_samples_leaf=10, n_estimators=100;, score=0.923 total time=   0.1s\n",
      "[CV 2/5] END max_depth=10, min_samples_leaf=10, n_estimators=100;, score=0.967 total time=   0.1s\n",
      "[CV 3/5] END max_depth=10, min_samples_leaf=10, n_estimators=100;, score=0.956 total time=   0.1s\n",
      "[CV 4/5] END max_depth=10, min_samples_leaf=10, n_estimators=100;, score=0.934 total time=   0.1s\n",
      "[CV 5/5] END max_depth=10, min_samples_leaf=10, n_estimators=100;, score=0.945 total time=   0.1s\n",
      "[CV 1/5] END max_depth=10, min_samples_leaf=10, n_estimators=200;, score=0.912 total time=   0.3s\n",
      "[CV 2/5] END max_depth=10, min_samples_leaf=10, n_estimators=200;, score=0.967 total time=   0.3s\n",
      "[CV 3/5] END max_depth=10, min_samples_leaf=10, n_estimators=200;, score=0.956 total time=   0.3s\n",
      "[CV 4/5] END max_depth=10, min_samples_leaf=10, n_estimators=200;, score=0.945 total time=   0.3s\n",
      "[CV 5/5] END max_depth=10, min_samples_leaf=10, n_estimators=200;, score=0.945 total time=   0.3s\n",
      "[CV 1/5] END max_depth=10, min_samples_leaf=10, n_estimators=500;, score=0.923 total time=   0.9s\n",
      "[CV 2/5] END max_depth=10, min_samples_leaf=10, n_estimators=500;, score=0.967 total time=   0.8s\n",
      "[CV 3/5] END max_depth=10, min_samples_leaf=10, n_estimators=500;, score=0.967 total time=   0.9s\n",
      "[CV 4/5] END max_depth=10, min_samples_leaf=10, n_estimators=500;, score=0.945 total time=   1.5s\n",
      "[CV 5/5] END max_depth=10, min_samples_leaf=10, n_estimators=500;, score=0.945 total time=   0.8s\n",
      "[CV 1/5] END max_depth=10, min_samples_leaf=20, n_estimators=50;, score=0.901 total time=   0.0s\n",
      "[CV 2/5] END max_depth=10, min_samples_leaf=20, n_estimators=50;, score=0.956 total time=   0.0s\n",
      "[CV 3/5] END max_depth=10, min_samples_leaf=20, n_estimators=50;, score=0.956 total time=   0.0s\n",
      "[CV 4/5] END max_depth=10, min_samples_leaf=20, n_estimators=50;, score=0.923 total time=   0.0s\n",
      "[CV 5/5] END max_depth=10, min_samples_leaf=20, n_estimators=50;, score=0.956 total time=   0.0s\n",
      "[CV 1/5] END max_depth=10, min_samples_leaf=20, n_estimators=100;, score=0.912 total time=   0.1s\n",
      "[CV 2/5] END max_depth=10, min_samples_leaf=20, n_estimators=100;, score=0.956 total time=   0.1s\n",
      "[CV 3/5] END max_depth=10, min_samples_leaf=20, n_estimators=100;, score=0.956 total time=   0.1s\n",
      "[CV 4/5] END max_depth=10, min_samples_leaf=20, n_estimators=100;, score=0.945 total time=   0.1s\n",
      "[CV 5/5] END max_depth=10, min_samples_leaf=20, n_estimators=100;, score=0.945 total time=   0.1s\n",
      "[CV 1/5] END max_depth=10, min_samples_leaf=20, n_estimators=200;, score=0.912 total time=   0.2s\n",
      "[CV 2/5] END max_depth=10, min_samples_leaf=20, n_estimators=200;, score=0.967 total time=   0.3s\n",
      "[CV 3/5] END max_depth=10, min_samples_leaf=20, n_estimators=200;, score=0.967 total time=   0.2s\n",
      "[CV 4/5] END max_depth=10, min_samples_leaf=20, n_estimators=200;, score=0.934 total time=   0.2s\n",
      "[CV 5/5] END max_depth=10, min_samples_leaf=20, n_estimators=200;, score=0.945 total time=   0.3s\n",
      "[CV 1/5] END max_depth=10, min_samples_leaf=20, n_estimators=500;, score=0.923 total time=   0.8s\n",
      "[CV 2/5] END max_depth=10, min_samples_leaf=20, n_estimators=500;, score=0.967 total time=   0.8s\n",
      "[CV 3/5] END max_depth=10, min_samples_leaf=20, n_estimators=500;, score=0.945 total time=   0.8s\n",
      "[CV 4/5] END max_depth=10, min_samples_leaf=20, n_estimators=500;, score=0.934 total time=   0.7s\n",
      "[CV 5/5] END max_depth=10, min_samples_leaf=20, n_estimators=500;, score=0.945 total time=   0.7s\n",
      "[CV 1/5] END max_depth=10, min_samples_leaf=50, n_estimators=50;, score=0.923 total time=   0.0s\n",
      "[CV 2/5] END max_depth=10, min_samples_leaf=50, n_estimators=50;, score=0.978 total time=   0.0s\n",
      "[CV 3/5] END max_depth=10, min_samples_leaf=50, n_estimators=50;, score=0.945 total time=   0.0s\n",
      "[CV 4/5] END max_depth=10, min_samples_leaf=50, n_estimators=50;, score=0.912 total time=   0.0s\n",
      "[CV 5/5] END max_depth=10, min_samples_leaf=50, n_estimators=50;, score=0.934 total time=   0.0s\n",
      "[CV 1/5] END max_depth=10, min_samples_leaf=50, n_estimators=100;, score=0.912 total time=   0.1s\n",
      "[CV 2/5] END max_depth=10, min_samples_leaf=50, n_estimators=100;, score=0.934 total time=   0.0s\n",
      "[CV 3/5] END max_depth=10, min_samples_leaf=50, n_estimators=100;, score=0.934 total time=   0.1s\n",
      "[CV 4/5] END max_depth=10, min_samples_leaf=50, n_estimators=100;, score=0.912 total time=   0.0s\n",
      "[CV 5/5] END max_depth=10, min_samples_leaf=50, n_estimators=100;, score=0.945 total time=   0.1s\n",
      "[CV 1/5] END max_depth=10, min_samples_leaf=50, n_estimators=200;, score=0.912 total time=   0.2s\n",
      "[CV 2/5] END max_depth=10, min_samples_leaf=50, n_estimators=200;, score=0.923 total time=   0.2s\n",
      "[CV 3/5] END max_depth=10, min_samples_leaf=50, n_estimators=200;, score=0.912 total time=   0.3s\n",
      "[CV 4/5] END max_depth=10, min_samples_leaf=50, n_estimators=200;, score=0.912 total time=   0.6s\n",
      "[CV 5/5] END max_depth=10, min_samples_leaf=50, n_estimators=200;, score=0.945 total time=   0.6s\n",
      "[CV 1/5] END max_depth=10, min_samples_leaf=50, n_estimators=500;, score=0.912 total time=   0.7s\n",
      "[CV 2/5] END max_depth=10, min_samples_leaf=50, n_estimators=500;, score=0.945 total time=   0.8s\n",
      "[CV 3/5] END max_depth=10, min_samples_leaf=50, n_estimators=500;, score=0.912 total time=   1.4s\n",
      "[CV 4/5] END max_depth=10, min_samples_leaf=50, n_estimators=500;, score=0.934 total time=   0.7s\n",
      "[CV 5/5] END max_depth=10, min_samples_leaf=50, n_estimators=500;, score=0.956 total time=   1.1s\n",
      "[CV 1/5] END max_depth=20, min_samples_leaf=10, n_estimators=50;, score=0.923 total time=   0.1s\n",
      "[CV 2/5] END max_depth=20, min_samples_leaf=10, n_estimators=50;, score=0.978 total time=   0.1s\n",
      "[CV 3/5] END max_depth=20, min_samples_leaf=10, n_estimators=50;, score=0.945 total time=   0.1s\n",
      "[CV 4/5] END max_depth=20, min_samples_leaf=10, n_estimators=50;, score=0.945 total time=   0.1s\n",
      "[CV 5/5] END max_depth=20, min_samples_leaf=10, n_estimators=50;, score=0.945 total time=   0.0s\n",
      "[CV 1/5] END max_depth=20, min_samples_leaf=10, n_estimators=100;, score=0.912 total time=   0.1s\n",
      "[CV 2/5] END max_depth=20, min_samples_leaf=10, n_estimators=100;, score=0.967 total time=   0.1s\n",
      "[CV 3/5] END max_depth=20, min_samples_leaf=10, n_estimators=100;, score=0.956 total time=   0.1s\n",
      "[CV 4/5] END max_depth=20, min_samples_leaf=10, n_estimators=100;, score=0.945 total time=   0.1s\n",
      "[CV 5/5] END max_depth=20, min_samples_leaf=10, n_estimators=100;, score=0.945 total time=   0.1s\n",
      "[CV 1/5] END max_depth=20, min_samples_leaf=10, n_estimators=200;, score=0.923 total time=   0.3s\n",
      "[CV 2/5] END max_depth=20, min_samples_leaf=10, n_estimators=200;, score=0.967 total time=   0.3s\n",
      "[CV 3/5] END max_depth=20, min_samples_leaf=10, n_estimators=200;, score=0.956 total time=   0.3s\n",
      "[CV 4/5] END max_depth=20, min_samples_leaf=10, n_estimators=200;, score=0.956 total time=   0.3s\n",
      "[CV 5/5] END max_depth=20, min_samples_leaf=10, n_estimators=200;, score=0.945 total time=   0.3s\n",
      "[CV 1/5] END max_depth=20, min_samples_leaf=10, n_estimators=500;, score=0.912 total time=   0.8s\n",
      "[CV 2/5] END max_depth=20, min_samples_leaf=10, n_estimators=500;, score=0.967 total time=   0.9s\n",
      "[CV 3/5] END max_depth=20, min_samples_leaf=10, n_estimators=500;, score=0.945 total time=   1.5s\n",
      "[CV 4/5] END max_depth=20, min_samples_leaf=10, n_estimators=500;, score=0.945 total time=   0.8s\n",
      "[CV 5/5] END max_depth=20, min_samples_leaf=10, n_estimators=500;, score=0.945 total time=   1.5s\n",
      "[CV 1/5] END max_depth=20, min_samples_leaf=20, n_estimators=50;, score=0.912 total time=   0.1s\n",
      "[CV 2/5] END max_depth=20, min_samples_leaf=20, n_estimators=50;, score=0.956 total time=   0.0s\n",
      "[CV 3/5] END max_depth=20, min_samples_leaf=20, n_estimators=50;, score=0.934 total time=   0.0s\n",
      "[CV 4/5] END max_depth=20, min_samples_leaf=20, n_estimators=50;, score=0.923 total time=   0.0s\n",
      "[CV 5/5] END max_depth=20, min_samples_leaf=20, n_estimators=50;, score=0.945 total time=   0.0s\n",
      "[CV 1/5] END max_depth=20, min_samples_leaf=20, n_estimators=100;, score=0.912 total time=   0.1s\n",
      "[CV 2/5] END max_depth=20, min_samples_leaf=20, n_estimators=100;, score=0.934 total time=   0.1s\n",
      "[CV 3/5] END max_depth=20, min_samples_leaf=20, n_estimators=100;, score=0.945 total time=   0.1s\n",
      "[CV 4/5] END max_depth=20, min_samples_leaf=20, n_estimators=100;, score=0.934 total time=   0.1s\n",
      "[CV 5/5] END max_depth=20, min_samples_leaf=20, n_estimators=100;, score=0.945 total time=   0.1s\n",
      "[CV 1/5] END max_depth=20, min_samples_leaf=20, n_estimators=200;, score=0.923 total time=   0.5s\n",
      "[CV 2/5] END max_depth=20, min_samples_leaf=20, n_estimators=200;, score=0.934 total time=   0.7s\n",
      "[CV 3/5] END max_depth=20, min_samples_leaf=20, n_estimators=200;, score=0.956 total time=   0.5s\n",
      "[CV 4/5] END max_depth=20, min_samples_leaf=20, n_estimators=200;, score=0.934 total time=   0.2s\n",
      "[CV 5/5] END max_depth=20, min_samples_leaf=20, n_estimators=200;, score=0.956 total time=   0.2s\n",
      "[CV 1/5] END max_depth=20, min_samples_leaf=20, n_estimators=500;, score=0.912 total time=   1.0s\n",
      "[CV 2/5] END max_depth=20, min_samples_leaf=20, n_estimators=500;, score=0.978 total time=   1.3s\n",
      "[CV 3/5] END max_depth=20, min_samples_leaf=20, n_estimators=500;, score=0.945 total time=   0.7s\n",
      "[CV 4/5] END max_depth=20, min_samples_leaf=20, n_estimators=500;, score=0.934 total time=   1.3s\n",
      "[CV 5/5] END max_depth=20, min_samples_leaf=20, n_estimators=500;, score=0.945 total time=   1.0s\n",
      "[CV 1/5] END max_depth=20, min_samples_leaf=50, n_estimators=50;, score=0.912 total time=   0.0s\n",
      "[CV 2/5] END max_depth=20, min_samples_leaf=50, n_estimators=50;, score=0.967 total time=   0.0s\n",
      "[CV 3/5] END max_depth=20, min_samples_leaf=50, n_estimators=50;, score=0.956 total time=   0.0s\n",
      "[CV 4/5] END max_depth=20, min_samples_leaf=50, n_estimators=50;, score=0.923 total time=   0.0s\n",
      "[CV 5/5] END max_depth=20, min_samples_leaf=50, n_estimators=50;, score=0.934 total time=   0.0s\n",
      "[CV 1/5] END max_depth=20, min_samples_leaf=50, n_estimators=100;, score=0.912 total time=   0.1s\n",
      "[CV 2/5] END max_depth=20, min_samples_leaf=50, n_estimators=100;, score=0.934 total time=   0.0s\n",
      "[CV 3/5] END max_depth=20, min_samples_leaf=50, n_estimators=100;, score=0.934 total time=   0.1s\n",
      "[CV 4/5] END max_depth=20, min_samples_leaf=50, n_estimators=100;, score=0.934 total time=   0.3s\n",
      "[CV 5/5] END max_depth=20, min_samples_leaf=50, n_estimators=100;, score=0.934 total time=   0.3s\n",
      "[CV 1/5] END max_depth=20, min_samples_leaf=50, n_estimators=200;, score=0.912 total time=   0.6s\n",
      "[CV 2/5] END max_depth=20, min_samples_leaf=50, n_estimators=200;, score=0.923 total time=   0.2s\n",
      "[CV 3/5] END max_depth=20, min_samples_leaf=50, n_estimators=200;, score=0.945 total time=   0.2s\n",
      "[CV 4/5] END max_depth=20, min_samples_leaf=50, n_estimators=200;, score=0.934 total time=   0.2s\n",
      "[CV 5/5] END max_depth=20, min_samples_leaf=50, n_estimators=200;, score=0.934 total time=   0.2s\n",
      "[CV 1/5] END max_depth=20, min_samples_leaf=50, n_estimators=500;, score=0.912 total time=   1.3s\n",
      "[CV 2/5] END max_depth=20, min_samples_leaf=50, n_estimators=500;, score=0.934 total time=   0.8s\n",
      "[CV 3/5] END max_depth=20, min_samples_leaf=50, n_estimators=500;, score=0.934 total time=   0.9s\n",
      "[CV 4/5] END max_depth=20, min_samples_leaf=50, n_estimators=500;, score=0.934 total time=   1.6s\n",
      "[CV 5/5] END max_depth=20, min_samples_leaf=50, n_estimators=500;, score=0.934 total time=   0.7s\n",
      "[CV 1/5] END max_depth=50, min_samples_leaf=10, n_estimators=50;, score=0.923 total time=   0.0s\n",
      "[CV 2/5] END max_depth=50, min_samples_leaf=10, n_estimators=50;, score=0.956 total time=   0.0s\n",
      "[CV 3/5] END max_depth=50, min_samples_leaf=10, n_estimators=50;, score=0.956 total time=   0.0s\n",
      "[CV 4/5] END max_depth=50, min_samples_leaf=10, n_estimators=50;, score=0.945 total time=   0.0s\n",
      "[CV 5/5] END max_depth=50, min_samples_leaf=10, n_estimators=50;, score=0.945 total time=   0.0s\n",
      "[CV 1/5] END max_depth=50, min_samples_leaf=10, n_estimators=100;, score=0.923 total time=   0.3s\n",
      "[CV 2/5] END max_depth=50, min_samples_leaf=10, n_estimators=100;, score=0.967 total time=   0.3s\n",
      "[CV 3/5] END max_depth=50, min_samples_leaf=10, n_estimators=100;, score=0.945 total time=   0.3s\n",
      "[CV 4/5] END max_depth=50, min_samples_leaf=10, n_estimators=100;, score=0.945 total time=   0.2s\n",
      "[CV 5/5] END max_depth=50, min_samples_leaf=10, n_estimators=100;, score=0.945 total time=   0.1s\n",
      "[CV 1/5] END max_depth=50, min_samples_leaf=10, n_estimators=200;, score=0.923 total time=   0.3s\n",
      "[CV 2/5] END max_depth=50, min_samples_leaf=10, n_estimators=200;, score=0.967 total time=   0.3s\n",
      "[CV 3/5] END max_depth=50, min_samples_leaf=10, n_estimators=200;, score=0.956 total time=   0.3s\n",
      "[CV 4/5] END max_depth=50, min_samples_leaf=10, n_estimators=200;, score=0.945 total time=   0.6s\n",
      "[CV 5/5] END max_depth=50, min_samples_leaf=10, n_estimators=200;, score=0.945 total time=   0.7s\n",
      "[CV 1/5] END max_depth=50, min_samples_leaf=10, n_estimators=500;, score=0.923 total time=   0.8s\n",
      "[CV 2/5] END max_depth=50, min_samples_leaf=10, n_estimators=500;, score=0.967 total time=   0.9s\n",
      "[CV 3/5] END max_depth=50, min_samples_leaf=10, n_estimators=500;, score=0.956 total time=   1.5s\n",
      "[CV 4/5] END max_depth=50, min_samples_leaf=10, n_estimators=500;, score=0.945 total time=   0.8s\n",
      "[CV 5/5] END max_depth=50, min_samples_leaf=10, n_estimators=500;, score=0.945 total time=   1.7s\n",
      "[CV 1/5] END max_depth=50, min_samples_leaf=20, n_estimators=50;, score=0.923 total time=   0.0s\n",
      "[CV 2/5] END max_depth=50, min_samples_leaf=20, n_estimators=50;, score=0.978 total time=   0.0s\n",
      "[CV 3/5] END max_depth=50, min_samples_leaf=20, n_estimators=50;, score=0.956 total time=   0.0s\n",
      "[CV 4/5] END max_depth=50, min_samples_leaf=20, n_estimators=50;, score=0.934 total time=   0.0s\n",
      "[CV 5/5] END max_depth=50, min_samples_leaf=20, n_estimators=50;, score=0.945 total time=   0.0s\n",
      "[CV 1/5] END max_depth=50, min_samples_leaf=20, n_estimators=100;, score=0.912 total time=   0.1s\n",
      "[CV 2/5] END max_depth=50, min_samples_leaf=20, n_estimators=100;, score=0.945 total time=   0.1s\n",
      "[CV 3/5] END max_depth=50, min_samples_leaf=20, n_estimators=100;, score=0.934 total time=   0.1s\n",
      "[CV 4/5] END max_depth=50, min_samples_leaf=20, n_estimators=100;, score=0.934 total time=   0.1s\n",
      "[CV 5/5] END max_depth=50, min_samples_leaf=20, n_estimators=100;, score=0.956 total time=   0.1s\n",
      "[CV 1/5] END max_depth=50, min_samples_leaf=20, n_estimators=200;, score=0.912 total time=   0.7s\n",
      "[CV 2/5] END max_depth=50, min_samples_leaf=20, n_estimators=200;, score=0.945 total time=   0.7s\n",
      "[CV 3/5] END max_depth=50, min_samples_leaf=20, n_estimators=200;, score=0.956 total time=   0.4s\n",
      "[CV 4/5] END max_depth=50, min_samples_leaf=20, n_estimators=200;, score=0.934 total time=   0.3s\n",
      "[CV 5/5] END max_depth=50, min_samples_leaf=20, n_estimators=200;, score=0.945 total time=   0.3s\n",
      "[CV 1/5] END max_depth=50, min_samples_leaf=20, n_estimators=500;, score=0.912 total time=   1.4s\n",
      "[CV 2/5] END max_depth=50, min_samples_leaf=20, n_estimators=500;, score=0.956 total time=   1.0s\n",
      "[CV 3/5] END max_depth=50, min_samples_leaf=20, n_estimators=500;, score=0.934 total time=   1.2s\n",
      "[CV 4/5] END max_depth=50, min_samples_leaf=20, n_estimators=500;, score=0.934 total time=   1.3s\n",
      "[CV 5/5] END max_depth=50, min_samples_leaf=20, n_estimators=500;, score=0.945 total time=   0.8s\n",
      "[CV 1/5] END max_depth=50, min_samples_leaf=50, n_estimators=50;, score=0.912 total time=   0.0s\n",
      "[CV 2/5] END max_depth=50, min_samples_leaf=50, n_estimators=50;, score=0.901 total time=   0.0s\n",
      "[CV 3/5] END max_depth=50, min_samples_leaf=50, n_estimators=50;, score=0.912 total time=   0.1s\n",
      "[CV 4/5] END max_depth=50, min_samples_leaf=50, n_estimators=50;, score=0.934 total time=   0.1s\n",
      "[CV 5/5] END max_depth=50, min_samples_leaf=50, n_estimators=50;, score=0.945 total time=   0.1s\n",
      "[CV 1/5] END max_depth=50, min_samples_leaf=50, n_estimators=100;, score=0.923 total time=   0.3s\n",
      "[CV 2/5] END max_depth=50, min_samples_leaf=50, n_estimators=100;, score=0.934 total time=   0.3s\n",
      "[CV 3/5] END max_depth=50, min_samples_leaf=50, n_estimators=100;, score=0.934 total time=   0.1s\n",
      "[CV 4/5] END max_depth=50, min_samples_leaf=50, n_estimators=100;, score=0.934 total time=   0.1s\n",
      "[CV 5/5] END max_depth=50, min_samples_leaf=50, n_estimators=100;, score=0.956 total time=   0.1s\n",
      "[CV 1/5] END max_depth=50, min_samples_leaf=50, n_estimators=200;, score=0.912 total time=   0.3s\n",
      "[CV 2/5] END max_depth=50, min_samples_leaf=50, n_estimators=200;, score=0.923 total time=   0.2s\n",
      "[CV 3/5] END max_depth=50, min_samples_leaf=50, n_estimators=200;, score=0.912 total time=   0.2s\n",
      "[CV 4/5] END max_depth=50, min_samples_leaf=50, n_estimators=200;, score=0.912 total time=   0.4s\n",
      "[CV 5/5] END max_depth=50, min_samples_leaf=50, n_estimators=200;, score=0.934 total time=   0.7s\n",
      "[CV 1/5] END max_depth=50, min_samples_leaf=50, n_estimators=500;, score=0.912 total time=   0.9s\n",
      "[CV 2/5] END max_depth=50, min_samples_leaf=50, n_estimators=500;, score=0.967 total time=   0.7s\n",
      "[CV 3/5] END max_depth=50, min_samples_leaf=50, n_estimators=500;, score=0.912 total time=   1.6s\n",
      "[CV 4/5] END max_depth=50, min_samples_leaf=50, n_estimators=500;, score=0.923 total time=   0.6s\n",
      "[CV 5/5] END max_depth=50, min_samples_leaf=50, n_estimators=500;, score=0.956 total time=   1.0s\n",
      "[CV 1/5] END max_depth=100, min_samples_leaf=10, n_estimators=50;, score=0.934 total time=   0.1s\n",
      "[CV 2/5] END max_depth=100, min_samples_leaf=10, n_estimators=50;, score=0.945 total time=   0.1s\n",
      "[CV 3/5] END max_depth=100, min_samples_leaf=10, n_estimators=50;, score=0.967 total time=   0.1s\n",
      "[CV 4/5] END max_depth=100, min_samples_leaf=10, n_estimators=50;, score=0.945 total time=   0.1s\n",
      "[CV 5/5] END max_depth=100, min_samples_leaf=10, n_estimators=50;, score=0.945 total time=   0.1s\n",
      "[CV 1/5] END max_depth=100, min_samples_leaf=10, n_estimators=100;, score=0.912 total time=   0.1s\n",
      "[CV 2/5] END max_depth=100, min_samples_leaf=10, n_estimators=100;, score=0.967 total time=   0.1s\n",
      "[CV 3/5] END max_depth=100, min_samples_leaf=10, n_estimators=100;, score=0.945 total time=   0.1s\n",
      "[CV 4/5] END max_depth=100, min_samples_leaf=10, n_estimators=100;, score=0.945 total time=   0.1s\n",
      "[CV 5/5] END max_depth=100, min_samples_leaf=10, n_estimators=100;, score=0.945 total time=   0.1s\n",
      "[CV 1/5] END max_depth=100, min_samples_leaf=10, n_estimators=200;, score=0.923 total time=   0.3s\n",
      "[CV 2/5] END max_depth=100, min_samples_leaf=10, n_estimators=200;, score=0.978 total time=   0.4s\n",
      "[CV 3/5] END max_depth=100, min_samples_leaf=10, n_estimators=200;, score=0.956 total time=   0.8s\n",
      "[CV 4/5] END max_depth=100, min_samples_leaf=10, n_estimators=200;, score=0.945 total time=   0.5s\n",
      "[CV 5/5] END max_depth=100, min_samples_leaf=10, n_estimators=200;, score=0.945 total time=   0.3s\n",
      "[CV 1/5] END max_depth=100, min_samples_leaf=10, n_estimators=500;, score=0.923 total time=   0.7s\n",
      "[CV 2/5] END max_depth=100, min_samples_leaf=10, n_estimators=500;, score=0.967 total time=   1.7s\n",
      "[CV 3/5] END max_depth=100, min_samples_leaf=10, n_estimators=500;, score=0.945 total time=   0.8s\n",
      "[CV 4/5] END max_depth=100, min_samples_leaf=10, n_estimators=500;, score=0.945 total time=   1.5s\n",
      "[CV 5/5] END max_depth=100, min_samples_leaf=10, n_estimators=500;, score=0.945 total time=   0.9s\n",
      "[CV 1/5] END max_depth=100, min_samples_leaf=20, n_estimators=50;, score=0.912 total time=   0.0s\n",
      "[CV 2/5] END max_depth=100, min_samples_leaf=20, n_estimators=50;, score=0.956 total time=   0.0s\n",
      "[CV 3/5] END max_depth=100, min_samples_leaf=20, n_estimators=50;, score=0.945 total time=   0.0s\n",
      "[CV 4/5] END max_depth=100, min_samples_leaf=20, n_estimators=50;, score=0.934 total time=   0.0s\n",
      "[CV 5/5] END max_depth=100, min_samples_leaf=20, n_estimators=50;, score=0.945 total time=   0.0s\n",
      "[CV 1/5] END max_depth=100, min_samples_leaf=20, n_estimators=100;, score=0.923 total time=   0.1s\n",
      "[CV 2/5] END max_depth=100, min_samples_leaf=20, n_estimators=100;, score=0.956 total time=   0.1s\n",
      "[CV 3/5] END max_depth=100, min_samples_leaf=20, n_estimators=100;, score=0.934 total time=   0.3s\n",
      "[CV 4/5] END max_depth=100, min_samples_leaf=20, n_estimators=100;, score=0.934 total time=   0.3s\n",
      "[CV 5/5] END max_depth=100, min_samples_leaf=20, n_estimators=100;, score=0.945 total time=   0.3s\n",
      "[CV 1/5] END max_depth=100, min_samples_leaf=20, n_estimators=200;, score=0.912 total time=   0.3s\n",
      "[CV 2/5] END max_depth=100, min_samples_leaf=20, n_estimators=200;, score=0.956 total time=   0.2s\n",
      "[CV 3/5] END max_depth=100, min_samples_leaf=20, n_estimators=200;, score=0.956 total time=   0.3s\n",
      "[CV 4/5] END max_depth=100, min_samples_leaf=20, n_estimators=200;, score=0.934 total time=   0.2s\n",
      "[CV 5/5] END max_depth=100, min_samples_leaf=20, n_estimators=200;, score=0.945 total time=   0.5s\n",
      "[CV 1/5] END max_depth=100, min_samples_leaf=20, n_estimators=500;, score=0.912 total time=   1.4s\n",
      "[CV 2/5] END max_depth=100, min_samples_leaf=20, n_estimators=500;, score=0.956 total time=   0.7s\n",
      "[CV 3/5] END max_depth=100, min_samples_leaf=20, n_estimators=500;, score=0.945 total time=   1.7s\n",
      "[CV 4/5] END max_depth=100, min_samples_leaf=20, n_estimators=500;, score=0.934 total time=   0.7s\n",
      "[CV 5/5] END max_depth=100, min_samples_leaf=20, n_estimators=500;, score=0.945 total time=   1.0s\n",
      "[CV 1/5] END max_depth=100, min_samples_leaf=50, n_estimators=50;, score=0.912 total time=   0.1s\n",
      "[CV 2/5] END max_depth=100, min_samples_leaf=50, n_estimators=50;, score=0.934 total time=   0.1s\n",
      "[CV 3/5] END max_depth=100, min_samples_leaf=50, n_estimators=50;, score=0.934 total time=   0.1s\n",
      "[CV 4/5] END max_depth=100, min_samples_leaf=50, n_estimators=50;, score=0.923 total time=   0.1s\n",
      "[CV 5/5] END max_depth=100, min_samples_leaf=50, n_estimators=50;, score=0.945 total time=   0.1s\n",
      "[CV 1/5] END max_depth=100, min_samples_leaf=50, n_estimators=100;, score=0.912 total time=   0.1s\n",
      "[CV 2/5] END max_depth=100, min_samples_leaf=50, n_estimators=100;, score=0.945 total time=   0.1s\n",
      "[CV 3/5] END max_depth=100, min_samples_leaf=50, n_estimators=100;, score=0.945 total time=   0.1s\n",
      "[CV 4/5] END max_depth=100, min_samples_leaf=50, n_estimators=100;, score=0.934 total time=   0.1s\n",
      "[CV 5/5] END max_depth=100, min_samples_leaf=50, n_estimators=100;, score=0.934 total time=   0.1s\n",
      "[CV 1/5] END max_depth=100, min_samples_leaf=50, n_estimators=200;, score=0.912 total time=   0.2s\n",
      "[CV 2/5] END max_depth=100, min_samples_leaf=50, n_estimators=200;, score=0.923 total time=   0.2s\n",
      "[CV 3/5] END max_depth=100, min_samples_leaf=50, n_estimators=200;, score=0.912 total time=   0.6s\n",
      "[CV 4/5] END max_depth=100, min_samples_leaf=50, n_estimators=200;, score=0.934 total time=   0.6s\n",
      "[CV 5/5] END max_depth=100, min_samples_leaf=50, n_estimators=200;, score=0.934 total time=   0.4s\n",
      "[CV 1/5] END max_depth=100, min_samples_leaf=50, n_estimators=500;, score=0.912 total time=   0.7s\n",
      "[CV 2/5] END max_depth=100, min_samples_leaf=50, n_estimators=500;, score=0.956 total time=   1.0s\n",
      "[CV 3/5] END max_depth=100, min_samples_leaf=50, n_estimators=500;, score=0.934 total time=   1.1s\n",
      "[CV 4/5] END max_depth=100, min_samples_leaf=50, n_estimators=500;, score=0.934 total time=   0.7s\n",
      "[CV 5/5] END max_depth=100, min_samples_leaf=50, n_estimators=500;, score=0.934 total time=   1.2s\n"
     ]
    },
    {
     "data": {
      "text/html": [
       "<style>#sk-container-id-2 {color: black;background-color: white;}#sk-container-id-2 pre{padding: 0;}#sk-container-id-2 div.sk-toggleable {background-color: white;}#sk-container-id-2 label.sk-toggleable__label {cursor: pointer;display: block;width: 100%;margin-bottom: 0;padding: 0.3em;box-sizing: border-box;text-align: center;}#sk-container-id-2 label.sk-toggleable__label-arrow:before {content: \"▸\";float: left;margin-right: 0.25em;color: #696969;}#sk-container-id-2 label.sk-toggleable__label-arrow:hover:before {color: black;}#sk-container-id-2 div.sk-estimator:hover label.sk-toggleable__label-arrow:before {color: black;}#sk-container-id-2 div.sk-toggleable__content {max-height: 0;max-width: 0;overflow: hidden;text-align: left;background-color: #f0f8ff;}#sk-container-id-2 div.sk-toggleable__content pre {margin: 0.2em;color: black;border-radius: 0.25em;background-color: #f0f8ff;}#sk-container-id-2 input.sk-toggleable__control:checked~div.sk-toggleable__content {max-height: 200px;max-width: 100%;overflow: auto;}#sk-container-id-2 input.sk-toggleable__control:checked~label.sk-toggleable__label-arrow:before {content: \"▾\";}#sk-container-id-2 div.sk-estimator input.sk-toggleable__control:checked~label.sk-toggleable__label {background-color: #d4ebff;}#sk-container-id-2 div.sk-label input.sk-toggleable__control:checked~label.sk-toggleable__label {background-color: #d4ebff;}#sk-container-id-2 input.sk-hidden--visually {border: 0;clip: rect(1px 1px 1px 1px);clip: rect(1px, 1px, 1px, 1px);height: 1px;margin: -1px;overflow: hidden;padding: 0;position: absolute;width: 1px;}#sk-container-id-2 div.sk-estimator {font-family: monospace;background-color: #f0f8ff;border: 1px dotted black;border-radius: 0.25em;box-sizing: border-box;margin-bottom: 0.5em;}#sk-container-id-2 div.sk-estimator:hover {background-color: #d4ebff;}#sk-container-id-2 div.sk-parallel-item::after {content: \"\";width: 100%;border-bottom: 1px solid gray;flex-grow: 1;}#sk-container-id-2 div.sk-label:hover label.sk-toggleable__label {background-color: #d4ebff;}#sk-container-id-2 div.sk-serial::before {content: \"\";position: absolute;border-left: 1px solid gray;box-sizing: border-box;top: 0;bottom: 0;left: 50%;z-index: 0;}#sk-container-id-2 div.sk-serial {display: flex;flex-direction: column;align-items: center;background-color: white;padding-right: 0.2em;padding-left: 0.2em;position: relative;}#sk-container-id-2 div.sk-item {position: relative;z-index: 1;}#sk-container-id-2 div.sk-parallel {display: flex;align-items: stretch;justify-content: center;background-color: white;position: relative;}#sk-container-id-2 div.sk-item::before, #sk-container-id-2 div.sk-parallel-item::before {content: \"\";position: absolute;border-left: 1px solid gray;box-sizing: border-box;top: 0;bottom: 0;left: 50%;z-index: -1;}#sk-container-id-2 div.sk-parallel-item {display: flex;flex-direction: column;z-index: 1;position: relative;background-color: white;}#sk-container-id-2 div.sk-parallel-item:first-child::after {align-self: flex-end;width: 50%;}#sk-container-id-2 div.sk-parallel-item:last-child::after {align-self: flex-start;width: 50%;}#sk-container-id-2 div.sk-parallel-item:only-child::after {width: 0;}#sk-container-id-2 div.sk-dashed-wrapped {border: 1px dashed gray;margin: 0 0.4em 0.5em 0.4em;box-sizing: border-box;padding-bottom: 0.4em;background-color: white;}#sk-container-id-2 div.sk-label label {font-family: monospace;font-weight: bold;display: inline-block;line-height: 1.2em;}#sk-container-id-2 div.sk-label-container {text-align: center;}#sk-container-id-2 div.sk-container {/* jupyter's `normalize.less` sets `[hidden] { display: none; }` but bootstrap.min.css set `[hidden] { display: none !important; }` so we also need the `!important` here to be able to override the default hidden behavior on the sphinx rendered scikit-learn.org. See: https://github.com/scikit-learn/scikit-learn/issues/21755 */display: inline-block !important;position: relative;}#sk-container-id-2 div.sk-text-repr-fallback {display: none;}</style><div id=\"sk-container-id-2\" class=\"sk-top-container\"><div class=\"sk-text-repr-fallback\"><pre>GridSearchCV(estimator=RandomForestClassifier(),\n",
       "             param_grid={&#x27;max_depth&#x27;: [10, 20, 50, 100],\n",
       "                         &#x27;min_samples_leaf&#x27;: [10, 20, 50],\n",
       "                         &#x27;n_estimators&#x27;: [50, 100, 200, 500]},\n",
       "             verbose=5)</pre><b>In a Jupyter environment, please rerun this cell to show the HTML representation or trust the notebook. <br />On GitHub, the HTML representation is unable to render, please try loading this page with nbviewer.org.</b></div><div class=\"sk-container\" hidden><div class=\"sk-item sk-dashed-wrapped\"><div class=\"sk-label-container\"><div class=\"sk-label sk-toggleable\"><input class=\"sk-toggleable__control sk-hidden--visually\" id=\"sk-estimator-id-4\" type=\"checkbox\" ><label for=\"sk-estimator-id-4\" class=\"sk-toggleable__label sk-toggleable__label-arrow\">GridSearchCV</label><div class=\"sk-toggleable__content\"><pre>GridSearchCV(estimator=RandomForestClassifier(),\n",
       "             param_grid={&#x27;max_depth&#x27;: [10, 20, 50, 100],\n",
       "                         &#x27;min_samples_leaf&#x27;: [10, 20, 50],\n",
       "                         &#x27;n_estimators&#x27;: [50, 100, 200, 500]},\n",
       "             verbose=5)</pre></div></div></div><div class=\"sk-parallel\"><div class=\"sk-parallel-item\"><div class=\"sk-item\"><div class=\"sk-label-container\"><div class=\"sk-label sk-toggleable\"><input class=\"sk-toggleable__control sk-hidden--visually\" id=\"sk-estimator-id-5\" type=\"checkbox\" ><label for=\"sk-estimator-id-5\" class=\"sk-toggleable__label sk-toggleable__label-arrow\">estimator: RandomForestClassifier</label><div class=\"sk-toggleable__content\"><pre>RandomForestClassifier()</pre></div></div></div><div class=\"sk-serial\"><div class=\"sk-item\"><div class=\"sk-estimator sk-toggleable\"><input class=\"sk-toggleable__control sk-hidden--visually\" id=\"sk-estimator-id-6\" type=\"checkbox\" ><label for=\"sk-estimator-id-6\" class=\"sk-toggleable__label sk-toggleable__label-arrow\">RandomForestClassifier</label><div class=\"sk-toggleable__content\"><pre>RandomForestClassifier()</pre></div></div></div></div></div></div></div></div></div></div>"
      ],
      "text/plain": [
       "GridSearchCV(estimator=RandomForestClassifier(),\n",
       "             param_grid={'max_depth': [10, 20, 50, 100],\n",
       "                         'min_samples_leaf': [10, 20, 50],\n",
       "                         'n_estimators': [50, 100, 200, 500]},\n",
       "             verbose=5)"
      ]
     },
     "execution_count": 63,
     "metadata": {},
     "output_type": "execute_result"
    }
   ],
   "source": [
    "rf_tuned_parameters = {\"max_depth\": [10, 20, 50, 100], 'n_estimators': [50, 100, 200, 500], 'min_samples_leaf': [10, 20, 50]}\n",
    "cv_grid = GridSearchCV(rf_2, param_grid = rf_tuned_parameters, verbose = 5)\n",
    "cv_grid.fit(X_train, y_train)"
   ]
  },
  {
   "cell_type": "code",
   "execution_count": 64,
   "id": "bb0a6b97-3e78-4d33-86e4-4dc7a69e1f7a",
   "metadata": {},
   "outputs": [
    {
     "data": {
      "text/plain": [
       "{'bootstrap': True,\n",
       " 'ccp_alpha': 0.0,\n",
       " 'class_weight': None,\n",
       " 'criterion': 'gini',\n",
       " 'max_depth': 10,\n",
       " 'max_features': 'sqrt',\n",
       " 'max_leaf_nodes': None,\n",
       " 'max_samples': None,\n",
       " 'min_impurity_decrease': 0.0,\n",
       " 'min_samples_leaf': 10,\n",
       " 'min_samples_split': 2,\n",
       " 'min_weight_fraction_leaf': 0.0,\n",
       " 'n_estimators': 50,\n",
       " 'n_jobs': None,\n",
       " 'oob_score': False,\n",
       " 'random_state': None,\n",
       " 'verbose': 0,\n",
       " 'warm_start': False}"
      ]
     },
     "execution_count": 64,
     "metadata": {},
     "output_type": "execute_result"
    }
   ],
   "source": [
    "best_parameters = cv_grid.best_estimator_.get_params()\n",
    "best_parameters"
   ]
  },
  {
   "cell_type": "code",
   "execution_count": 65,
   "id": "a238c900-055c-471f-9665-a30f953a1846",
   "metadata": {},
   "outputs": [
    {
     "name": "stdout",
     "output_type": "stream",
     "text": [
      "Confusion Matrix : \n",
      " [[42  3]\n",
      " [ 6 63]]\n",
      "Accuracy Score is 0.921052632\n",
      "Classification Report : \n",
      "               precision    recall  f1-score   support\n",
      "\n",
      "           0       0.88      0.93      0.90        45\n",
      "           1       0.95      0.91      0.93        69\n",
      "\n",
      "    accuracy                           0.92       114\n",
      "   macro avg       0.91      0.92      0.92       114\n",
      "weighted avg       0.92      0.92      0.92       114\n",
      "\n",
      "AUC-ROC: 0.9231884057971015\n",
      "LOGLOSS Value is 2.8456\n"
     ]
    }
   ],
   "source": [
    "rf_2_pred = cv_grid.predict(X_test)\n",
    "fpr, tpr, thresholds = roc_curve(y_test, rf_2_pred)\n",
    "roc_auc = auc(fpr, tpr)\n",
    "results = confusion_matrix(y_test, rf_2_pred)\n",
    "print('Confusion Matrix : \\n', results)\n",
    "print('Accuracy Score is %.9f' % (accuracy_score(y_test, rf_2_pred)))\n",
    "print('Classification Report : \\n', classification_report(y_test, rf_2_pred))\n",
    "print('AUC-ROC:',roc_auc_score(y_test, rf_2_pred))\n",
    "print('LOGLOSS Value is %.4f' % log_loss(y_test, rf_2_pred))"
   ]
  },
  {
   "cell_type": "markdown",
   "id": "45814450-18d2-47b5-8252-dba2e39dc816",
   "metadata": {},
   "source": [
    "##### 3. GradientBoostingClassifier"
   ]
  },
  {
   "cell_type": "code",
   "execution_count": 67,
   "id": "c8be67d8-9528-4a5d-b2d5-e59dda46eacc",
   "metadata": {},
   "outputs": [],
   "source": [
    "from sklearn.ensemble import GradientBoostingClassifier\n",
    "gbm_2= GradientBoostingClassifier()"
   ]
  },
  {
   "cell_type": "code",
   "execution_count": 68,
   "id": "c22c809f-d81e-4954-bcad-1f7c18c8d245",
   "metadata": {},
   "outputs": [],
   "source": [
    "rf_tuned_parameters = {\"max_depth\": [10, 20, 50, 100], 'n_estimators': [50, 100, 200, 500], \n",
    "                       'min_samples_leaf': [10, 20, 50], 'learning_rate': [0.1, 0.01]}"
   ]
  },
  {
   "cell_type": "code",
   "execution_count": 70,
   "id": "9224fd12-5d13-4d50-85ab-1db4a8c0ba58",
   "metadata": {},
   "outputs": [
    {
     "name": "stdout",
     "output_type": "stream",
     "text": [
      "Fitting 5 folds for each of 96 candidates, totalling 480 fits\n",
      "[CV 1/5] END learning_rate=0.1, max_depth=10, min_samples_leaf=10, n_estimators=50;, score=0.989 total time=   0.5s\n",
      "[CV 2/5] END learning_rate=0.1, max_depth=10, min_samples_leaf=10, n_estimators=50;, score=1.000 total time=   0.4s\n",
      "[CV 3/5] END learning_rate=0.1, max_depth=10, min_samples_leaf=10, n_estimators=50;, score=0.998 total time=   0.4s\n",
      "[CV 4/5] END learning_rate=0.1, max_depth=10, min_samples_leaf=10, n_estimators=50;, score=0.983 total time=   0.4s\n",
      "[CV 5/5] END learning_rate=0.1, max_depth=10, min_samples_leaf=10, n_estimators=50;, score=0.997 total time=   0.4s\n",
      "[CV 1/5] END learning_rate=0.1, max_depth=10, min_samples_leaf=10, n_estimators=100;, score=0.984 total time=   0.9s\n",
      "[CV 2/5] END learning_rate=0.1, max_depth=10, min_samples_leaf=10, n_estimators=100;, score=0.999 total time=   0.9s\n",
      "[CV 3/5] END learning_rate=0.1, max_depth=10, min_samples_leaf=10, n_estimators=100;, score=1.000 total time=   0.8s\n",
      "[CV 4/5] END learning_rate=0.1, max_depth=10, min_samples_leaf=10, n_estimators=100;, score=0.981 total time=   1.8s\n",
      "[CV 5/5] END learning_rate=0.1, max_depth=10, min_samples_leaf=10, n_estimators=100;, score=0.997 total time=   0.9s\n",
      "[CV 1/5] END learning_rate=0.1, max_depth=10, min_samples_leaf=10, n_estimators=200;, score=0.984 total time=   1.8s\n",
      "[CV 2/5] END learning_rate=0.1, max_depth=10, min_samples_leaf=10, n_estimators=200;, score=0.999 total time=   1.8s\n",
      "[CV 3/5] END learning_rate=0.1, max_depth=10, min_samples_leaf=10, n_estimators=200;, score=1.000 total time=   2.7s\n",
      "[CV 4/5] END learning_rate=0.1, max_depth=10, min_samples_leaf=10, n_estimators=200;, score=0.987 total time=   2.0s\n",
      "[CV 5/5] END learning_rate=0.1, max_depth=10, min_samples_leaf=10, n_estimators=200;, score=0.997 total time=   2.7s\n",
      "[CV 1/5] END learning_rate=0.1, max_depth=10, min_samples_leaf=10, n_estimators=500;, score=0.981 total time=   2.9s\n",
      "[CV 2/5] END learning_rate=0.1, max_depth=10, min_samples_leaf=10, n_estimators=500;, score=1.000 total time=   3.3s\n",
      "[CV 3/5] END learning_rate=0.1, max_depth=10, min_samples_leaf=10, n_estimators=500;, score=1.000 total time=   2.4s\n",
      "[CV 4/5] END learning_rate=0.1, max_depth=10, min_samples_leaf=10, n_estimators=500;, score=0.990 total time=   2.4s\n",
      "[CV 5/5] END learning_rate=0.1, max_depth=10, min_samples_leaf=10, n_estimators=500;, score=0.997 total time=   3.9s\n",
      "[CV 1/5] END learning_rate=0.1, max_depth=10, min_samples_leaf=20, n_estimators=50;, score=0.985 total time=   0.6s\n",
      "[CV 2/5] END learning_rate=0.1, max_depth=10, min_samples_leaf=20, n_estimators=50;, score=1.000 total time=   0.2s\n",
      "[CV 3/5] END learning_rate=0.1, max_depth=10, min_samples_leaf=20, n_estimators=50;, score=0.999 total time=   0.2s\n",
      "[CV 4/5] END learning_rate=0.1, max_depth=10, min_samples_leaf=20, n_estimators=50;, score=0.983 total time=   0.3s\n",
      "[CV 5/5] END learning_rate=0.1, max_depth=10, min_samples_leaf=20, n_estimators=50;, score=0.996 total time=   0.3s\n",
      "[CV 1/5] END learning_rate=0.1, max_depth=10, min_samples_leaf=20, n_estimators=100;, score=0.984 total time=   0.6s\n",
      "[CV 2/5] END learning_rate=0.1, max_depth=10, min_samples_leaf=20, n_estimators=100;, score=1.000 total time=   0.6s\n",
      "[CV 3/5] END learning_rate=0.1, max_depth=10, min_samples_leaf=20, n_estimators=100;, score=0.999 total time=   1.0s\n",
      "[CV 4/5] END learning_rate=0.1, max_depth=10, min_samples_leaf=20, n_estimators=100;, score=0.989 total time=   1.0s\n",
      "[CV 5/5] END learning_rate=0.1, max_depth=10, min_samples_leaf=20, n_estimators=100;, score=0.996 total time=   0.6s\n",
      "[CV 1/5] END learning_rate=0.1, max_depth=10, min_samples_leaf=20, n_estimators=200;, score=0.981 total time=   2.1s\n",
      "[CV 2/5] END learning_rate=0.1, max_depth=10, min_samples_leaf=20, n_estimators=200;, score=1.000 total time=   1.3s\n",
      "[CV 3/5] END learning_rate=0.1, max_depth=10, min_samples_leaf=20, n_estimators=200;, score=1.000 total time=   1.9s\n",
      "[CV 4/5] END learning_rate=0.1, max_depth=10, min_samples_leaf=20, n_estimators=200;, score=0.991 total time=   1.4s\n",
      "[CV 5/5] END learning_rate=0.1, max_depth=10, min_samples_leaf=20, n_estimators=200;, score=0.997 total time=   1.8s\n",
      "[CV 1/5] END learning_rate=0.1, max_depth=10, min_samples_leaf=20, n_estimators=500;, score=0.982 total time=   2.6s\n",
      "[CV 2/5] END learning_rate=0.1, max_depth=10, min_samples_leaf=20, n_estimators=500;, score=1.000 total time=   2.6s\n",
      "[CV 3/5] END learning_rate=0.1, max_depth=10, min_samples_leaf=20, n_estimators=500;, score=1.000 total time=   2.9s\n",
      "[CV 4/5] END learning_rate=0.1, max_depth=10, min_samples_leaf=20, n_estimators=500;, score=0.991 total time=   3.0s\n",
      "[CV 5/5] END learning_rate=0.1, max_depth=10, min_samples_leaf=20, n_estimators=500;, score=0.997 total time=   3.1s\n",
      "[CV 1/5] END learning_rate=0.1, max_depth=10, min_samples_leaf=50, n_estimators=50;, score=0.982 total time=   0.1s\n",
      "[CV 2/5] END learning_rate=0.1, max_depth=10, min_samples_leaf=50, n_estimators=50;, score=1.000 total time=   0.1s\n",
      "[CV 3/5] END learning_rate=0.1, max_depth=10, min_samples_leaf=50, n_estimators=50;, score=0.997 total time=   0.1s\n",
      "[CV 4/5] END learning_rate=0.1, max_depth=10, min_samples_leaf=50, n_estimators=50;, score=0.991 total time=   0.1s\n",
      "[CV 5/5] END learning_rate=0.1, max_depth=10, min_samples_leaf=50, n_estimators=50;, score=0.997 total time=   0.1s\n",
      "[CV 1/5] END learning_rate=0.1, max_depth=10, min_samples_leaf=50, n_estimators=100;, score=0.985 total time=   0.3s\n",
      "[CV 2/5] END learning_rate=0.1, max_depth=10, min_samples_leaf=50, n_estimators=100;, score=0.999 total time=   0.2s\n",
      "[CV 3/5] END learning_rate=0.1, max_depth=10, min_samples_leaf=50, n_estimators=100;, score=0.998 total time=   0.2s\n",
      "[CV 4/5] END learning_rate=0.1, max_depth=10, min_samples_leaf=50, n_estimators=100;, score=0.994 total time=   0.2s\n",
      "[CV 5/5] END learning_rate=0.1, max_depth=10, min_samples_leaf=50, n_estimators=100;, score=0.998 total time=   0.6s\n",
      "[CV 1/5] END learning_rate=0.1, max_depth=10, min_samples_leaf=50, n_estimators=200;, score=0.983 total time=   1.1s\n",
      "[CV 2/5] END learning_rate=0.1, max_depth=10, min_samples_leaf=50, n_estimators=200;, score=0.999 total time=   0.6s\n",
      "[CV 3/5] END learning_rate=0.1, max_depth=10, min_samples_leaf=50, n_estimators=200;, score=0.998 total time=   0.5s\n",
      "[CV 4/5] END learning_rate=0.1, max_depth=10, min_samples_leaf=50, n_estimators=200;, score=0.994 total time=   1.4s\n",
      "[CV 5/5] END learning_rate=0.1, max_depth=10, min_samples_leaf=50, n_estimators=200;, score=0.998 total time=   0.6s\n",
      "[CV 1/5] END learning_rate=0.1, max_depth=10, min_samples_leaf=50, n_estimators=500;, score=0.981 total time=   2.5s\n",
      "[CV 2/5] END learning_rate=0.1, max_depth=10, min_samples_leaf=50, n_estimators=500;, score=0.996 total time=   1.6s\n",
      "[CV 3/5] END learning_rate=0.1, max_depth=10, min_samples_leaf=50, n_estimators=500;, score=0.999 total time=   1.7s\n",
      "[CV 4/5] END learning_rate=0.1, max_depth=10, min_samples_leaf=50, n_estimators=500;, score=0.995 total time=   1.8s\n",
      "[CV 5/5] END learning_rate=0.1, max_depth=10, min_samples_leaf=50, n_estimators=500;, score=0.997 total time=   2.6s\n",
      "[CV 1/5] END learning_rate=0.1, max_depth=20, min_samples_leaf=10, n_estimators=50;, score=0.988 total time=   0.5s\n",
      "[CV 2/5] END learning_rate=0.1, max_depth=20, min_samples_leaf=10, n_estimators=50;, score=1.000 total time=   1.0s\n",
      "[CV 3/5] END learning_rate=0.1, max_depth=20, min_samples_leaf=10, n_estimators=50;, score=0.997 total time=   0.7s\n",
      "[CV 4/5] END learning_rate=0.1, max_depth=20, min_samples_leaf=10, n_estimators=50;, score=0.986 total time=   0.5s\n",
      "[CV 5/5] END learning_rate=0.1, max_depth=20, min_samples_leaf=10, n_estimators=50;, score=0.997 total time=   0.5s\n",
      "[CV 1/5] END learning_rate=0.1, max_depth=20, min_samples_leaf=10, n_estimators=100;, score=0.984 total time=   1.8s\n",
      "[CV 2/5] END learning_rate=0.1, max_depth=20, min_samples_leaf=10, n_estimators=100;, score=1.000 total time=   1.1s\n",
      "[CV 3/5] END learning_rate=0.1, max_depth=20, min_samples_leaf=10, n_estimators=100;, score=1.000 total time=   2.0s\n",
      "[CV 4/5] END learning_rate=0.1, max_depth=20, min_samples_leaf=10, n_estimators=100;, score=0.987 total time=   1.4s\n",
      "[CV 5/5] END learning_rate=0.1, max_depth=20, min_samples_leaf=10, n_estimators=100;, score=0.997 total time=   1.6s\n",
      "[CV 1/5] END learning_rate=0.1, max_depth=20, min_samples_leaf=10, n_estimators=200;, score=0.981 total time=   3.0s\n",
      "[CV 2/5] END learning_rate=0.1, max_depth=20, min_samples_leaf=10, n_estimators=200;, score=1.000 total time=   3.4s\n",
      "[CV 3/5] END learning_rate=0.1, max_depth=20, min_samples_leaf=10, n_estimators=200;, score=1.000 total time=   2.8s\n",
      "[CV 4/5] END learning_rate=0.1, max_depth=20, min_samples_leaf=10, n_estimators=200;, score=0.987 total time=   3.0s\n",
      "[CV 5/5] END learning_rate=0.1, max_depth=20, min_samples_leaf=10, n_estimators=200;, score=0.998 total time=   3.0s\n",
      "[CV 1/5] END learning_rate=0.1, max_depth=20, min_samples_leaf=10, n_estimators=500;, score=0.982 total time=   3.2s\n",
      "[CV 2/5] END learning_rate=0.1, max_depth=20, min_samples_leaf=10, n_estimators=500;, score=1.000 total time=   3.8s\n",
      "[CV 3/5] END learning_rate=0.1, max_depth=20, min_samples_leaf=10, n_estimators=500;, score=1.000 total time=   3.8s\n",
      "[CV 4/5] END learning_rate=0.1, max_depth=20, min_samples_leaf=10, n_estimators=500;, score=0.988 total time=   3.5s\n",
      "[CV 5/5] END learning_rate=0.1, max_depth=20, min_samples_leaf=10, n_estimators=500;, score=0.998 total time=   3.6s\n",
      "[CV 1/5] END learning_rate=0.1, max_depth=20, min_samples_leaf=20, n_estimators=50;, score=0.986 total time=   0.4s\n",
      "[CV 2/5] END learning_rate=0.1, max_depth=20, min_samples_leaf=20, n_estimators=50;, score=0.999 total time=   0.7s\n",
      "[CV 3/5] END learning_rate=0.1, max_depth=20, min_samples_leaf=20, n_estimators=50;, score=0.998 total time=   0.5s\n",
      "[CV 4/5] END learning_rate=0.1, max_depth=20, min_samples_leaf=20, n_estimators=50;, score=0.983 total time=   0.3s\n",
      "[CV 5/5] END learning_rate=0.1, max_depth=20, min_samples_leaf=20, n_estimators=50;, score=0.996 total time=   0.2s\n",
      "[CV 1/5] END learning_rate=0.1, max_depth=20, min_samples_leaf=20, n_estimators=100;, score=0.984 total time=   0.6s\n",
      "[CV 2/5] END learning_rate=0.1, max_depth=20, min_samples_leaf=20, n_estimators=100;, score=1.000 total time=   1.3s\n",
      "[CV 3/5] END learning_rate=0.1, max_depth=20, min_samples_leaf=20, n_estimators=100;, score=0.999 total time=   0.6s\n",
      "[CV 4/5] END learning_rate=0.1, max_depth=20, min_samples_leaf=20, n_estimators=100;, score=0.991 total time=   0.6s\n",
      "[CV 5/5] END learning_rate=0.1, max_depth=20, min_samples_leaf=20, n_estimators=100;, score=0.996 total time=   1.2s\n",
      "[CV 1/5] END learning_rate=0.1, max_depth=20, min_samples_leaf=20, n_estimators=200;, score=0.982 total time=   1.4s\n",
      "[CV 2/5] END learning_rate=0.1, max_depth=20, min_samples_leaf=20, n_estimators=200;, score=1.000 total time=   2.0s\n",
      "[CV 3/5] END learning_rate=0.1, max_depth=20, min_samples_leaf=20, n_estimators=200;, score=1.000 total time=   1.2s\n",
      "[CV 4/5] END learning_rate=0.1, max_depth=20, min_samples_leaf=20, n_estimators=200;, score=0.991 total time=   2.1s\n",
      "[CV 5/5] END learning_rate=0.1, max_depth=20, min_samples_leaf=20, n_estimators=200;, score=0.997 total time=   2.1s\n",
      "[CV 1/5] END learning_rate=0.1, max_depth=20, min_samples_leaf=20, n_estimators=500;, score=0.979 total time=   2.6s\n",
      "[CV 2/5] END learning_rate=0.1, max_depth=20, min_samples_leaf=20, n_estimators=500;, score=1.000 total time=   2.5s\n",
      "[CV 3/5] END learning_rate=0.1, max_depth=20, min_samples_leaf=20, n_estimators=500;, score=1.000 total time=   3.0s\n",
      "[CV 4/5] END learning_rate=0.1, max_depth=20, min_samples_leaf=20, n_estimators=500;, score=0.992 total time=   3.5s\n",
      "[CV 5/5] END learning_rate=0.1, max_depth=20, min_samples_leaf=20, n_estimators=500;, score=0.997 total time=   3.4s\n",
      "[CV 1/5] END learning_rate=0.1, max_depth=20, min_samples_leaf=50, n_estimators=50;, score=0.983 total time=   0.1s\n",
      "[CV 2/5] END learning_rate=0.1, max_depth=20, min_samples_leaf=50, n_estimators=50;, score=0.999 total time=   0.1s\n",
      "[CV 3/5] END learning_rate=0.1, max_depth=20, min_samples_leaf=50, n_estimators=50;, score=0.997 total time=   0.1s\n",
      "[CV 4/5] END learning_rate=0.1, max_depth=20, min_samples_leaf=50, n_estimators=50;, score=0.993 total time=   0.1s\n",
      "[CV 5/5] END learning_rate=0.1, max_depth=20, min_samples_leaf=50, n_estimators=50;, score=0.997 total time=   0.1s\n",
      "[CV 1/5] END learning_rate=0.1, max_depth=20, min_samples_leaf=50, n_estimators=100;, score=0.982 total time=   0.2s\n",
      "[CV 2/5] END learning_rate=0.1, max_depth=20, min_samples_leaf=50, n_estimators=100;, score=0.999 total time=   0.6s\n",
      "[CV 3/5] END learning_rate=0.1, max_depth=20, min_samples_leaf=50, n_estimators=100;, score=0.998 total time=   0.7s\n",
      "[CV 4/5] END learning_rate=0.1, max_depth=20, min_samples_leaf=50, n_estimators=100;, score=0.994 total time=   0.3s\n",
      "[CV 5/5] END learning_rate=0.1, max_depth=20, min_samples_leaf=50, n_estimators=100;, score=0.998 total time=   0.2s\n",
      "[CV 1/5] END learning_rate=0.1, max_depth=20, min_samples_leaf=50, n_estimators=200;, score=0.982 total time=   0.6s\n",
      "[CV 2/5] END learning_rate=0.1, max_depth=20, min_samples_leaf=50, n_estimators=200;, score=0.999 total time=   1.4s\n",
      "[CV 3/5] END learning_rate=0.1, max_depth=20, min_samples_leaf=50, n_estimators=200;, score=0.999 total time=   0.7s\n",
      "[CV 4/5] END learning_rate=0.1, max_depth=20, min_samples_leaf=50, n_estimators=200;, score=0.994 total time=   0.7s\n",
      "[CV 5/5] END learning_rate=0.1, max_depth=20, min_samples_leaf=50, n_estimators=200;, score=0.998 total time=   1.3s\n",
      "[CV 1/5] END learning_rate=0.1, max_depth=20, min_samples_leaf=50, n_estimators=500;, score=0.984 total time=   2.0s\n",
      "[CV 2/5] END learning_rate=0.1, max_depth=20, min_samples_leaf=50, n_estimators=500;, score=0.996 total time=   2.4s\n",
      "[CV 3/5] END learning_rate=0.1, max_depth=20, min_samples_leaf=50, n_estimators=500;, score=0.999 total time=   1.8s\n",
      "[CV 4/5] END learning_rate=0.1, max_depth=20, min_samples_leaf=50, n_estimators=500;, score=0.994 total time=   2.4s\n",
      "[CV 5/5] END learning_rate=0.1, max_depth=20, min_samples_leaf=50, n_estimators=500;, score=0.998 total time=   2.5s\n",
      "[CV 1/5] END learning_rate=0.1, max_depth=50, min_samples_leaf=10, n_estimators=50;, score=0.989 total time=   0.4s\n",
      "[CV 2/5] END learning_rate=0.1, max_depth=50, min_samples_leaf=10, n_estimators=50;, score=1.000 total time=   0.8s\n",
      "[CV 3/5] END learning_rate=0.1, max_depth=50, min_samples_leaf=10, n_estimators=50;, score=0.998 total time=   1.1s\n",
      "[CV 4/5] END learning_rate=0.1, max_depth=50, min_samples_leaf=10, n_estimators=50;, score=0.987 total time=   0.5s\n",
      "[CV 5/5] END learning_rate=0.1, max_depth=50, min_samples_leaf=10, n_estimators=50;, score=0.997 total time=   0.5s\n",
      "[CV 1/5] END learning_rate=0.1, max_depth=50, min_samples_leaf=10, n_estimators=100;, score=0.983 total time=   1.8s\n",
      "[CV 2/5] END learning_rate=0.1, max_depth=50, min_samples_leaf=10, n_estimators=100;, score=1.000 total time=   1.0s\n",
      "[CV 3/5] END learning_rate=0.1, max_depth=50, min_samples_leaf=10, n_estimators=100;, score=0.999 total time=   1.8s\n",
      "[CV 4/5] END learning_rate=0.1, max_depth=50, min_samples_leaf=10, n_estimators=100;, score=0.986 total time=   1.1s\n",
      "[CV 5/5] END learning_rate=0.1, max_depth=50, min_samples_leaf=10, n_estimators=100;, score=0.997 total time=   1.9s\n",
      "[CV 1/5] END learning_rate=0.1, max_depth=50, min_samples_leaf=10, n_estimators=200;, score=0.983 total time=   2.7s\n",
      "[CV 2/5] END learning_rate=0.1, max_depth=50, min_samples_leaf=10, n_estimators=200;, score=1.000 total time=   2.9s\n",
      "[CV 3/5] END learning_rate=0.1, max_depth=50, min_samples_leaf=10, n_estimators=200;, score=1.000 total time=   2.9s\n",
      "[CV 4/5] END learning_rate=0.1, max_depth=50, min_samples_leaf=10, n_estimators=200;, score=0.983 total time=   3.3s\n",
      "[CV 5/5] END learning_rate=0.1, max_depth=50, min_samples_leaf=10, n_estimators=200;, score=0.997 total time=   3.0s\n",
      "[CV 1/5] END learning_rate=0.1, max_depth=50, min_samples_leaf=10, n_estimators=500;, score=0.978 total time=   3.2s\n",
      "[CV 2/5] END learning_rate=0.1, max_depth=50, min_samples_leaf=10, n_estimators=500;, score=1.000 total time=   3.5s\n",
      "[CV 3/5] END learning_rate=0.1, max_depth=50, min_samples_leaf=10, n_estimators=500;, score=1.000 total time=   3.5s\n",
      "[CV 4/5] END learning_rate=0.1, max_depth=50, min_samples_leaf=10, n_estimators=500;, score=0.984 total time=   4.4s\n",
      "[CV 5/5] END learning_rate=0.1, max_depth=50, min_samples_leaf=10, n_estimators=500;, score=0.998 total time=   3.5s\n",
      "[CV 1/5] END learning_rate=0.1, max_depth=50, min_samples_leaf=20, n_estimators=50;, score=0.986 total time=   0.3s\n",
      "[CV 2/5] END learning_rate=0.1, max_depth=50, min_samples_leaf=20, n_estimators=50;, score=0.999 total time=   0.3s\n",
      "[CV 3/5] END learning_rate=0.1, max_depth=50, min_samples_leaf=20, n_estimators=50;, score=1.000 total time=   0.7s\n",
      "[CV 4/5] END learning_rate=0.1, max_depth=50, min_samples_leaf=20, n_estimators=50;, score=0.986 total time=   0.7s\n",
      "[CV 5/5] END learning_rate=0.1, max_depth=50, min_samples_leaf=20, n_estimators=50;, score=0.997 total time=   0.3s\n",
      "[CV 1/5] END learning_rate=0.1, max_depth=50, min_samples_leaf=20, n_estimators=100;, score=0.984 total time=   0.6s\n",
      "[CV 2/5] END learning_rate=0.1, max_depth=50, min_samples_leaf=20, n_estimators=100;, score=1.000 total time=   0.6s\n",
      "[CV 3/5] END learning_rate=0.1, max_depth=50, min_samples_leaf=20, n_estimators=100;, score=0.999 total time=   0.6s\n",
      "[CV 4/5] END learning_rate=0.1, max_depth=50, min_samples_leaf=20, n_estimators=100;, score=0.990 total time=   0.9s\n",
      "[CV 5/5] END learning_rate=0.1, max_depth=50, min_samples_leaf=20, n_estimators=100;, score=0.996 total time=   1.2s\n",
      "[CV 1/5] END learning_rate=0.1, max_depth=50, min_samples_leaf=20, n_estimators=200;, score=0.981 total time=   1.5s\n",
      "[CV 2/5] END learning_rate=0.1, max_depth=50, min_samples_leaf=20, n_estimators=200;, score=1.000 total time=   1.9s\n",
      "[CV 3/5] END learning_rate=0.1, max_depth=50, min_samples_leaf=20, n_estimators=200;, score=1.000 total time=   2.3s\n",
      "[CV 4/5] END learning_rate=0.1, max_depth=50, min_samples_leaf=20, n_estimators=200;, score=0.990 total time=   1.8s\n",
      "[CV 5/5] END learning_rate=0.1, max_depth=50, min_samples_leaf=20, n_estimators=200;, score=0.997 total time=   1.8s\n",
      "[CV 1/5] END learning_rate=0.1, max_depth=50, min_samples_leaf=20, n_estimators=500;, score=0.980 total time=   2.8s\n",
      "[CV 2/5] END learning_rate=0.1, max_depth=50, min_samples_leaf=20, n_estimators=500;, score=1.000 total time=   2.9s\n",
      "[CV 3/5] END learning_rate=0.1, max_depth=50, min_samples_leaf=20, n_estimators=500;, score=1.000 total time=   2.8s\n",
      "[CV 4/5] END learning_rate=0.1, max_depth=50, min_samples_leaf=20, n_estimators=500;, score=0.993 total time=   3.2s\n",
      "[CV 5/5] END learning_rate=0.1, max_depth=50, min_samples_leaf=20, n_estimators=500;, score=0.997 total time=   3.0s\n",
      "[CV 1/5] END learning_rate=0.1, max_depth=50, min_samples_leaf=50, n_estimators=50;, score=0.983 total time=   0.1s\n",
      "[CV 2/5] END learning_rate=0.1, max_depth=50, min_samples_leaf=50, n_estimators=50;, score=1.000 total time=   0.1s\n",
      "[CV 3/5] END learning_rate=0.1, max_depth=50, min_samples_leaf=50, n_estimators=50;, score=0.997 total time=   0.1s\n",
      "[CV 4/5] END learning_rate=0.1, max_depth=50, min_samples_leaf=50, n_estimators=50;, score=0.993 total time=   0.3s\n",
      "[CV 5/5] END learning_rate=0.1, max_depth=50, min_samples_leaf=50, n_estimators=50;, score=0.997 total time=   0.3s\n",
      "[CV 1/5] END learning_rate=0.1, max_depth=50, min_samples_leaf=50, n_estimators=100;, score=0.981 total time=   0.5s\n",
      "[CV 2/5] END learning_rate=0.1, max_depth=50, min_samples_leaf=50, n_estimators=100;, score=0.999 total time=   0.2s\n",
      "[CV 3/5] END learning_rate=0.1, max_depth=50, min_samples_leaf=50, n_estimators=100;, score=0.998 total time=   0.2s\n",
      "[CV 4/5] END learning_rate=0.1, max_depth=50, min_samples_leaf=50, n_estimators=100;, score=0.994 total time=   0.3s\n",
      "[CV 5/5] END learning_rate=0.1, max_depth=50, min_samples_leaf=50, n_estimators=100;, score=0.998 total time=   0.2s\n",
      "[CV 1/5] END learning_rate=0.1, max_depth=50, min_samples_leaf=50, n_estimators=200;, score=0.984 total time=   1.3s\n",
      "[CV 2/5] END learning_rate=0.1, max_depth=50, min_samples_leaf=50, n_estimators=200;, score=0.998 total time=   0.7s\n",
      "[CV 3/5] END learning_rate=0.1, max_depth=50, min_samples_leaf=50, n_estimators=200;, score=0.998 total time=   0.7s\n",
      "[CV 4/5] END learning_rate=0.1, max_depth=50, min_samples_leaf=50, n_estimators=200;, score=0.996 total time=   1.3s\n",
      "[CV 5/5] END learning_rate=0.1, max_depth=50, min_samples_leaf=50, n_estimators=200;, score=0.998 total time=   0.7s\n",
      "[CV 1/5] END learning_rate=0.1, max_depth=50, min_samples_leaf=50, n_estimators=500;, score=0.981 total time=   2.4s\n",
      "[CV 2/5] END learning_rate=0.1, max_depth=50, min_samples_leaf=50, n_estimators=500;, score=0.996 total time=   2.0s\n",
      "[CV 3/5] END learning_rate=0.1, max_depth=50, min_samples_leaf=50, n_estimators=500;, score=0.999 total time=   2.2s\n",
      "[CV 4/5] END learning_rate=0.1, max_depth=50, min_samples_leaf=50, n_estimators=500;, score=0.994 total time=   2.6s\n",
      "[CV 5/5] END learning_rate=0.1, max_depth=50, min_samples_leaf=50, n_estimators=500;, score=0.998 total time=   2.4s\n",
      "[CV 1/5] END learning_rate=0.1, max_depth=100, min_samples_leaf=10, n_estimators=50;, score=0.988 total time=   0.5s\n",
      "[CV 2/5] END learning_rate=0.1, max_depth=100, min_samples_leaf=10, n_estimators=50;, score=1.000 total time=   0.8s\n",
      "[CV 3/5] END learning_rate=0.1, max_depth=100, min_samples_leaf=10, n_estimators=50;, score=0.997 total time=   1.0s\n",
      "[CV 4/5] END learning_rate=0.1, max_depth=100, min_samples_leaf=10, n_estimators=50;, score=0.986 total time=   0.5s\n",
      "[CV 5/5] END learning_rate=0.1, max_depth=100, min_samples_leaf=10, n_estimators=50;, score=0.997 total time=   0.5s\n",
      "[CV 1/5] END learning_rate=0.1, max_depth=100, min_samples_leaf=10, n_estimators=100;, score=0.985 total time=   1.9s\n",
      "[CV 2/5] END learning_rate=0.1, max_depth=100, min_samples_leaf=10, n_estimators=100;, score=1.000 total time=   1.0s\n",
      "[CV 3/5] END learning_rate=0.1, max_depth=100, min_samples_leaf=10, n_estimators=100;, score=1.000 total time=   1.8s\n",
      "[CV 4/5] END learning_rate=0.1, max_depth=100, min_samples_leaf=10, n_estimators=100;, score=0.983 total time=   1.1s\n",
      "[CV 5/5] END learning_rate=0.1, max_depth=100, min_samples_leaf=10, n_estimators=100;, score=0.997 total time=   1.9s\n",
      "[CV 1/5] END learning_rate=0.1, max_depth=100, min_samples_leaf=10, n_estimators=200;, score=0.984 total time=   2.9s\n",
      "[CV 2/5] END learning_rate=0.1, max_depth=100, min_samples_leaf=10, n_estimators=200;, score=1.000 total time=   2.9s\n",
      "[CV 3/5] END learning_rate=0.1, max_depth=100, min_samples_leaf=10, n_estimators=200;, score=1.000 total time=   2.8s\n",
      "[CV 4/5] END learning_rate=0.1, max_depth=100, min_samples_leaf=10, n_estimators=200;, score=0.985 total time=   3.3s\n",
      "[CV 5/5] END learning_rate=0.1, max_depth=100, min_samples_leaf=10, n_estimators=200;, score=0.998 total time=   3.0s\n",
      "[CV 1/5] END learning_rate=0.1, max_depth=100, min_samples_leaf=10, n_estimators=500;, score=0.982 total time=   3.2s\n",
      "[CV 2/5] END learning_rate=0.1, max_depth=100, min_samples_leaf=10, n_estimators=500;, score=1.000 total time=   3.5s\n",
      "[CV 3/5] END learning_rate=0.1, max_depth=100, min_samples_leaf=10, n_estimators=500;, score=1.000 total time=   3.4s\n",
      "[CV 4/5] END learning_rate=0.1, max_depth=100, min_samples_leaf=10, n_estimators=500;, score=0.987 total time=   4.6s\n",
      "[CV 5/5] END learning_rate=0.1, max_depth=100, min_samples_leaf=10, n_estimators=500;, score=0.997 total time=   3.4s\n",
      "[CV 1/5] END learning_rate=0.1, max_depth=100, min_samples_leaf=20, n_estimators=50;, score=0.986 total time=   0.3s\n",
      "[CV 2/5] END learning_rate=0.1, max_depth=100, min_samples_leaf=20, n_estimators=50;, score=1.000 total time=   0.6s\n",
      "[CV 3/5] END learning_rate=0.1, max_depth=100, min_samples_leaf=20, n_estimators=50;, score=0.998 total time=   0.7s\n",
      "[CV 4/5] END learning_rate=0.1, max_depth=100, min_samples_leaf=20, n_estimators=50;, score=0.987 total time=   0.4s\n",
      "[CV 5/5] END learning_rate=0.1, max_depth=100, min_samples_leaf=20, n_estimators=50;, score=0.997 total time=   0.3s\n",
      "[CV 1/5] END learning_rate=0.1, max_depth=100, min_samples_leaf=20, n_estimators=100;, score=0.984 total time=   0.6s\n",
      "[CV 2/5] END learning_rate=0.1, max_depth=100, min_samples_leaf=20, n_estimators=100;, score=0.999 total time=   1.3s\n",
      "[CV 3/5] END learning_rate=0.1, max_depth=100, min_samples_leaf=20, n_estimators=100;, score=1.000 total time=   0.7s\n",
      "[CV 4/5] END learning_rate=0.1, max_depth=100, min_samples_leaf=20, n_estimators=100;, score=0.989 total time=   0.7s\n",
      "[CV 5/5] END learning_rate=0.1, max_depth=100, min_samples_leaf=20, n_estimators=100;, score=0.996 total time=   1.2s\n",
      "[CV 1/5] END learning_rate=0.1, max_depth=100, min_samples_leaf=20, n_estimators=200;, score=0.981 total time=   1.4s\n",
      "[CV 2/5] END learning_rate=0.1, max_depth=100, min_samples_leaf=20, n_estimators=200;, score=1.000 total time=   2.1s\n",
      "[CV 3/5] END learning_rate=0.1, max_depth=100, min_samples_leaf=20, n_estimators=200;, score=1.000 total time=   1.5s\n",
      "[CV 4/5] END learning_rate=0.1, max_depth=100, min_samples_leaf=20, n_estimators=200;, score=0.993 total time=   2.0s\n",
      "[CV 5/5] END learning_rate=0.1, max_depth=100, min_samples_leaf=20, n_estimators=200;, score=0.997 total time=   2.1s\n",
      "[CV 1/5] END learning_rate=0.1, max_depth=100, min_samples_leaf=20, n_estimators=500;, score=0.979 total time=   2.7s\n",
      "[CV 2/5] END learning_rate=0.1, max_depth=100, min_samples_leaf=20, n_estimators=500;, score=1.000 total time=   2.9s\n",
      "[CV 3/5] END learning_rate=0.1, max_depth=100, min_samples_leaf=20, n_estimators=500;, score=0.999 total time=   2.9s\n",
      "[CV 4/5] END learning_rate=0.1, max_depth=100, min_samples_leaf=20, n_estimators=500;, score=0.992 total time=   3.3s\n",
      "[CV 5/5] END learning_rate=0.1, max_depth=100, min_samples_leaf=20, n_estimators=500;, score=0.998 total time=   3.1s\n",
      "[CV 1/5] END learning_rate=0.1, max_depth=100, min_samples_leaf=50, n_estimators=50;, score=0.983 total time=   0.1s\n",
      "[CV 2/5] END learning_rate=0.1, max_depth=100, min_samples_leaf=50, n_estimators=50;, score=0.999 total time=   0.1s\n",
      "[CV 3/5] END learning_rate=0.1, max_depth=100, min_samples_leaf=50, n_estimators=50;, score=0.997 total time=   0.1s\n",
      "[CV 4/5] END learning_rate=0.1, max_depth=100, min_samples_leaf=50, n_estimators=50;, score=0.993 total time=   0.1s\n",
      "[CV 5/5] END learning_rate=0.1, max_depth=100, min_samples_leaf=50, n_estimators=50;, score=0.997 total time=   0.1s\n",
      "[CV 1/5] END learning_rate=0.1, max_depth=100, min_samples_leaf=50, n_estimators=100;, score=0.983 total time=   0.4s\n",
      "[CV 2/5] END learning_rate=0.1, max_depth=100, min_samples_leaf=50, n_estimators=100;, score=0.999 total time=   0.7s\n",
      "[CV 3/5] END learning_rate=0.1, max_depth=100, min_samples_leaf=50, n_estimators=100;, score=0.999 total time=   0.5s\n",
      "[CV 4/5] END learning_rate=0.1, max_depth=100, min_samples_leaf=50, n_estimators=100;, score=0.992 total time=   0.2s\n",
      "[CV 5/5] END learning_rate=0.1, max_depth=100, min_samples_leaf=50, n_estimators=100;, score=0.998 total time=   0.3s\n",
      "[CV 1/5] END learning_rate=0.1, max_depth=100, min_samples_leaf=50, n_estimators=200;, score=0.984 total time=   0.6s\n",
      "[CV 2/5] END learning_rate=0.1, max_depth=100, min_samples_leaf=50, n_estimators=200;, score=0.999 total time=   1.4s\n",
      "[CV 3/5] END learning_rate=0.1, max_depth=100, min_samples_leaf=50, n_estimators=200;, score=0.998 total time=   0.6s\n",
      "[CV 4/5] END learning_rate=0.1, max_depth=100, min_samples_leaf=50, n_estimators=200;, score=0.994 total time=   0.7s\n",
      "[CV 5/5] END learning_rate=0.1, max_depth=100, min_samples_leaf=50, n_estimators=200;, score=0.998 total time=   1.4s\n",
      "[CV 1/5] END learning_rate=0.1, max_depth=100, min_samples_leaf=50, n_estimators=500;, score=0.983 total time=   2.5s\n",
      "[CV 2/5] END learning_rate=0.1, max_depth=100, min_samples_leaf=50, n_estimators=500;, score=0.996 total time=   1.8s\n",
      "[CV 3/5] END learning_rate=0.1, max_depth=100, min_samples_leaf=50, n_estimators=500;, score=0.999 total time=   2.4s\n",
      "[CV 4/5] END learning_rate=0.1, max_depth=100, min_samples_leaf=50, n_estimators=500;, score=0.994 total time=   2.7s\n",
      "[CV 5/5] END learning_rate=0.1, max_depth=100, min_samples_leaf=50, n_estimators=500;, score=0.998 total time=   2.5s\n",
      "[CV 1/5] END learning_rate=0.01, max_depth=10, min_samples_leaf=10, n_estimators=50;, score=0.983 total time=   0.4s\n",
      "[CV 2/5] END learning_rate=0.01, max_depth=10, min_samples_leaf=10, n_estimators=50;, score=0.987 total time=   0.5s\n",
      "[CV 3/5] END learning_rate=0.01, max_depth=10, min_samples_leaf=10, n_estimators=50;, score=0.994 total time=   1.0s\n",
      "[CV 4/5] END learning_rate=0.01, max_depth=10, min_samples_leaf=10, n_estimators=50;, score=0.977 total time=   0.6s\n",
      "[CV 5/5] END learning_rate=0.01, max_depth=10, min_samples_leaf=10, n_estimators=50;, score=0.978 total time=   0.5s\n",
      "[CV 1/5] END learning_rate=0.01, max_depth=10, min_samples_leaf=10, n_estimators=100;, score=0.987 total time=   1.7s\n",
      "[CV 2/5] END learning_rate=0.01, max_depth=10, min_samples_leaf=10, n_estimators=100;, score=0.998 total time=   1.1s\n",
      "[CV 3/5] END learning_rate=0.01, max_depth=10, min_samples_leaf=10, n_estimators=100;, score=0.994 total time=   1.4s\n",
      "[CV 4/5] END learning_rate=0.01, max_depth=10, min_samples_leaf=10, n_estimators=100;, score=0.983 total time=   1.3s\n",
      "[CV 5/5] END learning_rate=0.01, max_depth=10, min_samples_leaf=10, n_estimators=100;, score=0.990 total time=   1.2s\n",
      "[CV 1/5] END learning_rate=0.01, max_depth=10, min_samples_leaf=10, n_estimators=200;, score=0.989 total time=   2.7s\n",
      "[CV 2/5] END learning_rate=0.01, max_depth=10, min_samples_leaf=10, n_estimators=200;, score=1.000 total time=   2.8s\n",
      "[CV 3/5] END learning_rate=0.01, max_depth=10, min_samples_leaf=10, n_estimators=200;, score=0.995 total time=   2.7s\n",
      "[CV 4/5] END learning_rate=0.01, max_depth=10, min_samples_leaf=10, n_estimators=200;, score=0.982 total time=   3.0s\n",
      "[CV 5/5] END learning_rate=0.01, max_depth=10, min_samples_leaf=10, n_estimators=200;, score=0.995 total time=   2.9s\n",
      "[CV 1/5] END learning_rate=0.01, max_depth=10, min_samples_leaf=10, n_estimators=500;, score=0.988 total time=   7.8s\n",
      "[CV 2/5] END learning_rate=0.01, max_depth=10, min_samples_leaf=10, n_estimators=500;, score=1.000 total time=   6.9s\n",
      "[CV 3/5] END learning_rate=0.01, max_depth=10, min_samples_leaf=10, n_estimators=500;, score=0.998 total time=   7.0s\n",
      "[CV 4/5] END learning_rate=0.01, max_depth=10, min_samples_leaf=10, n_estimators=500;, score=0.988 total time=   7.7s\n",
      "[CV 5/5] END learning_rate=0.01, max_depth=10, min_samples_leaf=10, n_estimators=500;, score=0.997 total time=   7.2s\n",
      "[CV 1/5] END learning_rate=0.01, max_depth=10, min_samples_leaf=20, n_estimators=50;, score=0.976 total time=   0.7s\n",
      "[CV 2/5] END learning_rate=0.01, max_depth=10, min_samples_leaf=20, n_estimators=50;, score=0.984 total time=   0.3s\n",
      "[CV 3/5] END learning_rate=0.01, max_depth=10, min_samples_leaf=20, n_estimators=50;, score=0.991 total time=   0.3s\n",
      "[CV 4/5] END learning_rate=0.01, max_depth=10, min_samples_leaf=20, n_estimators=50;, score=0.973 total time=   0.3s\n",
      "[CV 5/5] END learning_rate=0.01, max_depth=10, min_samples_leaf=20, n_estimators=50;, score=0.982 total time=   0.3s\n",
      "[CV 1/5] END learning_rate=0.01, max_depth=10, min_samples_leaf=20, n_estimators=100;, score=0.982 total time=   1.4s\n",
      "[CV 2/5] END learning_rate=0.01, max_depth=10, min_samples_leaf=20, n_estimators=100;, score=0.994 total time=   0.7s\n",
      "[CV 3/5] END learning_rate=0.01, max_depth=10, min_samples_leaf=20, n_estimators=100;, score=0.992 total time=   0.8s\n",
      "[CV 4/5] END learning_rate=0.01, max_depth=10, min_samples_leaf=20, n_estimators=100;, score=0.983 total time=   1.5s\n",
      "[CV 5/5] END learning_rate=0.01, max_depth=10, min_samples_leaf=20, n_estimators=100;, score=0.986 total time=   0.6s\n",
      "[CV 1/5] END learning_rate=0.01, max_depth=10, min_samples_leaf=20, n_estimators=200;, score=0.983 total time=   2.2s\n",
      "[CV 2/5] END learning_rate=0.01, max_depth=10, min_samples_leaf=20, n_estimators=200;, score=0.998 total time=   1.3s\n",
      "[CV 3/5] END learning_rate=0.01, max_depth=10, min_samples_leaf=20, n_estimators=200;, score=0.996 total time=   2.2s\n",
      "[CV 4/5] END learning_rate=0.01, max_depth=10, min_samples_leaf=20, n_estimators=200;, score=0.986 total time=   2.2s\n",
      "[CV 5/5] END learning_rate=0.01, max_depth=10, min_samples_leaf=20, n_estimators=200;, score=0.994 total time=   1.4s\n",
      "[CV 1/5] END learning_rate=0.01, max_depth=10, min_samples_leaf=20, n_estimators=500;, score=0.985 total time=   5.0s\n",
      "[CV 2/5] END learning_rate=0.01, max_depth=10, min_samples_leaf=20, n_estimators=500;, score=1.000 total time=   4.5s\n",
      "[CV 3/5] END learning_rate=0.01, max_depth=10, min_samples_leaf=20, n_estimators=500;, score=0.997 total time=   4.6s\n",
      "[CV 4/5] END learning_rate=0.01, max_depth=10, min_samples_leaf=20, n_estimators=500;, score=0.986 total time=   5.2s\n",
      "[CV 5/5] END learning_rate=0.01, max_depth=10, min_samples_leaf=20, n_estimators=500;, score=0.996 total time=   4.2s\n",
      "[CV 1/5] END learning_rate=0.01, max_depth=10, min_samples_leaf=50, n_estimators=50;, score=0.961 total time=   0.1s\n",
      "[CV 2/5] END learning_rate=0.01, max_depth=10, min_samples_leaf=50, n_estimators=50;, score=0.985 total time=   0.3s\n",
      "[CV 3/5] END learning_rate=0.01, max_depth=10, min_samples_leaf=50, n_estimators=50;, score=0.991 total time=   0.3s\n",
      "[CV 4/5] END learning_rate=0.01, max_depth=10, min_samples_leaf=50, n_estimators=50;, score=0.971 total time=   0.3s\n",
      "[CV 5/5] END learning_rate=0.01, max_depth=10, min_samples_leaf=50, n_estimators=50;, score=0.995 total time=   0.3s\n",
      "[CV 1/5] END learning_rate=0.01, max_depth=10, min_samples_leaf=50, n_estimators=100;, score=0.975 total time=   0.3s\n",
      "[CV 2/5] END learning_rate=0.01, max_depth=10, min_samples_leaf=50, n_estimators=100;, score=0.989 total time=   0.2s\n",
      "[CV 3/5] END learning_rate=0.01, max_depth=10, min_samples_leaf=50, n_estimators=100;, score=0.990 total time=   0.2s\n",
      "[CV 4/5] END learning_rate=0.01, max_depth=10, min_samples_leaf=50, n_estimators=100;, score=0.977 total time=   0.2s\n",
      "[CV 5/5] END learning_rate=0.01, max_depth=10, min_samples_leaf=50, n_estimators=100;, score=0.995 total time=   0.6s\n",
      "[CV 1/5] END learning_rate=0.01, max_depth=10, min_samples_leaf=50, n_estimators=200;, score=0.979 total time=   1.1s\n",
      "[CV 2/5] END learning_rate=0.01, max_depth=10, min_samples_leaf=50, n_estimators=200;, score=0.994 total time=   0.6s\n",
      "[CV 3/5] END learning_rate=0.01, max_depth=10, min_samples_leaf=50, n_estimators=200;, score=0.994 total time=   0.7s\n",
      "[CV 4/5] END learning_rate=0.01, max_depth=10, min_samples_leaf=50, n_estimators=200;, score=0.982 total time=   1.3s\n",
      "[CV 5/5] END learning_rate=0.01, max_depth=10, min_samples_leaf=50, n_estimators=200;, score=0.996 total time=   0.7s\n",
      "[CV 1/5] END learning_rate=0.01, max_depth=10, min_samples_leaf=50, n_estimators=500;, score=0.983 total time=   2.6s\n",
      "[CV 2/5] END learning_rate=0.01, max_depth=10, min_samples_leaf=50, n_estimators=500;, score=0.999 total time=   2.6s\n",
      "[CV 3/5] END learning_rate=0.01, max_depth=10, min_samples_leaf=50, n_estimators=500;, score=0.997 total time=   2.0s\n",
      "[CV 4/5] END learning_rate=0.01, max_depth=10, min_samples_leaf=50, n_estimators=500;, score=0.991 total time=   2.0s\n",
      "[CV 5/5] END learning_rate=0.01, max_depth=10, min_samples_leaf=50, n_estimators=500;, score=0.997 total time=   2.5s\n",
      "[CV 1/5] END learning_rate=0.01, max_depth=20, min_samples_leaf=10, n_estimators=50;, score=0.983 total time=   0.5s\n",
      "[CV 2/5] END learning_rate=0.01, max_depth=20, min_samples_leaf=10, n_estimators=50;, score=0.987 total time=   1.3s\n",
      "[CV 3/5] END learning_rate=0.01, max_depth=20, min_samples_leaf=10, n_estimators=50;, score=0.994 total time=   0.4s\n",
      "[CV 4/5] END learning_rate=0.01, max_depth=20, min_samples_leaf=10, n_estimators=50;, score=0.980 total time=   0.5s\n",
      "[CV 5/5] END learning_rate=0.01, max_depth=20, min_samples_leaf=10, n_estimators=50;, score=0.978 total time=   0.6s\n",
      "[CV 1/5] END learning_rate=0.01, max_depth=20, min_samples_leaf=10, n_estimators=100;, score=0.987 total time=   1.8s\n",
      "[CV 2/5] END learning_rate=0.01, max_depth=20, min_samples_leaf=10, n_estimators=100;, score=0.998 total time=   1.8s\n",
      "[CV 3/5] END learning_rate=0.01, max_depth=20, min_samples_leaf=10, n_estimators=100;, score=0.994 total time=   1.3s\n",
      "[CV 4/5] END learning_rate=0.01, max_depth=20, min_samples_leaf=10, n_estimators=100;, score=0.983 total time=   1.9s\n",
      "[CV 5/5] END learning_rate=0.01, max_depth=20, min_samples_leaf=10, n_estimators=100;, score=0.990 total time=   1.2s\n",
      "[CV 1/5] END learning_rate=0.01, max_depth=20, min_samples_leaf=10, n_estimators=200;, score=0.989 total time=   3.0s\n",
      "[CV 2/5] END learning_rate=0.01, max_depth=20, min_samples_leaf=10, n_estimators=200;, score=1.000 total time=   3.5s\n",
      "[CV 3/5] END learning_rate=0.01, max_depth=20, min_samples_leaf=10, n_estimators=200;, score=0.995 total time=   2.9s\n",
      "[CV 4/5] END learning_rate=0.01, max_depth=20, min_samples_leaf=10, n_estimators=200;, score=0.981 total time=   4.0s\n",
      "[CV 5/5] END learning_rate=0.01, max_depth=20, min_samples_leaf=10, n_estimators=200;, score=0.994 total time=   3.4s\n",
      "[CV 1/5] END learning_rate=0.01, max_depth=20, min_samples_leaf=10, n_estimators=500;, score=0.988 total time=   7.1s\n",
      "[CV 2/5] END learning_rate=0.01, max_depth=20, min_samples_leaf=10, n_estimators=500;, score=1.000 total time=   8.5s\n",
      "[CV 3/5] END learning_rate=0.01, max_depth=20, min_samples_leaf=10, n_estimators=500;, score=0.998 total time=   7.6s\n",
      "[CV 4/5] END learning_rate=0.01, max_depth=20, min_samples_leaf=10, n_estimators=500;, score=0.986 total time=   8.7s\n",
      "[CV 5/5] END learning_rate=0.01, max_depth=20, min_samples_leaf=10, n_estimators=500;, score=0.996 total time=   7.8s\n",
      "[CV 1/5] END learning_rate=0.01, max_depth=20, min_samples_leaf=20, n_estimators=50;, score=0.976 total time=   0.4s\n",
      "[CV 2/5] END learning_rate=0.01, max_depth=20, min_samples_leaf=20, n_estimators=50;, score=0.984 total time=   0.7s\n",
      "[CV 3/5] END learning_rate=0.01, max_depth=20, min_samples_leaf=20, n_estimators=50;, score=0.991 total time=   0.6s\n",
      "[CV 4/5] END learning_rate=0.01, max_depth=20, min_samples_leaf=20, n_estimators=50;, score=0.973 total time=   0.3s\n",
      "[CV 5/5] END learning_rate=0.01, max_depth=20, min_samples_leaf=20, n_estimators=50;, score=0.982 total time=   0.3s\n",
      "[CV 1/5] END learning_rate=0.01, max_depth=20, min_samples_leaf=20, n_estimators=100;, score=0.982 total time=   0.8s\n",
      "[CV 2/5] END learning_rate=0.01, max_depth=20, min_samples_leaf=20, n_estimators=100;, score=0.994 total time=   1.2s\n",
      "[CV 3/5] END learning_rate=0.01, max_depth=20, min_samples_leaf=20, n_estimators=100;, score=0.992 total time=   0.6s\n",
      "[CV 4/5] END learning_rate=0.01, max_depth=20, min_samples_leaf=20, n_estimators=100;, score=0.983 total time=   0.7s\n",
      "[CV 5/5] END learning_rate=0.01, max_depth=20, min_samples_leaf=20, n_estimators=100;, score=0.986 total time=   1.5s\n",
      "[CV 1/5] END learning_rate=0.01, max_depth=20, min_samples_leaf=20, n_estimators=200;, score=0.983 total time=   1.4s\n",
      "[CV 2/5] END learning_rate=0.01, max_depth=20, min_samples_leaf=20, n_estimators=200;, score=0.998 total time=   2.1s\n",
      "[CV 3/5] END learning_rate=0.01, max_depth=20, min_samples_leaf=20, n_estimators=200;, score=0.996 total time=   2.1s\n",
      "[CV 4/5] END learning_rate=0.01, max_depth=20, min_samples_leaf=20, n_estimators=200;, score=0.986 total time=   1.4s\n",
      "[CV 5/5] END learning_rate=0.01, max_depth=20, min_samples_leaf=20, n_estimators=200;, score=0.994 total time=   2.3s\n",
      "[CV 1/5] END learning_rate=0.01, max_depth=20, min_samples_leaf=20, n_estimators=500;, score=0.985 total time=   4.9s\n",
      "[CV 2/5] END learning_rate=0.01, max_depth=20, min_samples_leaf=20, n_estimators=500;, score=1.000 total time=   4.3s\n",
      "[CV 3/5] END learning_rate=0.01, max_depth=20, min_samples_leaf=20, n_estimators=500;, score=0.997 total time=   5.0s\n",
      "[CV 4/5] END learning_rate=0.01, max_depth=20, min_samples_leaf=20, n_estimators=500;, score=0.986 total time=   4.5s\n",
      "[CV 5/5] END learning_rate=0.01, max_depth=20, min_samples_leaf=20, n_estimators=500;, score=0.996 total time=   5.1s\n",
      "[CV 1/5] END learning_rate=0.01, max_depth=20, min_samples_leaf=50, n_estimators=50;, score=0.963 total time=   0.1s\n",
      "[CV 2/5] END learning_rate=0.01, max_depth=20, min_samples_leaf=50, n_estimators=50;, score=0.985 total time=   0.1s\n",
      "[CV 3/5] END learning_rate=0.01, max_depth=20, min_samples_leaf=50, n_estimators=50;, score=0.991 total time=   0.1s\n",
      "[CV 4/5] END learning_rate=0.01, max_depth=20, min_samples_leaf=50, n_estimators=50;, score=0.971 total time=   0.1s\n",
      "[CV 5/5] END learning_rate=0.01, max_depth=20, min_samples_leaf=50, n_estimators=50;, score=0.995 total time=   0.2s\n",
      "[CV 1/5] END learning_rate=0.01, max_depth=20, min_samples_leaf=50, n_estimators=100;, score=0.974 total time=   0.7s\n",
      "[CV 2/5] END learning_rate=0.01, max_depth=20, min_samples_leaf=50, n_estimators=100;, score=0.989 total time=   0.5s\n",
      "[CV 3/5] END learning_rate=0.01, max_depth=20, min_samples_leaf=50, n_estimators=100;, score=0.990 total time=   0.2s\n",
      "[CV 4/5] END learning_rate=0.01, max_depth=20, min_samples_leaf=50, n_estimators=100;, score=0.977 total time=   0.2s\n",
      "[CV 5/5] END learning_rate=0.01, max_depth=20, min_samples_leaf=50, n_estimators=100;, score=0.995 total time=   0.2s\n",
      "[CV 1/5] END learning_rate=0.01, max_depth=20, min_samples_leaf=50, n_estimators=200;, score=0.979 total time=   1.1s\n",
      "[CV 2/5] END learning_rate=0.01, max_depth=20, min_samples_leaf=50, n_estimators=200;, score=0.994 total time=   1.0s\n",
      "[CV 3/5] END learning_rate=0.01, max_depth=20, min_samples_leaf=50, n_estimators=200;, score=0.994 total time=   0.6s\n",
      "[CV 4/5] END learning_rate=0.01, max_depth=20, min_samples_leaf=50, n_estimators=200;, score=0.982 total time=   1.1s\n",
      "[CV 5/5] END learning_rate=0.01, max_depth=20, min_samples_leaf=50, n_estimators=200;, score=0.996 total time=   1.0s\n",
      "[CV 1/5] END learning_rate=0.01, max_depth=20, min_samples_leaf=50, n_estimators=500;, score=0.983 total time=   2.2s\n",
      "[CV 2/5] END learning_rate=0.01, max_depth=20, min_samples_leaf=50, n_estimators=500;, score=0.999 total time=   2.0s\n",
      "[CV 3/5] END learning_rate=0.01, max_depth=20, min_samples_leaf=50, n_estimators=500;, score=0.997 total time=   2.3s\n",
      "[CV 4/5] END learning_rate=0.01, max_depth=20, min_samples_leaf=50, n_estimators=500;, score=0.992 total time=   2.4s\n",
      "[CV 5/5] END learning_rate=0.01, max_depth=20, min_samples_leaf=50, n_estimators=500;, score=0.997 total time=   2.3s\n",
      "[CV 1/5] END learning_rate=0.01, max_depth=50, min_samples_leaf=10, n_estimators=50;, score=0.983 total time=   0.5s\n",
      "[CV 2/5] END learning_rate=0.01, max_depth=50, min_samples_leaf=10, n_estimators=50;, score=0.987 total time=   0.5s\n",
      "[CV 3/5] END learning_rate=0.01, max_depth=50, min_samples_leaf=10, n_estimators=50;, score=0.994 total time=   0.5s\n",
      "[CV 4/5] END learning_rate=0.01, max_depth=50, min_samples_leaf=10, n_estimators=50;, score=0.980 total time=   1.3s\n",
      "[CV 5/5] END learning_rate=0.01, max_depth=50, min_samples_leaf=10, n_estimators=50;, score=0.978 total time=   0.6s\n",
      "[CV 1/5] END learning_rate=0.01, max_depth=50, min_samples_leaf=10, n_estimators=100;, score=0.987 total time=   1.5s\n",
      "[CV 2/5] END learning_rate=0.01, max_depth=50, min_samples_leaf=10, n_estimators=100;, score=0.998 total time=   1.5s\n",
      "[CV 3/5] END learning_rate=0.01, max_depth=50, min_samples_leaf=10, n_estimators=100;, score=0.994 total time=   1.4s\n",
      "[CV 4/5] END learning_rate=0.01, max_depth=50, min_samples_leaf=10, n_estimators=100;, score=0.983 total time=   1.5s\n",
      "[CV 5/5] END learning_rate=0.01, max_depth=50, min_samples_leaf=10, n_estimators=100;, score=0.990 total time=   2.1s\n",
      "[CV 1/5] END learning_rate=0.01, max_depth=50, min_samples_leaf=10, n_estimators=200;, score=0.989 total time=   3.0s\n",
      "[CV 2/5] END learning_rate=0.01, max_depth=50, min_samples_leaf=10, n_estimators=200;, score=1.000 total time=   3.3s\n",
      "[CV 3/5] END learning_rate=0.01, max_depth=50, min_samples_leaf=10, n_estimators=200;, score=0.995 total time=   3.0s\n",
      "[CV 4/5] END learning_rate=0.01, max_depth=50, min_samples_leaf=10, n_estimators=200;, score=0.984 total time=   3.2s\n",
      "[CV 5/5] END learning_rate=0.01, max_depth=50, min_samples_leaf=10, n_estimators=200;, score=0.994 total time=   3.3s\n",
      "[CV 1/5] END learning_rate=0.01, max_depth=50, min_samples_leaf=10, n_estimators=500;, score=0.987 total time=   8.0s\n",
      "[CV 2/5] END learning_rate=0.01, max_depth=50, min_samples_leaf=10, n_estimators=500;, score=1.000 total time=   7.7s\n",
      "[CV 3/5] END learning_rate=0.01, max_depth=50, min_samples_leaf=10, n_estimators=500;, score=0.998 total time=   7.6s\n",
      "[CV 4/5] END learning_rate=0.01, max_depth=50, min_samples_leaf=10, n_estimators=500;, score=0.986 total time=   8.6s\n",
      "[CV 5/5] END learning_rate=0.01, max_depth=50, min_samples_leaf=10, n_estimators=500;, score=0.997 total time=   7.9s\n",
      "[CV 1/5] END learning_rate=0.01, max_depth=50, min_samples_leaf=20, n_estimators=50;, score=0.976 total time=   0.7s\n",
      "[CV 2/5] END learning_rate=0.01, max_depth=50, min_samples_leaf=20, n_estimators=50;, score=0.984 total time=   0.2s\n",
      "[CV 3/5] END learning_rate=0.01, max_depth=50, min_samples_leaf=20, n_estimators=50;, score=0.991 total time=   0.3s\n",
      "[CV 4/5] END learning_rate=0.01, max_depth=50, min_samples_leaf=20, n_estimators=50;, score=0.973 total time=   0.3s\n",
      "[CV 5/5] END learning_rate=0.01, max_depth=50, min_samples_leaf=20, n_estimators=50;, score=0.982 total time=   0.3s\n",
      "[CV 1/5] END learning_rate=0.01, max_depth=50, min_samples_leaf=20, n_estimators=100;, score=0.982 total time=   1.3s\n",
      "[CV 2/5] END learning_rate=0.01, max_depth=50, min_samples_leaf=20, n_estimators=100;, score=0.994 total time=   0.7s\n",
      "[CV 3/5] END learning_rate=0.01, max_depth=50, min_samples_leaf=20, n_estimators=100;, score=0.992 total time=   0.6s\n",
      "[CV 4/5] END learning_rate=0.01, max_depth=50, min_samples_leaf=20, n_estimators=100;, score=0.983 total time=   1.4s\n",
      "[CV 5/5] END learning_rate=0.01, max_depth=50, min_samples_leaf=20, n_estimators=100;, score=0.985 total time=   0.8s\n",
      "[CV 1/5] END learning_rate=0.01, max_depth=50, min_samples_leaf=20, n_estimators=200;, score=0.983 total time=   2.0s\n",
      "[CV 2/5] END learning_rate=0.01, max_depth=50, min_samples_leaf=20, n_estimators=200;, score=0.998 total time=   1.4s\n",
      "[CV 3/5] END learning_rate=0.01, max_depth=50, min_samples_leaf=20, n_estimators=200;, score=0.996 total time=   2.2s\n",
      "[CV 4/5] END learning_rate=0.01, max_depth=50, min_samples_leaf=20, n_estimators=200;, score=0.986 total time=   2.2s\n",
      "[CV 5/5] END learning_rate=0.01, max_depth=50, min_samples_leaf=20, n_estimators=200;, score=0.994 total time=   1.5s\n",
      "[CV 1/5] END learning_rate=0.01, max_depth=50, min_samples_leaf=20, n_estimators=500;, score=0.985 total time=   4.9s\n",
      "[CV 2/5] END learning_rate=0.01, max_depth=50, min_samples_leaf=20, n_estimators=500;, score=1.000 total time=   4.2s\n",
      "[CV 3/5] END learning_rate=0.01, max_depth=50, min_samples_leaf=20, n_estimators=500;, score=0.998 total time=   4.9s\n",
      "[CV 4/5] END learning_rate=0.01, max_depth=50, min_samples_leaf=20, n_estimators=500;, score=0.986 total time=   4.6s\n",
      "[CV 5/5] END learning_rate=0.01, max_depth=50, min_samples_leaf=20, n_estimators=500;, score=0.996 total time=   4.9s\n",
      "[CV 1/5] END learning_rate=0.01, max_depth=50, min_samples_leaf=50, n_estimators=50;, score=0.961 total time=   0.1s\n",
      "[CV 2/5] END learning_rate=0.01, max_depth=50, min_samples_leaf=50, n_estimators=50;, score=0.985 total time=   0.1s\n",
      "[CV 3/5] END learning_rate=0.01, max_depth=50, min_samples_leaf=50, n_estimators=50;, score=0.991 total time=   0.3s\n",
      "[CV 4/5] END learning_rate=0.01, max_depth=50, min_samples_leaf=50, n_estimators=50;, score=0.971 total time=   0.3s\n",
      "[CV 5/5] END learning_rate=0.01, max_depth=50, min_samples_leaf=50, n_estimators=50;, score=0.995 total time=   0.3s\n",
      "[CV 1/5] END learning_rate=0.01, max_depth=50, min_samples_leaf=50, n_estimators=100;, score=0.974 total time=   0.4s\n",
      "[CV 2/5] END learning_rate=0.01, max_depth=50, min_samples_leaf=50, n_estimators=100;, score=0.989 total time=   0.2s\n",
      "[CV 3/5] END learning_rate=0.01, max_depth=50, min_samples_leaf=50, n_estimators=100;, score=0.990 total time=   0.2s\n",
      "[CV 4/5] END learning_rate=0.01, max_depth=50, min_samples_leaf=50, n_estimators=100;, score=0.977 total time=   0.2s\n",
      "[CV 5/5] END learning_rate=0.01, max_depth=50, min_samples_leaf=50, n_estimators=100;, score=0.995 total time=   0.4s\n",
      "[CV 1/5] END learning_rate=0.01, max_depth=50, min_samples_leaf=50, n_estimators=200;, score=0.980 total time=   1.4s\n",
      "[CV 2/5] END learning_rate=0.01, max_depth=50, min_samples_leaf=50, n_estimators=200;, score=0.994 total time=   0.6s\n",
      "[CV 3/5] END learning_rate=0.01, max_depth=50, min_samples_leaf=50, n_estimators=200;, score=0.994 total time=   0.6s\n",
      "[CV 4/5] END learning_rate=0.01, max_depth=50, min_samples_leaf=50, n_estimators=200;, score=0.982 total time=   1.4s\n",
      "[CV 5/5] END learning_rate=0.01, max_depth=50, min_samples_leaf=50, n_estimators=200;, score=0.996 total time=   0.6s\n",
      "[CV 1/5] END learning_rate=0.01, max_depth=50, min_samples_leaf=50, n_estimators=500;, score=0.983 total time=   2.5s\n",
      "[CV 2/5] END learning_rate=0.01, max_depth=50, min_samples_leaf=50, n_estimators=500;, score=0.999 total time=   1.9s\n",
      "[CV 3/5] END learning_rate=0.01, max_depth=50, min_samples_leaf=50, n_estimators=500;, score=0.997 total time=   1.9s\n",
      "[CV 4/5] END learning_rate=0.01, max_depth=50, min_samples_leaf=50, n_estimators=500;, score=0.991 total time=   2.3s\n",
      "[CV 5/5] END learning_rate=0.01, max_depth=50, min_samples_leaf=50, n_estimators=500;, score=0.997 total time=   2.5s\n",
      "[CV 1/5] END learning_rate=0.01, max_depth=100, min_samples_leaf=10, n_estimators=50;, score=0.983 total time=   0.5s\n",
      "[CV 2/5] END learning_rate=0.01, max_depth=100, min_samples_leaf=10, n_estimators=50;, score=0.987 total time=   0.5s\n",
      "[CV 3/5] END learning_rate=0.01, max_depth=100, min_samples_leaf=10, n_estimators=50;, score=0.994 total time=   0.9s\n",
      "[CV 4/5] END learning_rate=0.01, max_depth=100, min_samples_leaf=10, n_estimators=50;, score=0.980 total time=   0.8s\n",
      "[CV 5/5] END learning_rate=0.01, max_depth=100, min_samples_leaf=10, n_estimators=50;, score=0.977 total time=   0.6s\n",
      "[CV 1/5] END learning_rate=0.01, max_depth=100, min_samples_leaf=10, n_estimators=100;, score=0.987 total time=   1.8s\n",
      "[CV 2/5] END learning_rate=0.01, max_depth=100, min_samples_leaf=10, n_estimators=100;, score=0.998 total time=   1.3s\n",
      "[CV 3/5] END learning_rate=0.01, max_depth=100, min_samples_leaf=10, n_estimators=100;, score=0.994 total time=   1.9s\n",
      "[CV 4/5] END learning_rate=0.01, max_depth=100, min_samples_leaf=10, n_estimators=100;, score=0.983 total time=   1.2s\n",
      "[CV 5/5] END learning_rate=0.01, max_depth=100, min_samples_leaf=10, n_estimators=100;, score=0.990 total time=   2.0s\n",
      "[CV 1/5] END learning_rate=0.01, max_depth=100, min_samples_leaf=10, n_estimators=200;, score=0.989 total time=   3.0s\n",
      "[CV 2/5] END learning_rate=0.01, max_depth=100, min_samples_leaf=10, n_estimators=200;, score=1.000 total time=   3.5s\n",
      "[CV 3/5] END learning_rate=0.01, max_depth=100, min_samples_leaf=10, n_estimators=200;, score=0.995 total time=   3.0s\n",
      "[CV 4/5] END learning_rate=0.01, max_depth=100, min_samples_leaf=10, n_estimators=200;, score=0.982 total time=   3.7s\n",
      "[CV 5/5] END learning_rate=0.01, max_depth=100, min_samples_leaf=10, n_estimators=200;, score=0.994 total time=   3.8s\n",
      "[CV 1/5] END learning_rate=0.01, max_depth=100, min_samples_leaf=10, n_estimators=500;, score=0.988 total time=   7.1s\n",
      "[CV 2/5] END learning_rate=0.01, max_depth=100, min_samples_leaf=10, n_estimators=500;, score=1.000 total time=   8.3s\n",
      "[CV 3/5] END learning_rate=0.01, max_depth=100, min_samples_leaf=10, n_estimators=500;, score=0.998 total time=   7.1s\n",
      "[CV 4/5] END learning_rate=0.01, max_depth=100, min_samples_leaf=10, n_estimators=500;, score=0.988 total time=   8.7s\n",
      "[CV 5/5] END learning_rate=0.01, max_depth=100, min_samples_leaf=10, n_estimators=500;, score=0.997 total time=   8.4s\n",
      "[CV 1/5] END learning_rate=0.01, max_depth=100, min_samples_leaf=20, n_estimators=50;, score=0.976 total time=   0.3s\n",
      "[CV 2/5] END learning_rate=0.01, max_depth=100, min_samples_leaf=20, n_estimators=50;, score=0.984 total time=   0.2s\n",
      "[CV 3/5] END learning_rate=0.01, max_depth=100, min_samples_leaf=20, n_estimators=50;, score=0.991 total time=   0.6s\n",
      "[CV 4/5] END learning_rate=0.01, max_depth=100, min_samples_leaf=20, n_estimators=50;, score=0.973 total time=   0.8s\n",
      "[CV 5/5] END learning_rate=0.01, max_depth=100, min_samples_leaf=20, n_estimators=50;, score=0.983 total time=   0.3s\n",
      "[CV 1/5] END learning_rate=0.01, max_depth=100, min_samples_leaf=20, n_estimators=100;, score=0.982 total time=   0.6s\n",
      "[CV 2/5] END learning_rate=0.01, max_depth=100, min_samples_leaf=20, n_estimators=100;, score=0.994 total time=   1.0s\n",
      "[CV 3/5] END learning_rate=0.01, max_depth=100, min_samples_leaf=20, n_estimators=100;, score=0.992 total time=   1.1s\n",
      "[CV 4/5] END learning_rate=0.01, max_depth=100, min_samples_leaf=20, n_estimators=100;, score=0.983 total time=   0.7s\n",
      "[CV 5/5] END learning_rate=0.01, max_depth=100, min_samples_leaf=20, n_estimators=100;, score=0.985 total time=   1.1s\n",
      "[CV 1/5] END learning_rate=0.01, max_depth=100, min_samples_leaf=20, n_estimators=200;, score=0.983 total time=   1.7s\n",
      "[CV 2/5] END learning_rate=0.01, max_depth=100, min_samples_leaf=20, n_estimators=200;, score=0.998 total time=   2.3s\n",
      "[CV 3/5] END learning_rate=0.01, max_depth=100, min_samples_leaf=20, n_estimators=200;, score=0.996 total time=   1.7s\n",
      "[CV 4/5] END learning_rate=0.01, max_depth=100, min_samples_leaf=20, n_estimators=200;, score=0.986 total time=   1.7s\n",
      "[CV 5/5] END learning_rate=0.01, max_depth=100, min_samples_leaf=20, n_estimators=200;, score=0.995 total time=   2.2s\n",
      "[CV 1/5] END learning_rate=0.01, max_depth=100, min_samples_leaf=20, n_estimators=500;, score=0.985 total time=   4.3s\n",
      "[CV 2/5] END learning_rate=0.01, max_depth=100, min_samples_leaf=20, n_estimators=500;, score=1.000 total time=   4.9s\n",
      "[CV 3/5] END learning_rate=0.01, max_depth=100, min_samples_leaf=20, n_estimators=500;, score=0.997 total time=   4.7s\n",
      "[CV 4/5] END learning_rate=0.01, max_depth=100, min_samples_leaf=20, n_estimators=500;, score=0.986 total time=   4.5s\n",
      "[CV 5/5] END learning_rate=0.01, max_depth=100, min_samples_leaf=20, n_estimators=500;, score=0.996 total time=   5.2s\n",
      "[CV 1/5] END learning_rate=0.01, max_depth=100, min_samples_leaf=50, n_estimators=50;, score=0.962 total time=   0.1s\n",
      "[CV 2/5] END learning_rate=0.01, max_depth=100, min_samples_leaf=50, n_estimators=50;, score=0.985 total time=   0.1s\n",
      "[CV 3/5] END learning_rate=0.01, max_depth=100, min_samples_leaf=50, n_estimators=50;, score=0.991 total time=   0.1s\n",
      "[CV 4/5] END learning_rate=0.01, max_depth=100, min_samples_leaf=50, n_estimators=50;, score=0.971 total time=   0.1s\n",
      "[CV 5/5] END learning_rate=0.01, max_depth=100, min_samples_leaf=50, n_estimators=50;, score=0.995 total time=   0.1s\n",
      "[CV 1/5] END learning_rate=0.01, max_depth=100, min_samples_leaf=50, n_estimators=100;, score=0.976 total time=   0.2s\n",
      "[CV 2/5] END learning_rate=0.01, max_depth=100, min_samples_leaf=50, n_estimators=100;, score=0.989 total time=   0.6s\n",
      "[CV 3/5] END learning_rate=0.01, max_depth=100, min_samples_leaf=50, n_estimators=100;, score=0.990 total time=   0.7s\n",
      "[CV 4/5] END learning_rate=0.01, max_depth=100, min_samples_leaf=50, n_estimators=100;, score=0.977 total time=   0.2s\n",
      "[CV 5/5] END learning_rate=0.01, max_depth=100, min_samples_leaf=50, n_estimators=100;, score=0.995 total time=   0.2s\n",
      "[CV 1/5] END learning_rate=0.01, max_depth=100, min_samples_leaf=50, n_estimators=200;, score=0.979 total time=   0.6s\n",
      "[CV 2/5] END learning_rate=0.01, max_depth=100, min_samples_leaf=50, n_estimators=200;, score=0.994 total time=   1.3s\n",
      "[CV 3/5] END learning_rate=0.01, max_depth=100, min_samples_leaf=50, n_estimators=200;, score=0.994 total time=   0.7s\n",
      "[CV 4/5] END learning_rate=0.01, max_depth=100, min_samples_leaf=50, n_estimators=200;, score=0.982 total time=   0.6s\n",
      "[CV 5/5] END learning_rate=0.01, max_depth=100, min_samples_leaf=50, n_estimators=200;, score=0.996 total time=   1.2s\n",
      "[CV 1/5] END learning_rate=0.01, max_depth=100, min_samples_leaf=50, n_estimators=500;, score=0.983 total time=   1.7s\n",
      "[CV 2/5] END learning_rate=0.01, max_depth=100, min_samples_leaf=50, n_estimators=500;, score=0.999 total time=   2.4s\n",
      "[CV 3/5] END learning_rate=0.01, max_depth=100, min_samples_leaf=50, n_estimators=500;, score=0.997 total time=   2.4s\n",
      "[CV 4/5] END learning_rate=0.01, max_depth=100, min_samples_leaf=50, n_estimators=500;, score=0.991 total time=   2.5s\n",
      "[CV 5/5] END learning_rate=0.01, max_depth=100, min_samples_leaf=50, n_estimators=500;, score=0.997 total time=   1.6s\n"
     ]
    },
    {
     "data": {
      "text/html": [
       "<style>#sk-container-id-3 {color: black;background-color: white;}#sk-container-id-3 pre{padding: 0;}#sk-container-id-3 div.sk-toggleable {background-color: white;}#sk-container-id-3 label.sk-toggleable__label {cursor: pointer;display: block;width: 100%;margin-bottom: 0;padding: 0.3em;box-sizing: border-box;text-align: center;}#sk-container-id-3 label.sk-toggleable__label-arrow:before {content: \"▸\";float: left;margin-right: 0.25em;color: #696969;}#sk-container-id-3 label.sk-toggleable__label-arrow:hover:before {color: black;}#sk-container-id-3 div.sk-estimator:hover label.sk-toggleable__label-arrow:before {color: black;}#sk-container-id-3 div.sk-toggleable__content {max-height: 0;max-width: 0;overflow: hidden;text-align: left;background-color: #f0f8ff;}#sk-container-id-3 div.sk-toggleable__content pre {margin: 0.2em;color: black;border-radius: 0.25em;background-color: #f0f8ff;}#sk-container-id-3 input.sk-toggleable__control:checked~div.sk-toggleable__content {max-height: 200px;max-width: 100%;overflow: auto;}#sk-container-id-3 input.sk-toggleable__control:checked~label.sk-toggleable__label-arrow:before {content: \"▾\";}#sk-container-id-3 div.sk-estimator input.sk-toggleable__control:checked~label.sk-toggleable__label {background-color: #d4ebff;}#sk-container-id-3 div.sk-label input.sk-toggleable__control:checked~label.sk-toggleable__label {background-color: #d4ebff;}#sk-container-id-3 input.sk-hidden--visually {border: 0;clip: rect(1px 1px 1px 1px);clip: rect(1px, 1px, 1px, 1px);height: 1px;margin: -1px;overflow: hidden;padding: 0;position: absolute;width: 1px;}#sk-container-id-3 div.sk-estimator {font-family: monospace;background-color: #f0f8ff;border: 1px dotted black;border-radius: 0.25em;box-sizing: border-box;margin-bottom: 0.5em;}#sk-container-id-3 div.sk-estimator:hover {background-color: #d4ebff;}#sk-container-id-3 div.sk-parallel-item::after {content: \"\";width: 100%;border-bottom: 1px solid gray;flex-grow: 1;}#sk-container-id-3 div.sk-label:hover label.sk-toggleable__label {background-color: #d4ebff;}#sk-container-id-3 div.sk-serial::before {content: \"\";position: absolute;border-left: 1px solid gray;box-sizing: border-box;top: 0;bottom: 0;left: 50%;z-index: 0;}#sk-container-id-3 div.sk-serial {display: flex;flex-direction: column;align-items: center;background-color: white;padding-right: 0.2em;padding-left: 0.2em;position: relative;}#sk-container-id-3 div.sk-item {position: relative;z-index: 1;}#sk-container-id-3 div.sk-parallel {display: flex;align-items: stretch;justify-content: center;background-color: white;position: relative;}#sk-container-id-3 div.sk-item::before, #sk-container-id-3 div.sk-parallel-item::before {content: \"\";position: absolute;border-left: 1px solid gray;box-sizing: border-box;top: 0;bottom: 0;left: 50%;z-index: -1;}#sk-container-id-3 div.sk-parallel-item {display: flex;flex-direction: column;z-index: 1;position: relative;background-color: white;}#sk-container-id-3 div.sk-parallel-item:first-child::after {align-self: flex-end;width: 50%;}#sk-container-id-3 div.sk-parallel-item:last-child::after {align-self: flex-start;width: 50%;}#sk-container-id-3 div.sk-parallel-item:only-child::after {width: 0;}#sk-container-id-3 div.sk-dashed-wrapped {border: 1px dashed gray;margin: 0 0.4em 0.5em 0.4em;box-sizing: border-box;padding-bottom: 0.4em;background-color: white;}#sk-container-id-3 div.sk-label label {font-family: monospace;font-weight: bold;display: inline-block;line-height: 1.2em;}#sk-container-id-3 div.sk-label-container {text-align: center;}#sk-container-id-3 div.sk-container {/* jupyter's `normalize.less` sets `[hidden] { display: none; }` but bootstrap.min.css set `[hidden] { display: none !important; }` so we also need the `!important` here to be able to override the default hidden behavior on the sphinx rendered scikit-learn.org. See: https://github.com/scikit-learn/scikit-learn/issues/21755 */display: inline-block !important;position: relative;}#sk-container-id-3 div.sk-text-repr-fallback {display: none;}</style><div id=\"sk-container-id-3\" class=\"sk-top-container\"><div class=\"sk-text-repr-fallback\"><pre>GridSearchCV(estimator=GradientBoostingClassifier(),\n",
       "             param_grid={&#x27;learning_rate&#x27;: [0.1, 0.01],\n",
       "                         &#x27;max_depth&#x27;: [10, 20, 50, 100],\n",
       "                         &#x27;min_samples_leaf&#x27;: [10, 20, 50],\n",
       "                         &#x27;n_estimators&#x27;: [50, 100, 200, 500]},\n",
       "             scoring=&#x27;roc_auc&#x27;, verbose=5)</pre><b>In a Jupyter environment, please rerun this cell to show the HTML representation or trust the notebook. <br />On GitHub, the HTML representation is unable to render, please try loading this page with nbviewer.org.</b></div><div class=\"sk-container\" hidden><div class=\"sk-item sk-dashed-wrapped\"><div class=\"sk-label-container\"><div class=\"sk-label sk-toggleable\"><input class=\"sk-toggleable__control sk-hidden--visually\" id=\"sk-estimator-id-7\" type=\"checkbox\" ><label for=\"sk-estimator-id-7\" class=\"sk-toggleable__label sk-toggleable__label-arrow\">GridSearchCV</label><div class=\"sk-toggleable__content\"><pre>GridSearchCV(estimator=GradientBoostingClassifier(),\n",
       "             param_grid={&#x27;learning_rate&#x27;: [0.1, 0.01],\n",
       "                         &#x27;max_depth&#x27;: [10, 20, 50, 100],\n",
       "                         &#x27;min_samples_leaf&#x27;: [10, 20, 50],\n",
       "                         &#x27;n_estimators&#x27;: [50, 100, 200, 500]},\n",
       "             scoring=&#x27;roc_auc&#x27;, verbose=5)</pre></div></div></div><div class=\"sk-parallel\"><div class=\"sk-parallel-item\"><div class=\"sk-item\"><div class=\"sk-label-container\"><div class=\"sk-label sk-toggleable\"><input class=\"sk-toggleable__control sk-hidden--visually\" id=\"sk-estimator-id-8\" type=\"checkbox\" ><label for=\"sk-estimator-id-8\" class=\"sk-toggleable__label sk-toggleable__label-arrow\">estimator: GradientBoostingClassifier</label><div class=\"sk-toggleable__content\"><pre>GradientBoostingClassifier()</pre></div></div></div><div class=\"sk-serial\"><div class=\"sk-item\"><div class=\"sk-estimator sk-toggleable\"><input class=\"sk-toggleable__control sk-hidden--visually\" id=\"sk-estimator-id-9\" type=\"checkbox\" ><label for=\"sk-estimator-id-9\" class=\"sk-toggleable__label sk-toggleable__label-arrow\">GradientBoostingClassifier</label><div class=\"sk-toggleable__content\"><pre>GradientBoostingClassifier()</pre></div></div></div></div></div></div></div></div></div></div>"
      ],
      "text/plain": [
       "GridSearchCV(estimator=GradientBoostingClassifier(),\n",
       "             param_grid={'learning_rate': [0.1, 0.01],\n",
       "                         'max_depth': [10, 20, 50, 100],\n",
       "                         'min_samples_leaf': [10, 20, 50],\n",
       "                         'n_estimators': [50, 100, 200, 500]},\n",
       "             scoring='roc_auc', verbose=5)"
      ]
     },
     "execution_count": 70,
     "metadata": {},
     "output_type": "execute_result"
    }
   ],
   "source": [
    "cv_grid = GridSearchCV(gbm_2, param_grid = rf_tuned_parameters, scoring = 'roc_auc', verbose = 5) # 'recall', my_score\n",
    "cv_grid.fit(X_train, y_train)"
   ]
  },
  {
   "cell_type": "code",
   "execution_count": 71,
   "id": "287aef4d-0c4f-4f47-8aad-52f9463af4a4",
   "metadata": {},
   "outputs": [
    {
     "data": {
      "text/plain": [
       "{'ccp_alpha': 0.0,\n",
       " 'criterion': 'friedman_mse',\n",
       " 'init': None,\n",
       " 'learning_rate': 0.1,\n",
       " 'loss': 'log_loss',\n",
       " 'max_depth': 10,\n",
       " 'max_features': None,\n",
       " 'max_leaf_nodes': None,\n",
       " 'min_impurity_decrease': 0.0,\n",
       " 'min_samples_leaf': 50,\n",
       " 'min_samples_split': 2,\n",
       " 'min_weight_fraction_leaf': 0.0,\n",
       " 'n_estimators': 100,\n",
       " 'n_iter_no_change': None,\n",
       " 'random_state': None,\n",
       " 'subsample': 1.0,\n",
       " 'tol': 0.0001,\n",
       " 'validation_fraction': 0.1,\n",
       " 'verbose': 0,\n",
       " 'warm_start': False}"
      ]
     },
     "execution_count": 71,
     "metadata": {},
     "output_type": "execute_result"
    }
   ],
   "source": [
    "best_parameters = cv_grid.best_estimator_.get_params()\n",
    "best_parameters"
   ]
  },
  {
   "cell_type": "code",
   "execution_count": 72,
   "id": "718d1120-43e1-4876-91a1-9fb31e94057c",
   "metadata": {},
   "outputs": [
    {
     "name": "stdout",
     "output_type": "stream",
     "text": [
      "Confusion Matrix : \n",
      " [[43  2]\n",
      " [ 3 66]]\n",
      "Accuracy Score is 0.956140351\n",
      "Classification Report : \n",
      "               precision    recall  f1-score   support\n",
      "\n",
      "           0       0.93      0.96      0.95        45\n",
      "           1       0.97      0.96      0.96        69\n",
      "\n",
      "    accuracy                           0.96       114\n",
      "   macro avg       0.95      0.96      0.95       114\n",
      "weighted avg       0.96      0.96      0.96       114\n",
      "\n",
      "AUC-ROC: 0.9560386473429953\n",
      "LOGLOSS Value is 1.5809\n"
     ]
    }
   ],
   "source": [
    "gbm_2_pred = cv_grid.predict(X_test)\n",
    "fpr, tpr, thresholds = roc_curve(y_test, gbm_2_pred)\n",
    "roc_auc = auc(fpr, tpr)\n",
    "results = confusion_matrix(y_test, gbm_2_pred)\n",
    "print('Confusion Matrix : \\n', results)\n",
    "print('Accuracy Score is %.9f' % (accuracy_score(y_test, gbm_2_pred)))\n",
    "print('Classification Report : \\n', classification_report(y_test, gbm_2_pred))\n",
    "print('AUC-ROC:',roc_auc_score(y_test, gbm_2_pred))\n",
    "print('LOGLOSS Value is %.4f' % log_loss(y_test, gbm_2_pred))"
   ]
  },
  {
   "cell_type": "markdown",
   "id": "8fec1182-9152-4ddf-9bb1-2c87964a8393",
   "metadata": {},
   "source": [
    "##### 4. K-NeighborsClassifier"
   ]
  },
  {
   "cell_type": "code",
   "execution_count": 75,
   "id": "abba1856-5fc5-4885-9e4a-86243eb8318c",
   "metadata": {},
   "outputs": [],
   "source": [
    "from sklearn.neighbors import KNeighborsClassifier\n",
    "knn_2= KNeighborsClassifier()"
   ]
  },
  {
   "cell_type": "code",
   "execution_count": 78,
   "id": "4d4a9675-19b8-4993-b683-7810915a8ee1",
   "metadata": {},
   "outputs": [],
   "source": [
    "rf_tuned_params= {'n_neighbors':[2,3,5,7],'weights':['uniform','distance'],'leaf_size':[10,20,30],'p':[1,2]}"
   ]
  },
  {
   "cell_type": "code",
   "execution_count": 79,
   "id": "3b5686dc-a8c7-434c-997d-2436ff801992",
   "metadata": {},
   "outputs": [
    {
     "name": "stdout",
     "output_type": "stream",
     "text": [
      "Fitting 5 folds for each of 48 candidates, totalling 240 fits\n",
      "[CV 1/5] END leaf_size=10, n_neighbors=2, p=1, weights=uniform;, score=0.898 total time=   0.0s\n",
      "[CV 2/5] END leaf_size=10, n_neighbors=2, p=1, weights=uniform;, score=0.955 total time=   0.0s\n",
      "[CV 3/5] END leaf_size=10, n_neighbors=2, p=1, weights=uniform;, score=0.963 total time=   0.0s\n",
      "[CV 4/5] END leaf_size=10, n_neighbors=2, p=1, weights=uniform;, score=0.939 total time=   0.0s\n",
      "[CV 5/5] END leaf_size=10, n_neighbors=2, p=1, weights=uniform;, score=0.955 total time=   0.0s\n",
      "[CV 1/5] END leaf_size=10, n_neighbors=2, p=1, weights=distance;, score=0.900 total time=   0.0s\n",
      "[CV 2/5] END leaf_size=10, n_neighbors=2, p=1, weights=distance;, score=0.953 total time=   0.0s\n",
      "[CV 3/5] END leaf_size=10, n_neighbors=2, p=1, weights=distance;, score=0.961 total time=   0.0s\n",
      "[CV 4/5] END leaf_size=10, n_neighbors=2, p=1, weights=distance;, score=0.939 total time=   0.0s\n",
      "[CV 5/5] END leaf_size=10, n_neighbors=2, p=1, weights=distance;, score=0.954 total time=   0.0s\n",
      "[CV 1/5] END leaf_size=10, n_neighbors=2, p=2, weights=uniform;, score=0.902 total time=   0.0s\n",
      "[CV 2/5] END leaf_size=10, n_neighbors=2, p=2, weights=uniform;, score=0.962 total time=   0.0s\n",
      "[CV 3/5] END leaf_size=10, n_neighbors=2, p=2, weights=uniform;, score=0.939 total time=   0.0s\n",
      "[CV 4/5] END leaf_size=10, n_neighbors=2, p=2, weights=uniform;, score=0.924 total time=   0.0s\n",
      "[CV 5/5] END leaf_size=10, n_neighbors=2, p=2, weights=uniform;, score=0.953 total time=   0.0s\n",
      "[CV 1/5] END leaf_size=10, n_neighbors=2, p=2, weights=distance;, score=0.902 total time=   0.0s\n",
      "[CV 2/5] END leaf_size=10, n_neighbors=2, p=2, weights=distance;, score=0.961 total time=   0.0s\n",
      "[CV 3/5] END leaf_size=10, n_neighbors=2, p=2, weights=distance;, score=0.938 total time=   0.0s\n",
      "[CV 4/5] END leaf_size=10, n_neighbors=2, p=2, weights=distance;, score=0.923 total time=   0.0s\n",
      "[CV 5/5] END leaf_size=10, n_neighbors=2, p=2, weights=distance;, score=0.953 total time=   0.0s\n",
      "[CV 1/5] END leaf_size=10, n_neighbors=3, p=1, weights=uniform;, score=0.914 total time=   0.0s\n",
      "[CV 2/5] END leaf_size=10, n_neighbors=3, p=1, weights=uniform;, score=0.976 total time=   0.0s\n",
      "[CV 3/5] END leaf_size=10, n_neighbors=3, p=1, weights=uniform;, score=0.981 total time=   0.0s\n",
      "[CV 4/5] END leaf_size=10, n_neighbors=3, p=1, weights=uniform;, score=0.959 total time=   0.0s\n",
      "[CV 5/5] END leaf_size=10, n_neighbors=3, p=1, weights=uniform;, score=0.967 total time=   0.0s\n",
      "[CV 1/5] END leaf_size=10, n_neighbors=3, p=1, weights=distance;, score=0.913 total time=   0.0s\n",
      "[CV 2/5] END leaf_size=10, n_neighbors=3, p=1, weights=distance;, score=0.976 total time=   0.0s\n",
      "[CV 3/5] END leaf_size=10, n_neighbors=3, p=1, weights=distance;, score=0.980 total time=   0.0s\n",
      "[CV 4/5] END leaf_size=10, n_neighbors=3, p=1, weights=distance;, score=0.958 total time=   0.0s\n",
      "[CV 5/5] END leaf_size=10, n_neighbors=3, p=1, weights=distance;, score=0.966 total time=   0.0s\n",
      "[CV 1/5] END leaf_size=10, n_neighbors=3, p=2, weights=uniform;, score=0.916 total time=   0.0s\n",
      "[CV 2/5] END leaf_size=10, n_neighbors=3, p=2, weights=uniform;, score=0.970 total time=   0.0s\n",
      "[CV 3/5] END leaf_size=10, n_neighbors=3, p=2, weights=uniform;, score=0.975 total time=   0.0s\n",
      "[CV 4/5] END leaf_size=10, n_neighbors=3, p=2, weights=uniform;, score=0.949 total time=   0.0s\n",
      "[CV 5/5] END leaf_size=10, n_neighbors=3, p=2, weights=uniform;, score=0.966 total time=   0.0s\n",
      "[CV 1/5] END leaf_size=10, n_neighbors=3, p=2, weights=distance;, score=0.916 total time=   0.0s\n",
      "[CV 2/5] END leaf_size=10, n_neighbors=3, p=2, weights=distance;, score=0.971 total time=   0.0s\n",
      "[CV 3/5] END leaf_size=10, n_neighbors=3, p=2, weights=distance;, score=0.971 total time=   0.0s\n",
      "[CV 4/5] END leaf_size=10, n_neighbors=3, p=2, weights=distance;, score=0.949 total time=   0.0s\n",
      "[CV 5/5] END leaf_size=10, n_neighbors=3, p=2, weights=distance;, score=0.967 total time=   0.0s\n",
      "[CV 1/5] END leaf_size=10, n_neighbors=5, p=1, weights=uniform;, score=0.916 total time=   0.0s\n",
      "[CV 2/5] END leaf_size=10, n_neighbors=5, p=1, weights=uniform;, score=0.990 total time=   0.0s\n",
      "[CV 3/5] END leaf_size=10, n_neighbors=5, p=1, weights=uniform;, score=0.980 total time=   0.0s\n",
      "[CV 4/5] END leaf_size=10, n_neighbors=5, p=1, weights=uniform;, score=0.962 total time=   0.0s\n",
      "[CV 5/5] END leaf_size=10, n_neighbors=5, p=1, weights=uniform;, score=0.981 total time=   0.0s\n",
      "[CV 1/5] END leaf_size=10, n_neighbors=5, p=1, weights=distance;, score=0.916 total time=   0.0s\n",
      "[CV 2/5] END leaf_size=10, n_neighbors=5, p=1, weights=distance;, score=0.990 total time=   0.0s\n",
      "[CV 3/5] END leaf_size=10, n_neighbors=5, p=1, weights=distance;, score=0.979 total time=   0.0s\n",
      "[CV 4/5] END leaf_size=10, n_neighbors=5, p=1, weights=distance;, score=0.962 total time=   0.0s\n",
      "[CV 5/5] END leaf_size=10, n_neighbors=5, p=1, weights=distance;, score=0.982 total time=   0.0s\n",
      "[CV 1/5] END leaf_size=10, n_neighbors=5, p=2, weights=uniform;, score=0.916 total time=   0.0s\n",
      "[CV 2/5] END leaf_size=10, n_neighbors=5, p=2, weights=uniform;, score=0.981 total time=   0.0s\n",
      "[CV 3/5] END leaf_size=10, n_neighbors=5, p=2, weights=uniform;, score=0.972 total time=   0.0s\n",
      "[CV 4/5] END leaf_size=10, n_neighbors=5, p=2, weights=uniform;, score=0.947 total time=   0.0s\n",
      "[CV 5/5] END leaf_size=10, n_neighbors=5, p=2, weights=uniform;, score=0.979 total time=   0.0s\n",
      "[CV 1/5] END leaf_size=10, n_neighbors=5, p=2, weights=distance;, score=0.916 total time=   0.0s\n",
      "[CV 2/5] END leaf_size=10, n_neighbors=5, p=2, weights=distance;, score=0.984 total time=   0.0s\n",
      "[CV 3/5] END leaf_size=10, n_neighbors=5, p=2, weights=distance;, score=0.973 total time=   0.0s\n",
      "[CV 4/5] END leaf_size=10, n_neighbors=5, p=2, weights=distance;, score=0.948 total time=   0.0s\n",
      "[CV 5/5] END leaf_size=10, n_neighbors=5, p=2, weights=distance;, score=0.979 total time=   0.0s\n",
      "[CV 1/5] END leaf_size=10, n_neighbors=7, p=1, weights=uniform;, score=0.916 total time=   0.0s\n",
      "[CV 2/5] END leaf_size=10, n_neighbors=7, p=1, weights=uniform;, score=0.987 total time=   0.0s\n",
      "[CV 3/5] END leaf_size=10, n_neighbors=7, p=1, weights=uniform;, score=0.978 total time=   0.0s\n",
      "[CV 4/5] END leaf_size=10, n_neighbors=7, p=1, weights=uniform;, score=0.958 total time=   0.0s\n",
      "[CV 5/5] END leaf_size=10, n_neighbors=7, p=1, weights=uniform;, score=0.994 total time=   0.0s\n",
      "[CV 1/5] END leaf_size=10, n_neighbors=7, p=1, weights=distance;, score=0.916 total time=   0.0s\n",
      "[CV 2/5] END leaf_size=10, n_neighbors=7, p=1, weights=distance;, score=0.989 total time=   0.0s\n",
      "[CV 3/5] END leaf_size=10, n_neighbors=7, p=1, weights=distance;, score=0.978 total time=   0.0s\n",
      "[CV 4/5] END leaf_size=10, n_neighbors=7, p=1, weights=distance;, score=0.959 total time=   0.0s\n",
      "[CV 5/5] END leaf_size=10, n_neighbors=7, p=1, weights=distance;, score=0.995 total time=   0.0s\n",
      "[CV 1/5] END leaf_size=10, n_neighbors=7, p=2, weights=uniform;, score=0.915 total time=   0.0s\n",
      "[CV 2/5] END leaf_size=10, n_neighbors=7, p=2, weights=uniform;, score=0.985 total time=   0.0s\n",
      "[CV 3/5] END leaf_size=10, n_neighbors=7, p=2, weights=uniform;, score=0.972 total time=   0.0s\n",
      "[CV 4/5] END leaf_size=10, n_neighbors=7, p=2, weights=uniform;, score=0.956 total time=   0.0s\n",
      "[CV 5/5] END leaf_size=10, n_neighbors=7, p=2, weights=uniform;, score=0.992 total time=   0.0s\n",
      "[CV 1/5] END leaf_size=10, n_neighbors=7, p=2, weights=distance;, score=0.915 total time=   0.0s\n",
      "[CV 2/5] END leaf_size=10, n_neighbors=7, p=2, weights=distance;, score=0.986 total time=   0.0s\n",
      "[CV 3/5] END leaf_size=10, n_neighbors=7, p=2, weights=distance;, score=0.973 total time=   0.0s\n",
      "[CV 4/5] END leaf_size=10, n_neighbors=7, p=2, weights=distance;, score=0.956 total time=   0.0s\n",
      "[CV 5/5] END leaf_size=10, n_neighbors=7, p=2, weights=distance;, score=0.993 total time=   0.0s\n",
      "[CV 1/5] END leaf_size=20, n_neighbors=2, p=1, weights=uniform;, score=0.898 total time=   0.0s\n",
      "[CV 2/5] END leaf_size=20, n_neighbors=2, p=1, weights=uniform;, score=0.955 total time=   0.0s\n",
      "[CV 3/5] END leaf_size=20, n_neighbors=2, p=1, weights=uniform;, score=0.963 total time=   0.0s\n",
      "[CV 4/5] END leaf_size=20, n_neighbors=2, p=1, weights=uniform;, score=0.939 total time=   0.0s\n",
      "[CV 5/5] END leaf_size=20, n_neighbors=2, p=1, weights=uniform;, score=0.955 total time=   0.0s\n",
      "[CV 1/5] END leaf_size=20, n_neighbors=2, p=1, weights=distance;, score=0.900 total time=   0.0s\n",
      "[CV 2/5] END leaf_size=20, n_neighbors=2, p=1, weights=distance;, score=0.953 total time=   0.0s\n",
      "[CV 3/5] END leaf_size=20, n_neighbors=2, p=1, weights=distance;, score=0.961 total time=   0.0s\n",
      "[CV 4/5] END leaf_size=20, n_neighbors=2, p=1, weights=distance;, score=0.939 total time=   0.0s\n",
      "[CV 5/5] END leaf_size=20, n_neighbors=2, p=1, weights=distance;, score=0.954 total time=   0.0s\n",
      "[CV 1/5] END leaf_size=20, n_neighbors=2, p=2, weights=uniform;, score=0.902 total time=   0.0s\n",
      "[CV 2/5] END leaf_size=20, n_neighbors=2, p=2, weights=uniform;, score=0.962 total time=   0.0s\n",
      "[CV 3/5] END leaf_size=20, n_neighbors=2, p=2, weights=uniform;, score=0.939 total time=   0.0s\n",
      "[CV 4/5] END leaf_size=20, n_neighbors=2, p=2, weights=uniform;, score=0.924 total time=   0.0s\n",
      "[CV 5/5] END leaf_size=20, n_neighbors=2, p=2, weights=uniform;, score=0.953 total time=   0.0s\n",
      "[CV 1/5] END leaf_size=20, n_neighbors=2, p=2, weights=distance;, score=0.902 total time=   0.0s\n",
      "[CV 2/5] END leaf_size=20, n_neighbors=2, p=2, weights=distance;, score=0.961 total time=   0.0s\n",
      "[CV 3/5] END leaf_size=20, n_neighbors=2, p=2, weights=distance;, score=0.938 total time=   0.0s\n",
      "[CV 4/5] END leaf_size=20, n_neighbors=2, p=2, weights=distance;, score=0.923 total time=   0.0s\n",
      "[CV 5/5] END leaf_size=20, n_neighbors=2, p=2, weights=distance;, score=0.953 total time=   0.0s\n",
      "[CV 1/5] END leaf_size=20, n_neighbors=3, p=1, weights=uniform;, score=0.914 total time=   0.0s\n",
      "[CV 2/5] END leaf_size=20, n_neighbors=3, p=1, weights=uniform;, score=0.976 total time=   0.0s\n",
      "[CV 3/5] END leaf_size=20, n_neighbors=3, p=1, weights=uniform;, score=0.981 total time=   0.0s\n",
      "[CV 4/5] END leaf_size=20, n_neighbors=3, p=1, weights=uniform;, score=0.959 total time=   0.0s\n",
      "[CV 5/5] END leaf_size=20, n_neighbors=3, p=1, weights=uniform;, score=0.967 total time=   0.0s\n",
      "[CV 1/5] END leaf_size=20, n_neighbors=3, p=1, weights=distance;, score=0.913 total time=   0.0s\n",
      "[CV 2/5] END leaf_size=20, n_neighbors=3, p=1, weights=distance;, score=0.976 total time=   0.0s\n",
      "[CV 3/5] END leaf_size=20, n_neighbors=3, p=1, weights=distance;, score=0.980 total time=   0.0s\n",
      "[CV 4/5] END leaf_size=20, n_neighbors=3, p=1, weights=distance;, score=0.958 total time=   0.0s\n",
      "[CV 5/5] END leaf_size=20, n_neighbors=3, p=1, weights=distance;, score=0.966 total time=   0.0s\n",
      "[CV 1/5] END leaf_size=20, n_neighbors=3, p=2, weights=uniform;, score=0.916 total time=   0.0s\n",
      "[CV 2/5] END leaf_size=20, n_neighbors=3, p=2, weights=uniform;, score=0.970 total time=   0.0s\n",
      "[CV 3/5] END leaf_size=20, n_neighbors=3, p=2, weights=uniform;, score=0.975 total time=   0.0s\n",
      "[CV 4/5] END leaf_size=20, n_neighbors=3, p=2, weights=uniform;, score=0.949 total time=   0.0s\n",
      "[CV 5/5] END leaf_size=20, n_neighbors=3, p=2, weights=uniform;, score=0.966 total time=   0.0s\n",
      "[CV 1/5] END leaf_size=20, n_neighbors=3, p=2, weights=distance;, score=0.916 total time=   0.0s\n",
      "[CV 2/5] END leaf_size=20, n_neighbors=3, p=2, weights=distance;, score=0.971 total time=   0.0s\n",
      "[CV 3/5] END leaf_size=20, n_neighbors=3, p=2, weights=distance;, score=0.971 total time=   0.0s\n",
      "[CV 4/5] END leaf_size=20, n_neighbors=3, p=2, weights=distance;, score=0.949 total time=   0.0s\n",
      "[CV 5/5] END leaf_size=20, n_neighbors=3, p=2, weights=distance;, score=0.967 total time=   0.0s\n",
      "[CV 1/5] END leaf_size=20, n_neighbors=5, p=1, weights=uniform;, score=0.916 total time=   0.0s\n",
      "[CV 2/5] END leaf_size=20, n_neighbors=5, p=1, weights=uniform;, score=0.990 total time=   0.0s\n",
      "[CV 3/5] END leaf_size=20, n_neighbors=5, p=1, weights=uniform;, score=0.980 total time=   0.0s\n",
      "[CV 4/5] END leaf_size=20, n_neighbors=5, p=1, weights=uniform;, score=0.962 total time=   0.0s\n",
      "[CV 5/5] END leaf_size=20, n_neighbors=5, p=1, weights=uniform;, score=0.981 total time=   0.0s\n",
      "[CV 1/5] END leaf_size=20, n_neighbors=5, p=1, weights=distance;, score=0.916 total time=   0.0s\n",
      "[CV 2/5] END leaf_size=20, n_neighbors=5, p=1, weights=distance;, score=0.990 total time=   0.0s\n",
      "[CV 3/5] END leaf_size=20, n_neighbors=5, p=1, weights=distance;, score=0.979 total time=   0.0s\n",
      "[CV 4/5] END leaf_size=20, n_neighbors=5, p=1, weights=distance;, score=0.962 total time=   0.0s\n",
      "[CV 5/5] END leaf_size=20, n_neighbors=5, p=1, weights=distance;, score=0.982 total time=   0.0s\n",
      "[CV 1/5] END leaf_size=20, n_neighbors=5, p=2, weights=uniform;, score=0.916 total time=   0.0s\n",
      "[CV 2/5] END leaf_size=20, n_neighbors=5, p=2, weights=uniform;, score=0.981 total time=   0.0s\n",
      "[CV 3/5] END leaf_size=20, n_neighbors=5, p=2, weights=uniform;, score=0.972 total time=   0.0s\n",
      "[CV 4/5] END leaf_size=20, n_neighbors=5, p=2, weights=uniform;, score=0.947 total time=   0.0s\n",
      "[CV 5/5] END leaf_size=20, n_neighbors=5, p=2, weights=uniform;, score=0.979 total time=   0.0s\n",
      "[CV 1/5] END leaf_size=20, n_neighbors=5, p=2, weights=distance;, score=0.916 total time=   0.0s\n",
      "[CV 2/5] END leaf_size=20, n_neighbors=5, p=2, weights=distance;, score=0.984 total time=   0.0s\n",
      "[CV 3/5] END leaf_size=20, n_neighbors=5, p=2, weights=distance;, score=0.973 total time=   0.0s\n",
      "[CV 4/5] END leaf_size=20, n_neighbors=5, p=2, weights=distance;, score=0.948 total time=   0.0s\n",
      "[CV 5/5] END leaf_size=20, n_neighbors=5, p=2, weights=distance;, score=0.979 total time=   0.0s\n",
      "[CV 1/5] END leaf_size=20, n_neighbors=7, p=1, weights=uniform;, score=0.916 total time=   0.0s\n",
      "[CV 2/5] END leaf_size=20, n_neighbors=7, p=1, weights=uniform;, score=0.987 total time=   0.0s\n",
      "[CV 3/5] END leaf_size=20, n_neighbors=7, p=1, weights=uniform;, score=0.978 total time=   0.0s\n",
      "[CV 4/5] END leaf_size=20, n_neighbors=7, p=1, weights=uniform;, score=0.958 total time=   0.0s\n",
      "[CV 5/5] END leaf_size=20, n_neighbors=7, p=1, weights=uniform;, score=0.994 total time=   0.0s\n",
      "[CV 1/5] END leaf_size=20, n_neighbors=7, p=1, weights=distance;, score=0.916 total time=   0.0s\n",
      "[CV 2/5] END leaf_size=20, n_neighbors=7, p=1, weights=distance;, score=0.989 total time=   0.0s\n",
      "[CV 3/5] END leaf_size=20, n_neighbors=7, p=1, weights=distance;, score=0.978 total time=   0.0s\n",
      "[CV 4/5] END leaf_size=20, n_neighbors=7, p=1, weights=distance;, score=0.959 total time=   0.0s\n",
      "[CV 5/5] END leaf_size=20, n_neighbors=7, p=1, weights=distance;, score=0.995 total time=   0.0s\n",
      "[CV 1/5] END leaf_size=20, n_neighbors=7, p=2, weights=uniform;, score=0.915 total time=   0.0s\n",
      "[CV 2/5] END leaf_size=20, n_neighbors=7, p=2, weights=uniform;, score=0.985 total time=   0.0s\n",
      "[CV 3/5] END leaf_size=20, n_neighbors=7, p=2, weights=uniform;, score=0.972 total time=   0.0s\n",
      "[CV 4/5] END leaf_size=20, n_neighbors=7, p=2, weights=uniform;, score=0.956 total time=   0.0s\n",
      "[CV 5/5] END leaf_size=20, n_neighbors=7, p=2, weights=uniform;, score=0.992 total time=   0.0s\n",
      "[CV 1/5] END leaf_size=20, n_neighbors=7, p=2, weights=distance;, score=0.915 total time=   0.0s\n",
      "[CV 2/5] END leaf_size=20, n_neighbors=7, p=2, weights=distance;, score=0.986 total time=   0.0s\n",
      "[CV 3/5] END leaf_size=20, n_neighbors=7, p=2, weights=distance;, score=0.973 total time=   0.0s\n",
      "[CV 4/5] END leaf_size=20, n_neighbors=7, p=2, weights=distance;, score=0.956 total time=   0.0s\n",
      "[CV 5/5] END leaf_size=20, n_neighbors=7, p=2, weights=distance;, score=0.993 total time=   0.0s\n",
      "[CV 1/5] END leaf_size=30, n_neighbors=2, p=1, weights=uniform;, score=0.898 total time=   0.0s\n",
      "[CV 2/5] END leaf_size=30, n_neighbors=2, p=1, weights=uniform;, score=0.955 total time=   0.0s\n",
      "[CV 3/5] END leaf_size=30, n_neighbors=2, p=1, weights=uniform;, score=0.963 total time=   0.0s\n",
      "[CV 4/5] END leaf_size=30, n_neighbors=2, p=1, weights=uniform;, score=0.939 total time=   0.0s\n",
      "[CV 5/5] END leaf_size=30, n_neighbors=2, p=1, weights=uniform;, score=0.955 total time=   0.0s\n",
      "[CV 1/5] END leaf_size=30, n_neighbors=2, p=1, weights=distance;, score=0.900 total time=   0.0s\n",
      "[CV 2/5] END leaf_size=30, n_neighbors=2, p=1, weights=distance;, score=0.953 total time=   0.0s\n",
      "[CV 3/5] END leaf_size=30, n_neighbors=2, p=1, weights=distance;, score=0.961 total time=   0.0s\n",
      "[CV 4/5] END leaf_size=30, n_neighbors=2, p=1, weights=distance;, score=0.939 total time=   0.0s\n",
      "[CV 5/5] END leaf_size=30, n_neighbors=2, p=1, weights=distance;, score=0.954 total time=   0.0s\n",
      "[CV 1/5] END leaf_size=30, n_neighbors=2, p=2, weights=uniform;, score=0.902 total time=   0.0s\n",
      "[CV 2/5] END leaf_size=30, n_neighbors=2, p=2, weights=uniform;, score=0.962 total time=   0.0s\n",
      "[CV 3/5] END leaf_size=30, n_neighbors=2, p=2, weights=uniform;, score=0.939 total time=   0.0s\n",
      "[CV 4/5] END leaf_size=30, n_neighbors=2, p=2, weights=uniform;, score=0.924 total time=   0.0s\n",
      "[CV 5/5] END leaf_size=30, n_neighbors=2, p=2, weights=uniform;, score=0.953 total time=   0.0s\n",
      "[CV 1/5] END leaf_size=30, n_neighbors=2, p=2, weights=distance;, score=0.902 total time=   0.0s\n",
      "[CV 2/5] END leaf_size=30, n_neighbors=2, p=2, weights=distance;, score=0.961 total time=   0.0s\n",
      "[CV 3/5] END leaf_size=30, n_neighbors=2, p=2, weights=distance;, score=0.938 total time=   0.0s\n",
      "[CV 4/5] END leaf_size=30, n_neighbors=2, p=2, weights=distance;, score=0.923 total time=   0.0s\n",
      "[CV 5/5] END leaf_size=30, n_neighbors=2, p=2, weights=distance;, score=0.953 total time=   0.0s\n",
      "[CV 1/5] END leaf_size=30, n_neighbors=3, p=1, weights=uniform;, score=0.914 total time=   0.0s\n",
      "[CV 2/5] END leaf_size=30, n_neighbors=3, p=1, weights=uniform;, score=0.976 total time=   0.0s\n",
      "[CV 3/5] END leaf_size=30, n_neighbors=3, p=1, weights=uniform;, score=0.981 total time=   0.0s\n",
      "[CV 4/5] END leaf_size=30, n_neighbors=3, p=1, weights=uniform;, score=0.959 total time=   0.0s\n",
      "[CV 5/5] END leaf_size=30, n_neighbors=3, p=1, weights=uniform;, score=0.967 total time=   0.0s\n",
      "[CV 1/5] END leaf_size=30, n_neighbors=3, p=1, weights=distance;, score=0.913 total time=   0.0s\n",
      "[CV 2/5] END leaf_size=30, n_neighbors=3, p=1, weights=distance;, score=0.976 total time=   0.0s\n",
      "[CV 3/5] END leaf_size=30, n_neighbors=3, p=1, weights=distance;, score=0.980 total time=   0.0s\n",
      "[CV 4/5] END leaf_size=30, n_neighbors=3, p=1, weights=distance;, score=0.958 total time=   0.0s\n",
      "[CV 5/5] END leaf_size=30, n_neighbors=3, p=1, weights=distance;, score=0.966 total time=   0.0s\n",
      "[CV 1/5] END leaf_size=30, n_neighbors=3, p=2, weights=uniform;, score=0.916 total time=   0.0s\n",
      "[CV 2/5] END leaf_size=30, n_neighbors=3, p=2, weights=uniform;, score=0.970 total time=   0.0s\n",
      "[CV 3/5] END leaf_size=30, n_neighbors=3, p=2, weights=uniform;, score=0.975 total time=   0.0s\n",
      "[CV 4/5] END leaf_size=30, n_neighbors=3, p=2, weights=uniform;, score=0.949 total time=   0.0s\n",
      "[CV 5/5] END leaf_size=30, n_neighbors=3, p=2, weights=uniform;, score=0.966 total time=   0.0s\n",
      "[CV 1/5] END leaf_size=30, n_neighbors=3, p=2, weights=distance;, score=0.916 total time=   0.0s\n",
      "[CV 2/5] END leaf_size=30, n_neighbors=3, p=2, weights=distance;, score=0.971 total time=   0.0s\n",
      "[CV 3/5] END leaf_size=30, n_neighbors=3, p=2, weights=distance;, score=0.971 total time=   0.0s\n",
      "[CV 4/5] END leaf_size=30, n_neighbors=3, p=2, weights=distance;, score=0.949 total time=   0.0s\n",
      "[CV 5/5] END leaf_size=30, n_neighbors=3, p=2, weights=distance;, score=0.967 total time=   0.0s\n",
      "[CV 1/5] END leaf_size=30, n_neighbors=5, p=1, weights=uniform;, score=0.916 total time=   0.0s\n",
      "[CV 2/5] END leaf_size=30, n_neighbors=5, p=1, weights=uniform;, score=0.990 total time=   0.0s\n",
      "[CV 3/5] END leaf_size=30, n_neighbors=5, p=1, weights=uniform;, score=0.980 total time=   0.0s\n",
      "[CV 4/5] END leaf_size=30, n_neighbors=5, p=1, weights=uniform;, score=0.962 total time=   0.0s\n",
      "[CV 5/5] END leaf_size=30, n_neighbors=5, p=1, weights=uniform;, score=0.981 total time=   0.0s\n",
      "[CV 1/5] END leaf_size=30, n_neighbors=5, p=1, weights=distance;, score=0.916 total time=   0.0s\n",
      "[CV 2/5] END leaf_size=30, n_neighbors=5, p=1, weights=distance;, score=0.990 total time=   0.0s\n",
      "[CV 3/5] END leaf_size=30, n_neighbors=5, p=1, weights=distance;, score=0.979 total time=   0.0s\n",
      "[CV 4/5] END leaf_size=30, n_neighbors=5, p=1, weights=distance;, score=0.962 total time=   0.0s\n",
      "[CV 5/5] END leaf_size=30, n_neighbors=5, p=1, weights=distance;, score=0.982 total time=   0.0s\n",
      "[CV 1/5] END leaf_size=30, n_neighbors=5, p=2, weights=uniform;, score=0.916 total time=   0.0s\n",
      "[CV 2/5] END leaf_size=30, n_neighbors=5, p=2, weights=uniform;, score=0.981 total time=   0.0s\n",
      "[CV 3/5] END leaf_size=30, n_neighbors=5, p=2, weights=uniform;, score=0.972 total time=   0.0s\n",
      "[CV 4/5] END leaf_size=30, n_neighbors=5, p=2, weights=uniform;, score=0.947 total time=   0.0s\n",
      "[CV 5/5] END leaf_size=30, n_neighbors=5, p=2, weights=uniform;, score=0.979 total time=   0.0s\n",
      "[CV 1/5] END leaf_size=30, n_neighbors=5, p=2, weights=distance;, score=0.916 total time=   0.0s\n",
      "[CV 2/5] END leaf_size=30, n_neighbors=5, p=2, weights=distance;, score=0.984 total time=   0.0s\n",
      "[CV 3/5] END leaf_size=30, n_neighbors=5, p=2, weights=distance;, score=0.973 total time=   0.0s\n",
      "[CV 4/5] END leaf_size=30, n_neighbors=5, p=2, weights=distance;, score=0.948 total time=   0.0s\n",
      "[CV 5/5] END leaf_size=30, n_neighbors=5, p=2, weights=distance;, score=0.979 total time=   0.0s\n",
      "[CV 1/5] END leaf_size=30, n_neighbors=7, p=1, weights=uniform;, score=0.916 total time=   0.0s\n",
      "[CV 2/5] END leaf_size=30, n_neighbors=7, p=1, weights=uniform;, score=0.987 total time=   0.0s\n",
      "[CV 3/5] END leaf_size=30, n_neighbors=7, p=1, weights=uniform;, score=0.978 total time=   0.0s\n",
      "[CV 4/5] END leaf_size=30, n_neighbors=7, p=1, weights=uniform;, score=0.958 total time=   0.0s\n",
      "[CV 5/5] END leaf_size=30, n_neighbors=7, p=1, weights=uniform;, score=0.994 total time=   0.0s\n",
      "[CV 1/5] END leaf_size=30, n_neighbors=7, p=1, weights=distance;, score=0.916 total time=   0.0s\n",
      "[CV 2/5] END leaf_size=30, n_neighbors=7, p=1, weights=distance;, score=0.989 total time=   0.0s\n",
      "[CV 3/5] END leaf_size=30, n_neighbors=7, p=1, weights=distance;, score=0.978 total time=   0.0s\n",
      "[CV 4/5] END leaf_size=30, n_neighbors=7, p=1, weights=distance;, score=0.959 total time=   0.0s\n",
      "[CV 5/5] END leaf_size=30, n_neighbors=7, p=1, weights=distance;, score=0.995 total time=   0.0s\n",
      "[CV 1/5] END leaf_size=30, n_neighbors=7, p=2, weights=uniform;, score=0.915 total time=   0.0s\n",
      "[CV 2/5] END leaf_size=30, n_neighbors=7, p=2, weights=uniform;, score=0.985 total time=   0.0s\n",
      "[CV 3/5] END leaf_size=30, n_neighbors=7, p=2, weights=uniform;, score=0.972 total time=   0.0s\n",
      "[CV 4/5] END leaf_size=30, n_neighbors=7, p=2, weights=uniform;, score=0.956 total time=   0.0s\n",
      "[CV 5/5] END leaf_size=30, n_neighbors=7, p=2, weights=uniform;, score=0.992 total time=   0.0s\n",
      "[CV 1/5] END leaf_size=30, n_neighbors=7, p=2, weights=distance;, score=0.915 total time=   0.0s\n",
      "[CV 2/5] END leaf_size=30, n_neighbors=7, p=2, weights=distance;, score=0.986 total time=   0.0s\n",
      "[CV 3/5] END leaf_size=30, n_neighbors=7, p=2, weights=distance;, score=0.973 total time=   0.0s\n",
      "[CV 4/5] END leaf_size=30, n_neighbors=7, p=2, weights=distance;, score=0.956 total time=   0.0s\n",
      "[CV 5/5] END leaf_size=30, n_neighbors=7, p=2, weights=distance;, score=0.993 total time=   0.0s\n"
     ]
    },
    {
     "data": {
      "text/html": [
       "<style>#sk-container-id-4 {color: black;background-color: white;}#sk-container-id-4 pre{padding: 0;}#sk-container-id-4 div.sk-toggleable {background-color: white;}#sk-container-id-4 label.sk-toggleable__label {cursor: pointer;display: block;width: 100%;margin-bottom: 0;padding: 0.3em;box-sizing: border-box;text-align: center;}#sk-container-id-4 label.sk-toggleable__label-arrow:before {content: \"▸\";float: left;margin-right: 0.25em;color: #696969;}#sk-container-id-4 label.sk-toggleable__label-arrow:hover:before {color: black;}#sk-container-id-4 div.sk-estimator:hover label.sk-toggleable__label-arrow:before {color: black;}#sk-container-id-4 div.sk-toggleable__content {max-height: 0;max-width: 0;overflow: hidden;text-align: left;background-color: #f0f8ff;}#sk-container-id-4 div.sk-toggleable__content pre {margin: 0.2em;color: black;border-radius: 0.25em;background-color: #f0f8ff;}#sk-container-id-4 input.sk-toggleable__control:checked~div.sk-toggleable__content {max-height: 200px;max-width: 100%;overflow: auto;}#sk-container-id-4 input.sk-toggleable__control:checked~label.sk-toggleable__label-arrow:before {content: \"▾\";}#sk-container-id-4 div.sk-estimator input.sk-toggleable__control:checked~label.sk-toggleable__label {background-color: #d4ebff;}#sk-container-id-4 div.sk-label input.sk-toggleable__control:checked~label.sk-toggleable__label {background-color: #d4ebff;}#sk-container-id-4 input.sk-hidden--visually {border: 0;clip: rect(1px 1px 1px 1px);clip: rect(1px, 1px, 1px, 1px);height: 1px;margin: -1px;overflow: hidden;padding: 0;position: absolute;width: 1px;}#sk-container-id-4 div.sk-estimator {font-family: monospace;background-color: #f0f8ff;border: 1px dotted black;border-radius: 0.25em;box-sizing: border-box;margin-bottom: 0.5em;}#sk-container-id-4 div.sk-estimator:hover {background-color: #d4ebff;}#sk-container-id-4 div.sk-parallel-item::after {content: \"\";width: 100%;border-bottom: 1px solid gray;flex-grow: 1;}#sk-container-id-4 div.sk-label:hover label.sk-toggleable__label {background-color: #d4ebff;}#sk-container-id-4 div.sk-serial::before {content: \"\";position: absolute;border-left: 1px solid gray;box-sizing: border-box;top: 0;bottom: 0;left: 50%;z-index: 0;}#sk-container-id-4 div.sk-serial {display: flex;flex-direction: column;align-items: center;background-color: white;padding-right: 0.2em;padding-left: 0.2em;position: relative;}#sk-container-id-4 div.sk-item {position: relative;z-index: 1;}#sk-container-id-4 div.sk-parallel {display: flex;align-items: stretch;justify-content: center;background-color: white;position: relative;}#sk-container-id-4 div.sk-item::before, #sk-container-id-4 div.sk-parallel-item::before {content: \"\";position: absolute;border-left: 1px solid gray;box-sizing: border-box;top: 0;bottom: 0;left: 50%;z-index: -1;}#sk-container-id-4 div.sk-parallel-item {display: flex;flex-direction: column;z-index: 1;position: relative;background-color: white;}#sk-container-id-4 div.sk-parallel-item:first-child::after {align-self: flex-end;width: 50%;}#sk-container-id-4 div.sk-parallel-item:last-child::after {align-self: flex-start;width: 50%;}#sk-container-id-4 div.sk-parallel-item:only-child::after {width: 0;}#sk-container-id-4 div.sk-dashed-wrapped {border: 1px dashed gray;margin: 0 0.4em 0.5em 0.4em;box-sizing: border-box;padding-bottom: 0.4em;background-color: white;}#sk-container-id-4 div.sk-label label {font-family: monospace;font-weight: bold;display: inline-block;line-height: 1.2em;}#sk-container-id-4 div.sk-label-container {text-align: center;}#sk-container-id-4 div.sk-container {/* jupyter's `normalize.less` sets `[hidden] { display: none; }` but bootstrap.min.css set `[hidden] { display: none !important; }` so we also need the `!important` here to be able to override the default hidden behavior on the sphinx rendered scikit-learn.org. See: https://github.com/scikit-learn/scikit-learn/issues/21755 */display: inline-block !important;position: relative;}#sk-container-id-4 div.sk-text-repr-fallback {display: none;}</style><div id=\"sk-container-id-4\" class=\"sk-top-container\"><div class=\"sk-text-repr-fallback\"><pre>GridSearchCV(estimator=KNeighborsClassifier(),\n",
       "             param_grid={&#x27;leaf_size&#x27;: [10, 20, 30], &#x27;n_neighbors&#x27;: [2, 3, 5, 7],\n",
       "                         &#x27;p&#x27;: [1, 2], &#x27;weights&#x27;: [&#x27;uniform&#x27;, &#x27;distance&#x27;]},\n",
       "             scoring=&#x27;roc_auc&#x27;, verbose=5)</pre><b>In a Jupyter environment, please rerun this cell to show the HTML representation or trust the notebook. <br />On GitHub, the HTML representation is unable to render, please try loading this page with nbviewer.org.</b></div><div class=\"sk-container\" hidden><div class=\"sk-item sk-dashed-wrapped\"><div class=\"sk-label-container\"><div class=\"sk-label sk-toggleable\"><input class=\"sk-toggleable__control sk-hidden--visually\" id=\"sk-estimator-id-10\" type=\"checkbox\" ><label for=\"sk-estimator-id-10\" class=\"sk-toggleable__label sk-toggleable__label-arrow\">GridSearchCV</label><div class=\"sk-toggleable__content\"><pre>GridSearchCV(estimator=KNeighborsClassifier(),\n",
       "             param_grid={&#x27;leaf_size&#x27;: [10, 20, 30], &#x27;n_neighbors&#x27;: [2, 3, 5, 7],\n",
       "                         &#x27;p&#x27;: [1, 2], &#x27;weights&#x27;: [&#x27;uniform&#x27;, &#x27;distance&#x27;]},\n",
       "             scoring=&#x27;roc_auc&#x27;, verbose=5)</pre></div></div></div><div class=\"sk-parallel\"><div class=\"sk-parallel-item\"><div class=\"sk-item\"><div class=\"sk-label-container\"><div class=\"sk-label sk-toggleable\"><input class=\"sk-toggleable__control sk-hidden--visually\" id=\"sk-estimator-id-11\" type=\"checkbox\" ><label for=\"sk-estimator-id-11\" class=\"sk-toggleable__label sk-toggleable__label-arrow\">estimator: KNeighborsClassifier</label><div class=\"sk-toggleable__content\"><pre>KNeighborsClassifier()</pre></div></div></div><div class=\"sk-serial\"><div class=\"sk-item\"><div class=\"sk-estimator sk-toggleable\"><input class=\"sk-toggleable__control sk-hidden--visually\" id=\"sk-estimator-id-12\" type=\"checkbox\" ><label for=\"sk-estimator-id-12\" class=\"sk-toggleable__label sk-toggleable__label-arrow\">KNeighborsClassifier</label><div class=\"sk-toggleable__content\"><pre>KNeighborsClassifier()</pre></div></div></div></div></div></div></div></div></div></div>"
      ],
      "text/plain": [
       "GridSearchCV(estimator=KNeighborsClassifier(),\n",
       "             param_grid={'leaf_size': [10, 20, 30], 'n_neighbors': [2, 3, 5, 7],\n",
       "                         'p': [1, 2], 'weights': ['uniform', 'distance']},\n",
       "             scoring='roc_auc', verbose=5)"
      ]
     },
     "execution_count": 79,
     "metadata": {},
     "output_type": "execute_result"
    }
   ],
   "source": [
    "cv_grid = GridSearchCV(knn_2, param_grid = rf_tuned_params, scoring = 'roc_auc', verbose = 5) # 'recall', my_score\n",
    "cv_grid.fit(X_train, y_train)"
   ]
  },
  {
   "cell_type": "code",
   "execution_count": 80,
   "id": "153c90a6-568a-4f15-bc17-1765994dc2f0",
   "metadata": {},
   "outputs": [
    {
     "data": {
      "text/plain": [
       "{'algorithm': 'auto',\n",
       " 'leaf_size': 10,\n",
       " 'metric': 'minkowski',\n",
       " 'metric_params': None,\n",
       " 'n_jobs': None,\n",
       " 'n_neighbors': 7,\n",
       " 'p': 1,\n",
       " 'weights': 'distance'}"
      ]
     },
     "execution_count": 80,
     "metadata": {},
     "output_type": "execute_result"
    }
   ],
   "source": [
    "best_parameters = cv_grid.best_estimator_.get_params()\n",
    "best_parameters"
   ]
  },
  {
   "cell_type": "code",
   "execution_count": 81,
   "id": "e978fe67-8146-457d-a55e-ce2824bff6aa",
   "metadata": {},
   "outputs": [
    {
     "name": "stdout",
     "output_type": "stream",
     "text": [
      "Confusion Matrix : \n",
      " [[40  5]\n",
      " [ 4 65]]\n",
      "Accuracy Score is 0.921052632\n",
      "Classification Report : \n",
      "               precision    recall  f1-score   support\n",
      "\n",
      "           0       0.91      0.89      0.90        45\n",
      "           1       0.93      0.94      0.94        69\n",
      "\n",
      "    accuracy                           0.92       114\n",
      "   macro avg       0.92      0.92      0.92       114\n",
      "weighted avg       0.92      0.92      0.92       114\n",
      "\n",
      "AUC-ROC: 0.9154589371980676\n",
      "LOGLOSS Value is 2.8456\n"
     ]
    }
   ],
   "source": [
    "knn_2_pred = cv_grid.predict(X_test)\n",
    "fpr, tpr, thresholds = roc_curve(y_test, knn_2_pred)\n",
    "roc_auc = auc(fpr, tpr)\n",
    "results = confusion_matrix(y_test, knn_2_pred)\n",
    "print('Confusion Matrix : \\n', results)\n",
    "print('Accuracy Score is %.9f' % (accuracy_score(y_test, knn_2_pred)))\n",
    "print('Classification Report : \\n', classification_report(y_test, knn_2_pred))\n",
    "print('AUC-ROC:',roc_auc_score(y_test, knn_2_pred))\n",
    "print('LOGLOSS Value is %.4f' % log_loss(y_test, knn_2_pred))"
   ]
  },
  {
   "cell_type": "markdown",
   "id": "dd6dd5d0-bb64-42ad-ac4c-b2ee7922e695",
   "metadata": {},
   "source": [
    "##### Accuracy Evaluation of the above 4 Classifiers without tuning Hyper-Parameters"
   ]
  },
  {
   "cell_type": "code",
   "execution_count": 95,
   "id": "427b7182-8a5b-4e32-8e4f-74ac1f1b4eb9",
   "metadata": {},
   "outputs": [
    {
     "name": "stdout",
     "output_type": "stream",
     "text": [
      "Accuracies of Models without tuninig hyper-parameters:\n"
     ]
    },
    {
     "data": {
      "text/html": [
       "<div>\n",
       "<style scoped>\n",
       "    .dataframe tbody tr th:only-of-type {\n",
       "        vertical-align: middle;\n",
       "    }\n",
       "\n",
       "    .dataframe tbody tr th {\n",
       "        vertical-align: top;\n",
       "    }\n",
       "\n",
       "    .dataframe thead th {\n",
       "        text-align: right;\n",
       "    }\n",
       "</style>\n",
       "<table border=\"1\" class=\"dataframe\">\n",
       "  <thead>\n",
       "    <tr style=\"text-align: right;\">\n",
       "      <th></th>\n",
       "      <th>DecisionTreeClassifier</th>\n",
       "      <th>RandomForestClassifier</th>\n",
       "      <th>GradientBoostingClassifier</th>\n",
       "      <th>K-NearestNeighborClassifier</th>\n",
       "    </tr>\n",
       "  </thead>\n",
       "  <tbody>\n",
       "    <tr>\n",
       "      <th>Accuracy with tuning hyperparameter</th>\n",
       "      <td>0.921053</td>\n",
       "      <td>0.921053</td>\n",
       "      <td>0.956140</td>\n",
       "      <td>0.921053</td>\n",
       "    </tr>\n",
       "    <tr>\n",
       "      <th>Accuracy without tuning hyperparameter</th>\n",
       "      <td>0.921053</td>\n",
       "      <td>0.947368</td>\n",
       "      <td>0.929825</td>\n",
       "      <td>0.912281</td>\n",
       "    </tr>\n",
       "  </tbody>\n",
       "</table>\n",
       "</div>"
      ],
      "text/plain": [
       "                                        DecisionTreeClassifier  \\\n",
       "Accuracy with tuning hyperparameter                   0.921053   \n",
       "Accuracy without tuning hyperparameter                0.921053   \n",
       "\n",
       "                                        RandomForestClassifier  \\\n",
       "Accuracy with tuning hyperparameter                   0.921053   \n",
       "Accuracy without tuning hyperparameter                0.947368   \n",
       "\n",
       "                                        GradientBoostingClassifier  \\\n",
       "Accuracy with tuning hyperparameter                       0.956140   \n",
       "Accuracy without tuning hyperparameter                    0.929825   \n",
       "\n",
       "                                        K-NearestNeighborClassifier  \n",
       "Accuracy with tuning hyperparameter                        0.921053  \n",
       "Accuracy without tuning hyperparameter                     0.912281  "
      ]
     },
     "execution_count": 95,
     "metadata": {},
     "output_type": "execute_result"
    }
   ],
   "source": [
    "dt_2_score= accuracy_score(y_test, dt_2_pred)\n",
    "rf_2_score= accuracy_score(y_test, rf_2_pred)\n",
    "gbm_2_score= accuracy_score(y_test, gbm_2_pred)\n",
    "knn_2_score= accuracy_score(y_test, knn_2_pred)\n",
    "\n",
    "metric_2_df= pd.DataFrame({'DecisionTreeClassifier':[dt_2_score,dt_1_acc],\n",
    "                         'RandomForestClassifier':[rf_2_score,rfr_1_acc],\n",
    "                         'GradientBoostingClassifier':[gbm_2_score,gbm_1_acc],\n",
    "                         'K-NearestNeighborClassifier':[knn_2_score,knn_1_acc]},\n",
    "                          index=['Accuracy with tuning hyperparameter','Accuracy without tuning hyperparameter'])\n",
    "print('Accuracies of Models without tuninig hyper-parameters:')\n",
    "metric_2_df\n"
   ]
  },
  {
   "cell_type": "markdown",
   "id": "ad6b5c39-1c48-4dd5-9098-3a96403f09ec",
   "metadata": {},
   "source": [
    "# Conclusion: \n",
    "## Gradient Boosting Classifier and KNN Classifier shows improvement in accuracy after tuning hyperparameters. \n",
    "## The accuracy of DecisionTreeClassifier remains the same. \n",
    "## The accuracy of RandomForestClassifier degrades."
   ]
  },
  {
   "cell_type": "markdown",
   "id": "19166226-54c8-406c-b843-19bdf2f449da",
   "metadata": {},
   "source": [
    "# End-of-File"
   ]
  },
  {
   "cell_type": "code",
   "execution_count": null,
   "id": "4448e754-9163-4619-8a34-971aaca0da8a",
   "metadata": {},
   "outputs": [],
   "source": []
  }
 ],
 "metadata": {
  "kernelspec": {
   "display_name": "Python 3 (ipykernel)",
   "language": "python",
   "name": "python3"
  },
  "language_info": {
   "codemirror_mode": {
    "name": "ipython",
    "version": 3
   },
   "file_extension": ".py",
   "mimetype": "text/x-python",
   "name": "python",
   "nbconvert_exporter": "python",
   "pygments_lexer": "ipython3",
   "version": "3.8.16"
  }
 },
 "nbformat": 4,
 "nbformat_minor": 5
}
